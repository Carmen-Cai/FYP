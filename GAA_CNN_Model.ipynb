{
  "nbformat": 4,
  "nbformat_minor": 0,
  "metadata": {
    "colab": {
      "name": "GAA-CNN_Model.ipynb",
      "provenance": [],
      "collapsed_sections": [
        "_uBr9JVb7zWO",
        "bMcFYZ4y8Oq-",
        "c_YJqGSH8ZSj"
      ],
      "authorship_tag": "ABX9TyM6/BDI0l4BYZj8IW23Dyje",
      "include_colab_link": true
    },
    "kernelspec": {
      "name": "python3",
      "display_name": "Python 3"
    },
    "language_info": {
      "name": "python"
    },
    "accelerator": "GPU"
  },
  "cells": [
    {
      "cell_type": "markdown",
      "metadata": {
        "id": "view-in-github",
        "colab_type": "text"
      },
      "source": [
        "<a href=\"https://colab.research.google.com/github/Carmen-Cai/FYP/blob/main/GAA_CNN_Model.ipynb\" target=\"_parent\"><img src=\"https://colab.research.google.com/assets/colab-badge.svg\" alt=\"Open In Colab\"/></a>"
      ]
    },
    {
      "cell_type": "markdown",
      "source": [
        "#Settgings"
      ],
      "metadata": {
        "id": "B-xosFjC3bcq"
      }
    },
    {
      "cell_type": "markdown",
      "source": [
        "##Google docs"
      ],
      "metadata": {
        "id": "7rfrc10G4Hpw"
      }
    },
    {
      "cell_type": "code",
      "source": [
        "# Load the Drive helper and mount\n",
        "from google.colab import drive\n",
        "\n",
        "# This will prompt for authorization.\n",
        "drive.mount('/content/drive')\n",
        "# !ls \"/content/drive/My Drive/FYP/ECGpdf2data/data/train/cropped_png/Recur\""
      ],
      "metadata": {
        "id": "PO1X1G6J4MZJ",
        "colab": {
          "base_uri": "https://localhost:8080/"
        },
        "outputId": "ea38a2fe-aa27-4df4-a55e-deb31e6146bb"
      },
      "execution_count": null,
      "outputs": [
        {
          "output_type": "stream",
          "name": "stdout",
          "text": [
            "Drive already mounted at /content/drive; to attempt to forcibly remount, call drive.mount(\"/content/drive\", force_remount=True).\n"
          ]
        }
      ]
    },
    {
      "cell_type": "markdown",
      "source": [
        "##imports"
      ],
      "metadata": {
        "id": "9ocwwCYQ3uUJ"
      }
    },
    {
      "cell_type": "code",
      "source": [
        "# !pip install -U scikit-learn\n",
        "# !pip install visdom\n",
        "!pip install pytorchtools\n",
        "# from pytorchtools import EarlyStopping"
      ],
      "metadata": {
        "id": "8ynNWHFN34Xr",
        "colab": {
          "base_uri": "https://localhost:8080/"
        },
        "outputId": "b956489a-4083-4bc0-de95-0e91df3543ef"
      },
      "execution_count": null,
      "outputs": [
        {
          "output_type": "stream",
          "name": "stdout",
          "text": [
            "Looking in indexes: https://pypi.org/simple, https://us-python.pkg.dev/colab-wheels/public/simple/\n",
            "Requirement already satisfied: pytorchtools in /usr/local/lib/python3.7/dist-packages (0.0.2)\n"
          ]
        }
      ]
    },
    {
      "cell_type": "code",
      "source": [
        "import torch \n",
        "import torch.nn as nn\n",
        "import torchvision\n",
        "from torchvision.utils import save_image\n",
        "import torchvision.transforms as T \n",
        "from torch import optim\n",
        "import torch.nn.functional as F\n",
        "import numpy as np \n",
        "import os\n",
        "from os import path\n",
        "#from google.colab import auth\n",
        "import cv2\n",
        "from google.colab.patches import cv2_imshow\n",
        "import pandas as pd\n",
        "import sklearn.metrics as metrics\n",
        "from sklearn.metrics import accuracy_score\n",
        "from sklearn.model_selection import train_test_split\n",
        "from matplotlib import pyplot\n",
        "import matplotlib.pyplot as plt\n",
        "from PIL import Image\n",
        "from statistics import mean\n",
        "import torch.utils.data as data\n",
        "# import EarlyStopping\n",
        "# from pytorchtools import EarlyStopping\n",
        "#auth.authenticate_user()\n",
        "\n",
        "#from visdom import Visdom \n",
        "\n",
        "torch.cuda.is_available()"
      ],
      "metadata": {
        "id": "-AHeF2Us3glh",
        "colab": {
          "base_uri": "https://localhost:8080/"
        },
        "outputId": "9a7419b3-ed17-4e48-cc96-844bf880787c"
      },
      "execution_count": null,
      "outputs": [
        {
          "output_type": "execute_result",
          "data": {
            "text/plain": [
              "True"
            ]
          },
          "metadata": {},
          "execution_count": 3
        }
      ]
    },
    {
      "cell_type": "markdown",
      "source": [
        "##Parameter settings"
      ],
      "metadata": {
        "id": "h-yAjG_Y4RUZ"
      }
    },
    {
      "cell_type": "code",
      "source": [
        "args = {\n",
        "    #\"root\":\"/media/imed/GAA\",\n",
        "    \"root_GAA\":\"/content/drive/My Drive/FYP_Yixin_Cai/GAA_data\",#/origin_png/\",\n",
        "    \"root_CNN\":\"/content/drive/My Drive/FYP_Yixin_Cai/CNN_data\",\n",
        "    \"img_save_path\":\"./save_img\",\n",
        "    \"epoches\":20,#400,\n",
        "    \"lr\": 0.8e-4,#5, 来回 -》4\n",
        "    \"lr_cnn\":1e-3,\n",
        "    \"lr_ed\": 1e-3,\n",
        "    \"snapshot\":100,\n",
        "    \"test_step\":1,\n",
        "    \"ckpt_path\":\"/content/drive/My Drive/FYP_Yixin_Cai/GAA_data/checkpoint/\",\n",
        "    \"ckpt_path2\":\"/content/drive/My Drive/FYP_Yixin_Cai/CNN_data/checkpoint/\",\n",
        "    #\"ckpt_path\":\"/media/imed/Checkpoint/GAA/\",\n",
        "    \"batch_size\":25,\n",
        "    \"cnn_batch_size\":5,\n",
        "    \"name\":\"GAA\",\n",
        "    \"drop_out\":0.2,\n",
        "    \"best_acc\":0.9,\n",
        "    \"loss_img_folder\":3,\n",
        "    \"time\":0\n",
        "}"
      ],
      "metadata": {
        "id": "-RxMPgga4V2h"
      },
      "execution_count": null,
      "outputs": []
    },
    {
      "cell_type": "markdown",
      "source": [
        "#Data Loading"
      ],
      "metadata": {
        "id": "Mu3LU1S65a-C"
      }
    },
    {
      "cell_type": "markdown",
      "source": [
        "##Basic Functions"
      ],
      "metadata": {
        "id": "CYf1QTM25NEd"
      }
    },
    {
      "cell_type": "code",
      "source": [
        "def random_HSV(image,h_limit=(-180,180),s_limit=(-255,255),v_limit=(-255,255),u=0.5):\n",
        "    if np.random.random() < u:\n",
        "        #rgb -> hsv\n",
        "        image = cv2.cvtColor(image,cv2.COLOR_BGR2HSV)\n",
        "        h,s,v = cv2.split(image)\n",
        "        h_shift = np.random.randint(h_limit[0],h_limit[1] + 1 )\n",
        "        h_shift = np.uint8(h_shift)\n",
        "        h += h_shift \n",
        "        s_shift = np.random.uniform(s_limit[0],s_limit[1])\n",
        "        s = cv2.add(s,s_shift)\n",
        "        v_shift = np.random.uniform(v_limit[0],v_limit[1])\n",
        "        v = cv2.add(v,v_shift)\n",
        "        image = cv2.merge((h,s,v))\n",
        "        image = cv2.cvtColor(image,cv2.COLOR_HSV2BGR)\n",
        "        # print(\"HSV image type\", type(image),image.shape)\n",
        "    return image\n",
        "\n",
        "def random_ShiftScaleRotate(image,mask,shift_limit=(-0.0,0.0),\n",
        "                            scale_limit=(-0.0,0.0),rotate_limit=(-0.0,0.0),\n",
        "                            aspect_limit=(-0.0,0.0),borderMode=cv2.BORDER_CONSTANT,u=0.5):\n",
        "\n",
        "    if np.random.random() < u:\n",
        "        height,width,channel = image.shape               \n",
        "        angle = np.random.uniform(rotate_limit[0],rotate_limit[1])\n",
        "        scale = np.random.uniform(1 + scale_limit[0],1 + scale_limit[1])\n",
        "        aspect = np.random.uniform(1 + aspect_limit[0],1 + aspect_limit[1])\n",
        "\n",
        "        sx = scale * aspect / (aspect ** 0.5)\n",
        "        sy = scale * (aspect ** 0.5)\n",
        "        dx = round(np.random.uniform(shift_limit[0],shift_limit[1]) * width)\n",
        "        dy = round(np.random.uniform(shift_limit[0],shift_limit[1]) * height)\n",
        "\n",
        "        cc = np.math.cos(angle / 180 * np.math.pi) * sx\n",
        "        ss = np.math.sin(angle / 180 * np.math.pi) * sy\n",
        "        rotate_matrix = np.array([[cc,-ss],[ss,cc]])\n",
        "\n",
        "        box0 = np.array([[0,0],[width,0],[width,height],[0,height]])\n",
        "        box1 = box0 - np.array([width / 2,height / 2])\n",
        "        box1 = np.dot(box1,rotate_matrix.T) + np.array([width / 2 + dx,height / 2 + dy])\n",
        "\n",
        "        box0 = box0.astype(np.float32)\n",
        "        box1 = box1.astype(np.float32)\n",
        "        mat = cv2.getPerspectiveTransform(box0,box1)\n",
        "        image = cv2.warpPerspective(image,mat,(width,height),flags=cv2.INTER_LINEAR,borderMode=borderMode,borderValue=(0,0,0))\n",
        "        mask = cv2.warpPerspective(mask,mat,(width,height),flags=cv2.INTER_LINEAR,borderMode=borderMode,borderValue=(0,0,0))\n",
        "\n",
        "    return image,mask\n",
        "\n",
        "\n",
        "def randomFlip_H(image,mask,u=0.5):\n",
        "    if np.random.random() < u:\n",
        "        image = cv2.flip(image, 1)\n",
        "        if type(mask)==type(np.array([1])):\n",
        "            mask = cv2.flip(mask,1)\n",
        "    return image,mask\n",
        "\n",
        "def randomFlip_V(image,mask,u=0.5):\n",
        "    if np.random.random() < u:\n",
        "        image = cv2.flip(image,0)\n",
        "        mask = cv2.flip(mask,0)\n",
        "    return image,mask\n",
        "\n",
        "def randomRotate_90(image,mask,u=0.5):\n",
        "    if np.random.random() < u:\n",
        "        image = np.rot90(image)\n",
        "        mask = np.rot90(mask)\n",
        "\n",
        "    return image,mask\n",
        "\n",
        "def get_one_hot(label,N):\n",
        "    size = list(label.size())\n",
        "    label = label.view(-1)\n",
        "    ones = torch.sparse.torch.eye(N)\n",
        "    ones = ones.index_select(0,label)\n",
        "    size.append(N)\n",
        "\n",
        "    return ones.view(*size)  \n",
        "\n",
        "def param_copy(param_s,param_t,alpha,epoch):\n",
        "    # param_s = list(param_s)\n",
        "    # param_t = list(param_t)\n",
        "    if epoch <= 1:\n",
        "        for ps,pt in zip(param_s,param_t):\n",
        "            pt.data[:] = ps.data[:]\n",
        "\n",
        "    else:\n",
        "        for ps,pt in zip(param_s,param_t):\n",
        "            pt.data.mul_(alpha)\n",
        "            pt.data.add_(ps.data * (1-alpha))"
      ],
      "metadata": {
        "id": "umF7AAiB5IZx"
      },
      "execution_count": null,
      "outputs": []
    },
    {
      "cell_type": "code",
      "source": [
        "from torch.nn.modules import loss\n",
        "\n",
        "def plot_loss(loss_dataset,loss_name,loss_dataset2=[],loss_name2=''):# visualize the loss as the network trained\n",
        "  \n",
        "  fig = plt.figure(figsize=(10,8))\n",
        "  plt.plot(range(1,len(loss_dataset)+1),loss_dataset, label=loss_name)\n",
        "  plt.ylim(0, 1.1*max(loss_dataset))\n",
        "  if loss_dataset2!=[]:\n",
        "    plt.plot(range(1,len(loss_dataset2)+1),loss_dataset2,label=loss_name2)\n",
        "    plt.ylim(0, 1.1*max(loss_dataset) if max(loss_dataset)> max(loss_dataset2) else 1.1*max(loss_dataset2))\n",
        "\n",
        "\n",
        "  plt.xlabel('Epochs')\n",
        "  plt.ylabel('loss')\n",
        "  plt.xlim(0, len(loss_dataset)+1) # consistent scale\n",
        "  plt.grid(True)\n",
        "  plt.legend()\n",
        "  plt.tight_layout()\n",
        "  plt.show()\n",
        "  img_name=loss_name+loss_name2 if loss_name2 != '' else loss_name\n",
        "  # fig.savefig('/content/drive/My Drive/FYP_Yixin_Cai/CNN_data/loss/loss_img/'+str(args['time'])+\"_\"+img_name+'.png', bbox_inches='tight' )"
      ],
      "metadata": {
        "id": "OZN_W_TS9BD6"
      },
      "execution_count": null,
      "outputs": []
    },
    {
      "cell_type": "markdown",
      "source": [
        "##Class Image and Choroid_loader"
      ],
      "metadata": {
        "id": "_tIAYgfq6kZM"
      }
    },
    {
      "cell_type": "code",
      "source": [
        "class ImageFloder(data.Dataset):\n",
        "    def __init__(self,root_path,datasets=\"GAA\",mode=\"train\"):\n",
        "        self.root = root_path\n",
        "        self.mode = mode\n",
        "        self.dataset = datasets\n",
        "\n",
        "        if self.dataset == \"GAA\":#\"CHOROID\":\n",
        "            if self.mode==\"train\":\n",
        "                # self.images, self.labels, self.img_target, self.mask_target = read_datasets(self.root,self.mode) #mask_target is the label for cnn model\n",
        "                self.images, self.labels, self.img_target = read_datasets(self.root,self.mode,self.dataset)\n",
        "            \n",
        "            if self.mode==\"validation\":\n",
        "                # self.images, self.labels, self.img_target, self.mask_target = read_datasets(self.root,self.mode) #mask_target is the label for cnn model\n",
        "                self.images, self.labels, self.img_target = read_datasets(self.root,self.mode)\n",
        "            \n",
        "            if self.mode == \"test\":\n",
        "                self.images, self.labels = read_datasets(self.root, self.mode) #labels is the label for cnn model\n",
        "        \n",
        "        if self.dataset == \"CNN\":\n",
        "            self.images, self.labels = read_datasets(self.root,self.mode,self.dataset)\n",
        "            \n",
        "    \n",
        "    def __getitem__(self,index):\n",
        "      if self.dataset == \"GAA\":#\"CHOROID\":\n",
        "        if self.mode == \"train\" :#or self.mode == \"test\":\n",
        "            img, mask, img_t = default_loader(mode=self.mode,img_path=self.images[index], mask_path=self.labels[index],\n",
        "                                      img_t_path=self.img_target[index])#,mask_t_path=self.mask_target[index])\n",
        "            # img, mask, img_t, mask_t = default_loader(mode=self.mode,img_path=self.images[index], mask_path=self.labels[index],\n",
        "            # img_t_path=self.img_target[index])#,mask_t_path=self.mask_target[index])\n",
        "            img = torch.Tensor(img)\n",
        "            mask = torch.Tensor(mask)\n",
        "            img_t = torch.Tensor(img_t)\n",
        "            # print(\"default loader, the size of pdf images are: \",img.size())\n",
        "            # print(\"default loader, the size of target images are: \",img_t.size())\n",
        "            return img,mask,img_t#,mask_t#,self.target_name[index]\n",
        "\n",
        "        if self.mode == \"validation\" :#or self.mode == \"test\":\n",
        "            img, mask, img_t = default_loader(mode=self.mode,img_path=self.images[index], mask_path=self.labels[index],\n",
        "                                      img_t_path=self.img_target[index])#,mask_t_path=self.mask_target[index])\n",
        "            # img, mask, img_t, mask_t = default_loader(mode=self.mode,img_path=self.images[index], mask_path=self.labels[index],\n",
        "            # img_t_path=self.img_target[index])#,mask_t_path=self.mask_target[index])\n",
        "            img = torch.Tensor(img)\n",
        "            mask = torch.Tensor(mask)\n",
        "            img_t = torch.Tensor(img_t)\n",
        "            return img,mask,img_t#,mask_t#,self.target_name[index]\n",
        "\n",
        "        if self.mode == \"test\" :\n",
        "            img= default_loader(mode=self.mode,img_path=self.images[index])\n",
        "            # img, mask= default_loader(mode=self.mode,img_path=self.images[index], mask_path=self.labels[index])\n",
        "            img = torch.Tensor(img)\n",
        "            return img,self.labels[index] #,self.target_name[index]\n",
        "\n",
        "\n",
        "      if self.dataset == \"CNN\":\n",
        "        img= default_loader(mode=self.mode,img_path=self.images[index])\n",
        "        img = torch.Tensor(img)\n",
        "        return img, self.labels[index]\n",
        "\n",
        "    def __len__(self):\n",
        "        assert len(self.images) == len(self.labels)\n",
        "        return len(self.images)\n",
        "\n",
        "class Choroid_loader:\n",
        "    def __init__(self,root_path,datasets):\n",
        "        self.root_path = root_path\n",
        "        self.datasets = datasets\n",
        "        pass\n",
        "    def load_train_data(self,batch_size):\n",
        "        dataset = ImageFloder(self.root_path,self.datasets,mode=\"train\")\n",
        "        train_loader = data.DataLoader(dataset,batch_size,num_workers=0,shuffle=True,pin_memory=True)\n",
        "        return train_loader\n",
        "\n",
        "    def load_val_data(self,batch_size):\n",
        "        dataset = ImageFloder(self.root_path,self.datasets,mode=\"validation\")\n",
        "        test_loader = data.DataLoader(dataset,batch_size,num_workers=0,shuffle=True,pin_memory=True)\n",
        "        return test_loader\n",
        "\n",
        "    def load_test_data(self,batch_size):\n",
        "        dataset = ImageFloder(self.root_path,self.datasets,mode=\"test\")\n",
        "        test_loader = data.DataLoader(dataset,batch_size,num_workers=0,shuffle=True,pin_memory=True)\n",
        "        return test_loader\n",
        "\n",
        "    # def load_pred_data(self):\n",
        "    #     dataset = ImageFloder(self.root_path,self.datasets,mode=\"pred\")\n",
        "    #     pred_loader = data.DataLoader(dataset,batch_size=1,num_workers=0,shuffle=False,pin_memory=True)\n",
        "    #     return pred_loader,dataset.images\n"
      ],
      "metadata": {
        "id": "CyhpolyL6-zL"
      },
      "execution_count": null,
      "outputs": []
    },
    {
      "cell_type": "markdown",
      "source": [
        "##Read_dataset"
      ],
      "metadata": {
        "id": "BXSpUd0M6lFP"
      }
    },
    {
      "cell_type": "code",
      "source": [
        "def read_datasets(root_path,mode=\"train\",dataset=\"GAA\"):\n",
        "\n",
        "    images = []\n",
        "    masks = []\n",
        "    images_target=[]\n",
        "    images_name=[]\n",
        "    labels=[]\n",
        "    #mask_target=[]\n",
        "    if dataset==\"GAA\":\n",
        "      if mode == \"train\":\n",
        "          outer_path = os.path.join(root_path,\"train\")\n",
        "          image_path = os.path.join(outer_path, \"cropped_png/cropped\") \n",
        "          label_path = os.path.join(outer_path, \"extracted_waveforms/extracted\")\n",
        "          image_target_path = os.path.join(outer_path, \"digitized_paper\")\n",
        "          #mask_target_path = os.path.join(outer_path, \"digitized_paper_diagnosis.csv\")\n",
        "\n",
        "          image_list = os.listdir(image_path)\n",
        "          image_list = [x for x in image_list if '.DS_Store' not in x]\n",
        "          image_list = [x for x in image_list if '.ipynb_checkpoints' not in x]\n",
        "\n",
        "          image_target_list = os.listdir(image_target_path)\n",
        "          image_target_list = [x for x in image_target_list if '.DS_Store' not in x]\n",
        "          image_target_list = [x for x in image_target_list if '.ipynb_checkpoints' not in x]\n",
        "\n",
        "          #mask_target_df = pd.read_csv(mask_target_path)\n",
        "\n",
        "          for image in image_list:\n",
        "              imagePath = os.path.join(image_path, image)\n",
        "              images.append(imagePath) #867\n",
        "\n",
        "              maskPath = os.path.join(label_path, image)\n",
        "              masks.append(maskPath) #867\n",
        "          # print(len(images),len(masks))\n",
        "          for image in image_target_list:\n",
        "              imagePath = os.path.join(image_target_path, image)\n",
        "              images_target.append(imagePath) #867\n",
        "              #result = mask_target_df[mask_target_df['ID'] == int(image[0:-4])]\n",
        "              #label = result['Diagnosis'].values[0]  # 应该加在default loader里面\n",
        "              #mask_target.append(label)\n",
        "          # print(len(images_target))\n",
        "          return images, masks, images_target #, mask_target #lists of addresses\n",
        "      \n",
        "      if mode == \"validation\":\n",
        "          outer_path = os.path.join(root_path,\"validation\")\n",
        "          image_path = os.path.join(outer_path, \"cropped_png/\") \n",
        "          label_path = os.path.join(outer_path, \"extracted_waveforms/\")\n",
        "          image_target_path = os.path.join(outer_path, \"digitized_paper\")\n",
        "          #mask_target_path = os.path.join(outer_path, \"digitized_paper_diagnosis.csv\")\n",
        "\n",
        "          image_list = os.listdir(image_path)\n",
        "          image_list = [x for x in image_list if '.DS_Store' not in x]\n",
        "          image_list = [x for x in image_list if '.ipynb_checkpoints' not in x]\n",
        "\n",
        "          image_target_list = os.listdir(image_target_path)\n",
        "          image_target_list = [x for x in image_target_list if '.DS_Store' not in x]\n",
        "          image_target_list = [x for x in image_target_list if '.ipynb_checkpoints' not in x]\n",
        "\n",
        "          #mask_target_df = pd.read_csv(mask_target_path)\n",
        "\n",
        "          for image in image_list:\n",
        "              imagePath = os.path.join(image_path, image)\n",
        "              images.append(imagePath) #108\n",
        "\n",
        "              maskPath = os.path.join(label_path, image)\n",
        "              masks.append(maskPath) #108\n",
        "          # print(len(images),len(masks))\n",
        "          for image in image_target_list:\n",
        "              imagePath = os.path.join(image_target_path, image)\n",
        "              images_target.append(imagePath) #108\n",
        "              #result = mask_target_df[mask_target_df['ID'] == int(image[0:-4])]\n",
        "              #label = result['Diagnosis'].values[0]  # 应该加在default loader里面\n",
        "              #mask_target.append(label)\n",
        "          # print(len(images_target))\n",
        "          return images, masks, images_target #, mask_target #lists of addresses\n",
        "\n",
        "      if mode == \"test\":\n",
        "          outer_path = os.path.join(root_path,\"test\")\n",
        "          image_target_path = os.path.join(outer_path, \"digitized_paper\")\n",
        "          # mask_target_path = os.path.join(outer_path, \"mask/digitized_paper_diagnosis.csv\")\n",
        "\n",
        "          image_target_list = os.listdir(image_target_path)\n",
        "          image_target_list = [x for x in image_target_list if '.DS_Store' not in x]\n",
        "          image_target_list = [x for x in image_target_list if '.ipynb_checkpoints' not in x]\n",
        "          \n",
        "          # mask_target_df=pd.read_csv(mask_target_path)\n",
        "\n",
        "          for image in image_target_list:\n",
        "              imagePath = os.path.join(image_target_path, image)\n",
        "              images_target.append(imagePath)\n",
        "              images_name.append(image[0:-4])\n",
        "\n",
        "              # result = mask_target_df[mask_target_df['ID'] == int(image[0:-4])]\n",
        "              # label = result['Diagnosis'].values[0]  # 应该加在default loader里面\n",
        "              # mask_target.append(label)\n",
        "\n",
        "          return images_target,images_name  #, mask_target\n",
        "\n",
        "\n",
        "    if dataset==\"CNN\":\n",
        "      # if mode == \"train\":\n",
        "      outer_path = os.path.join(root_path,mode)\n",
        "      image_path = os.path.join(outer_path, \"extracted_digitized_paper/binary_image_1\") \n",
        "      label_path = os.path.join(root_path, \"digitized_paper_diagnosis.csv\")\n",
        "      # image_target_path = os.path.join(outer_path, \"digitized_paper\")\n",
        "      image_list = os.listdir(image_path)\n",
        "      image_list = [x for x in image_list if '.DS_Store' not in x]\n",
        "      image_list = [x for x in image_list if '.ipynb_checkpoints' not in x]\n",
        "\n",
        "      label_df = pd.read_csv(label_path)\n",
        "\n",
        "      for image in image_list:\n",
        "          imagePath = os.path.join(image_path, image)\n",
        "          images.append(imagePath) #138\n",
        "          \n",
        "          result = label_df[label_df['ID'] == int(image[5:-5])]\n",
        "          label = result['Diagnosis'].values[0]  # 应该加在default loader里面\n",
        "          labels.append(label)\n",
        "      # print(\"label len:\", len(labels))\n",
        "      # print(\"image len\",len(images))\n",
        "\n",
        "      return images, labels\n"
      ],
      "metadata": {
        "id": "RNGfhPji6jGO"
      },
      "execution_count": null,
      "outputs": []
    },
    {
      "cell_type": "markdown",
      "source": [
        "##Default Loader"
      ],
      "metadata": {
        "id": "G8Xg6sf559vd"
      }
    },
    {
      "cell_type": "code",
      "source": [
        "def default_loader(mode,img_path,mask_path=\"blank\",img_t_path=\"blank\",mask_t_path=\"blank\"):\n",
        "    # dim0=(512,512)\n",
        "    dim=(128,128)\n",
        "    # print(img_path,mask_path,img_t_path,mask_t_path)\n",
        "\n",
        "    if mode==\"test\" or mask_path==\"blank\":\n",
        "      img= random_crop(img_path,mask_path,dim,\"test\")\n",
        "      img = random_HSV(img, h_limit=(-30, 30), s_limit=(-5, 5), v_limit=(-15, 15))\n",
        "      img = np.array(img, dtype=np.float32).transpose(2, 0, 1) / 255  # * 3.2 - 1.6\n",
        "      return img\n",
        "\n",
        "    img,mask = random_crop(img_path,mask_path,dim,\"otherMode\")\n",
        "    img = random_HSV(img, h_limit=(-30, 30), s_limit=(-5, 5), v_limit=(-15, 15))\n",
        "    img, mask = randomFlip_H(img, mask)\n",
        "    img = np.array(img, dtype=np.float32).transpose(2, 0, 1) / 255  # * 3.2 - 1.6\n",
        "    \n",
        "    # if mode == \"train\" :\n",
        "    img_target = random_crop(img_t_path, mask_t_path, dim,\"otherMode\")\n",
        "\n",
        "    img_target = random_HSV(img_target,h_limit=(-30,30),s_limit=(-5,5),v_limit=(-15,15))\n",
        "\n",
        "    # img_target,mask_target= randomFlip_H(img_target,mask_target)\n",
        "\n",
        "    if type(mask)==type(np.array([1])):\n",
        "        mask = mask[:, :].copy()\n",
        "        mask = torch.LongTensor(mask)\n",
        "\n",
        "        mask1=mask.detach()\n",
        "        mask1[mask1<112]=0\n",
        "        mask1[mask1>=112]=255\n",
        "        mask1 = mask1.reshape(mask.shape[0], mask.shape[1], 1)\n",
        "\n",
        "        mask1 = np.array(mask1, dtype=np.float32).transpose(2, 0, 1)/255\n",
        "\n",
        "    # if type(mask_target)==type(np.array([1])):\n",
        "    #     mask_target = mask_target[:, :].copy()\n",
        "    #     mask_target = torch.LongTensor(mask_target)\n",
        "    #     mask_target = mask_target.numpy()\n",
        "    #     mask_target = mask_target.reshape(mask_target.shape[0], mask_target.shape[1], 1)\n",
        "    #     mask_target = np.array(mask_target, dtype=np.float32).transpose(2, 0, 1)/255\n",
        "\n",
        "    img_target = np.array(img_target, dtype=np.float32).transpose(2, 0, 1) / 255  # * 3.2 - 1.6\n",
        "\n",
        "    return img, mask1, img_target#, mask_target"
      ],
      "metadata": {
        "id": "MppPWmuF6Q9I"
      },
      "execution_count": null,
      "outputs": []
    },
    {
      "cell_type": "markdown",
      "source": [
        "##Random Crop"
      ],
      "metadata": {
        "id": "CunFTYHe5dtU"
      }
    },
    {
      "cell_type": "code",
      "source": [
        "def random_crop(img_path=\"blank\",mask_path=\"blank\",dim=(0,0,0),mode=\"blank\"):\n",
        "\n",
        "  img = cv2.imread(img_path)\n",
        "  resized_img = cv2.resize(img, dim, interpolation=cv2.INTER_AREA)#(512, 512, 3)\n",
        "  resized_img = np.asarray(resized_img)\n",
        "\n",
        "  if mode ==\"test\":\n",
        "    # cv2_imshow(img)\n",
        "    # print(mask_path)\n",
        "    return resized_img\n",
        "\n",
        "  if mask_path==\"blank\": #mask is label for cnn model in train and test mode\\\n",
        "\n",
        "      return resized_img#, mask_path\n",
        "  else:\n",
        "    mask = cv2.imread(mask_path,cv2.IMREAD_GRAYSCALE)\n",
        "    # print(mask.shape)\n",
        "    resized_mask = cv2.resize(mask, dim, interpolation=cv2.INTER_NEAREST)  # (512, 512, 3)\n",
        "\n",
        "    resized_mask = np.asarray(resized_mask)\n",
        "    resized_mask = resized_mask.reshape(resized_mask.shape[0], resized_mask.shape[1], 1)\n",
        "\n",
        "    \n",
        "    return resized_img,resized_mask"
      ],
      "metadata": {
        "id": "ATlWBtFV5cWC"
      },
      "execution_count": null,
      "outputs": []
    },
    {
      "cell_type": "markdown",
      "source": [
        "#Models"
      ],
      "metadata": {
        "id": "1Rbw06OD7fYd"
      }
    },
    {
      "cell_type": "markdown",
      "source": [
        "##CNN"
      ],
      "metadata": {
        "id": "i8eK-CrU7iwC"
      }
    },
    {
      "cell_type": "code",
      "source": [
        "class CNN(nn.Module):\n",
        "    def __init__(self,num_classes=1):\n",
        "        super().__init__()\n",
        "        # print(\"**********CNN********** \")\n",
        "        self.features=nn.Sequential(###512 to 1\n",
        "        ##half\n",
        "        nn.Conv2d(3, 32, kernel_size=3, stride=1, padding=1),\n",
        "        nn.BatchNorm2d(32, eps=0.001),\n",
        "        nn.Conv2d(32, 64, kernel_size=3, stride=1, padding=1),\n",
        "        nn.BatchNorm2d(64, eps=0.001),\n",
        "        nn.MaxPool2d(kernel_size=2, stride=2),\n",
        "\n",
        "        #half\n",
        "        nn.Conv2d(64, 128, kernel_size=3, stride=1, padding=1),\n",
        "        nn.BatchNorm2d(128, eps=0.001),\n",
        "        nn.Conv2d(128, 128, kernel_size=3, stride=1, padding=1),\n",
        "        nn.BatchNorm2d(128, eps=0.001),\n",
        "        nn.MaxPool2d(kernel_size=2, stride=2),\n",
        "\n",
        "        ##half\n",
        "        nn.Conv2d(128, 256, kernel_size=3, stride=1, padding=1),\n",
        "        nn.BatchNorm2d(256, eps=0.001),\n",
        "        nn.Conv2d(256, 256, kernel_size=3, stride=1, padding=1),\n",
        "        nn.BatchNorm2d(256, eps=0.001),\n",
        "        nn.MaxPool2d(kernel_size=2, stride=2),\n",
        "\n",
        "        )\n",
        "\n",
        "        self.classifier=nn.Sequential(\n",
        "            nn.Linear(16 * 16 * 256, 2048),\n",
        "            nn.BatchNorm1d(2048, eps=0.001),\n",
        "            nn.Dropout(0.2),\n",
        "            nn.Linear(2048,num_classes),\n",
        "            nn.Sigmoid()\n",
        "        )\n",
        "\n",
        "\n",
        "    def forward(self,x):\n",
        "        x=self.features(x)#torch.Size([2, 256, 16, 16])\n",
        "        x = x.view(x.size(0), 16 * 16 * 256)\n",
        "        x=self.classifier(x)\n",
        "        return x\n"
      ],
      "metadata": {
        "id": "CoQz7CgH7gbK"
      },
      "execution_count": null,
      "outputs": []
    },
    {
      "cell_type": "markdown",
      "source": [
        "##Metrics"
      ],
      "metadata": {
        "id": "_uBr9JVb7zWO"
      }
    },
    {
      "cell_type": "code",
      "source": [
        "from torch._C import set_num_threads\n",
        "def equal(num1,num2,type=1):\n",
        "  if type==0: ##check if not equal\n",
        "    equal=(num1!=num2)\n",
        "    equal=np.array(equal).astype('int32')\n",
        "    return equal\n",
        "\n",
        "  ##check if equal\n",
        "  equal=(num1==num2)\n",
        "  equal=np.array(equal).astype('int32')\n",
        "  return equal\n",
        "\n",
        "\n",
        "def numeric_score_original(pred,gt,j):\n",
        "    FP = np.sum(equal(equal(pred,j),equal(gt,j,type=0)))#np.float(np.sum(equal(equal(pred,j),equal(gt,j,type=0))))\n",
        "    FN = np.sum(equal(equal(pred,j,type=0),equal(gt,j)))#np.float(np.sum(equal(equal(pred,j,type=0),equal(gt,j))))\n",
        "    TP = np.sum(equal(equal(pred,j),equal(gt,j)))#np.float(np.sum(equal(equal(pred,j),equal(gt,j))))\n",
        "    TN = np.sum(equal(equal(pred,j,type=0),equal(gt,j,type=0)))#np.float(np.sum(equal(equal(pred,j,type=0),equal(gt,j,type=0))))\n",
        "\n",
        "    return FP,FN,TP,TN\n",
        "\n",
        "def numeric_score(pred,gt,classes):\n",
        "    FP_list = []\n",
        "    FN_list = []\n",
        "    TP_list = []\n",
        "    TN_list = []\n",
        "    for i in range(1,classes):\n",
        "        FPI,FNI,TPI,TNI = numeric_score_original(pred,gt,i)\n",
        "        FP_list.append(FPI)\n",
        "        FN_list.append(FNI)\n",
        "        TP_list.append(TPI)\n",
        "        TN_list.append(TNI)\n",
        "\n",
        "    FP = np.mean(FP_list)\n",
        "    FN = np.mean(FN_list)\n",
        "    TP = np.mean(TP_list)\n",
        "    TN = np.mean(TN_list)\n",
        "\n",
        "    return FP,FN,TP,TN\n",
        "\n",
        "def get_acc(image,label):\n",
        "\n",
        "    FP,FN,TP,TN = numeric_score(image,label)\n",
        "    acc = (TP + TN) / (TP + FN + TN + FP + 1e-10)\n",
        "    sen = (TP) / (TP + FN + 1e-10)\n",
        "    return acc,sen\n",
        "\n",
        "def metrics_self(pred,label,batch_size):\n",
        "    outputs = (pred.data.cpu().numpy()).astype(np.uint8)\n",
        "    label = (label.data.cpu().numpy()).astype(np.uint8)\n",
        "\n",
        "    Acc,Sen = 0. ,0.\n",
        "    for i in range(batch_size):\n",
        "        img = outputs[i,:,:,:]\n",
        "        gt = label[i,:,:,:]\n",
        "\n",
        "        acc,sen = get_acc(img,gt)\n",
        "        Acc += acc\n",
        "        Sen += sen\n",
        "\n",
        "    return Acc,Sen\n",
        "\n",
        "def Auc_score(SR,GT,threshold=0.5):\n",
        "    GT = GT.ravel()\n",
        "    SR = SR.ravel()\n",
        "\n",
        "    roc_auc = metrics.roc_auc_score(GT,SR,sample_weight=0.5)\n",
        "\n",
        "    return roc_auc\n",
        "\n",
        "def all_score(prediction,groundtruth,classes):\n",
        "    FP,FN,TP,TN = numeric_score(prediction,groundtruth,classes)\n",
        "\n",
        "    acc = (TP + TN) / (TP + FN + TN + FP + 1e-10)\n",
        "\n",
        "    sen = (TP) / (TP + FN + 1e-10)\n",
        "\n",
        "    pre = TP / (TP + FP + 1e-10)\n",
        "\n",
        "    f1 = (2 * pre * sen) / (pre + sen + 1e-10)\n",
        "\n",
        "    outputs = prediction > 0.5\n",
        "    masks = groundtruth == np.max(groundtruth)\n",
        "    inter = np.sum(outputs * masks)\n",
        "    dc = 2 * inter\n",
        "\n",
        "    return acc,sen,pre,f1#,auc"
      ],
      "metadata": {
        "id": "-5tzQ7u_736a"
      },
      "execution_count": null,
      "outputs": []
    },
    {
      "cell_type": "markdown",
      "source": [
        "##Unet"
      ],
      "metadata": {
        "id": "irBOq8NT8GJK"
      }
    },
    {
      "cell_type": "code",
      "source": [
        "class DoubleConv(nn.Module):\n",
        "    def __init__(self,in_channels,out_channels):\n",
        "        super().__init__()\n",
        "        self.double_conv = nn.Sequential(\n",
        "            nn.Conv2d(in_channels,out_channels,kernel_size=3,padding=1,bias=False),\n",
        "            nn.BatchNorm2d(out_channels),\n",
        "            nn.ReLU(inplace=True),\n",
        "            nn.Conv2d(out_channels,out_channels,kernel_size=3,padding=1,bias=False),\n",
        "            nn.BatchNorm2d(out_channels),\n",
        "            nn.ReLU(inplace=True)\n",
        "        )\n",
        "    def forward(self,x):\n",
        "        return self.double_conv(x)\n",
        "\n",
        "class Down(nn.Module):\n",
        "    def __init__(self,in_channels,out_channels):\n",
        "        super().__init__()\n",
        "        self.maxpool_conv = nn.Sequential(\n",
        "            nn.MaxPool2d(2),\n",
        "            DoubleConv(in_channels,out_channels)\n",
        "        )\n",
        "    def forward(self,x):    \n",
        "        return self.maxpool_conv(x)\n",
        "\n",
        "class Up(nn.Module):\n",
        "    def __init__(self,in_channels,out_channels,bilinear=True):\n",
        "        super().__init__()\n",
        "        if bilinear:\n",
        "            self.up = nn.Upsample(scale_factor=2,mode=\"bilinear\",align_corners=True)\n",
        "        else:\n",
        "            self.up = nn.ConvTranspose2d(in_channels // 2,in_channels // 2,kernel_size=2,stride=2)\n",
        "        self.conv = DoubleConv(in_channels,out_channels)\n",
        "    def forward(self,x1,x2):\n",
        "        x1 = self.up(x1)\n",
        "        x = torch.cat([x2,x1],dim = 1)\n",
        "        return self.conv(x)\n",
        "\n",
        "class OutConv(nn.Module):\n",
        "    def __init__(self,in_channels,out_channels):\n",
        "        super().__init__()\n",
        "        self.conv = nn.Conv2d(in_channels,out_channels,1)\n",
        "    def forward(self,x):\n",
        "        return self.conv(x)\n",
        "\n",
        "class Unet(nn.Module):\n",
        "    def __init__(self,in_channels,out_channels,bilinear=True):\n",
        "        super().__init__()\n",
        "        self.biliner = bilinear\n",
        "        self.inchannel = DoubleConv(in_channels,64)\n",
        "        self.down1 = Down(64,128)\n",
        "        self.down2 = Down(128,256)\n",
        "        self.down3 = Down(256,512)\n",
        "        self.down4 = Down(512,512)\n",
        "        self.up1 = Up(1024,256,bilinear)\n",
        "        self.up2 = Up(512,128,bilinear)\n",
        "        self.up3 = Up(256,64,bilinear)\n",
        "        self.up4 = Up(128,64,bilinear)\n",
        "        self.outchannel = OutConv(64,out_channels)\n",
        "        self.sigmoid = nn.Sigmoid()\n",
        "\n",
        "    def forward(self,x):\n",
        "        x1 = self.inchannel(x)\n",
        "        x2 = self.down1(x1)\n",
        "        x3 = self.down2(x2)\n",
        "        x4 = self.down3(x3)\n",
        "        x5 = self.down4(x4)\n",
        "        x = self.up1(x5,x4)\n",
        "        x = self.up2(x,x3)\n",
        "        x = self.up3(x,x2)\n",
        "        x = self.up4(x,x1)\n",
        "        out = self.outchannel(x)\n",
        "        out = self.sigmoid(out)\n",
        "        return out\n",
        "\n",
        "\n",
        "class Encoder(nn.Module):\n",
        "    def __init__(self,in_channels):\n",
        "        super().__init__()\n",
        "        self.inchannel = DoubleConv(in_channels,64)\n",
        "        self.down1 = Down(64,128)\n",
        "        self.down2 = Down(128,256)\n",
        "        self.down3 = Down(256,512)\n",
        "        self.down4 = Down(512,512)\n",
        "\n",
        "    def forward(self,x):\n",
        "        x1 = self.inchannel(x)\n",
        "        x2 = self.down1(x1)\n",
        "        x3 = self.down2(x2)\n",
        "        x4 = self.down3(x3)\n",
        "        x5 = self.down4(x4)\n",
        "\n",
        "        return x1,x2,x3,x4,x5\n",
        "\n",
        "\n",
        "class Decoder(nn.Module):\n",
        "    def __init__(self,out_channels,bilinear=True):\n",
        "        super().__init__()\n",
        "        self.up1 = Up(1024,256,bilinear)\n",
        "        self.up2 = Up(512,128,bilinear)\n",
        "        self.up3 = Up(256,64,bilinear)\n",
        "        self.up4 = Up(128,64,bilinear)\n",
        "        self.outchannel = OutConv(64,out_channels)\n",
        "        self.sigmoid = nn.Sigmoid()\n",
        "\n",
        "        #self.cnn=\n",
        "\n",
        "    def forward(self,x1,x2,x3,x4,x5):\n",
        "        x = self.up1(x5,x4)\n",
        "        x = self.up2(x,x3)\n",
        "        x = self.up3(x,x2)\n",
        "        x = self.up4(x,x1)\n",
        "        out = self.outchannel(x)\n",
        "        out = self.sigmoid(out)\n",
        "\n",
        "        return out"
      ],
      "metadata": {
        "id": "HS22U2Qj8GzK"
      },
      "execution_count": null,
      "outputs": []
    },
    {
      "cell_type": "markdown",
      "source": [
        "##E Discriminator"
      ],
      "metadata": {
        "id": "bMcFYZ4y8Oq-"
      }
    },
    {
      "cell_type": "code",
      "source": [
        "class Encoder_Discriminator(nn.Module):\n",
        "    def __init__(self,size):\n",
        "        super().__init__()\n",
        "\n",
        "        self.conv1 = nn.Conv2d(512,256,3,1,1)\n",
        "        self.bn1 = nn.BatchNorm2d(256)\n",
        "        self.conv2 = nn.Conv2d(256,128,3,1,1)\n",
        "        self.bn2 = nn.BatchNorm2d(128)\n",
        "        self.conv3 = nn.Conv2d(128,64,3,1,1)\n",
        "        self.bn3 = nn.BatchNorm2d(64)\n",
        "        self.conv4 = nn.Conv2d(64,32,3,1,1)\n",
        "        self.bn4 = nn.BatchNorm2d(32)\n",
        "\n",
        "        self.leakyrelu1 = nn.LeakyReLU(0.2,inplace=True)\n",
        "        self.leakyrelu2 = nn.LeakyReLU(0.2,inplace=True)\n",
        "        self.leakyrelu3 = nn.LeakyReLU(0.2,inplace=True)\n",
        "        self.leakyrelu4 = nn.LeakyReLU(0.2,inplace=True)\n",
        "        self.flatten = nn.Flatten()\n",
        "        self.linear = nn.Linear(8*8*size,1)#128? =4*32768/32/32\n",
        "        self.sigmoid = nn.Sigmoid()\n",
        "        self.dropout = nn.Dropout(0.5)\n",
        "\n",
        "    def forward(self,x):\n",
        "\n",
        "        x = self.conv1(x)\n",
        "        x = self.bn1(x)\n",
        "        x = self.leakyrelu1(x)\n",
        "        x = self.conv2(x)\n",
        "        x = self.bn2(x)\n",
        "        x = self.leakyrelu2(x)\n",
        "\n",
        "        x = self.conv3(x)\n",
        "        x = self.bn3(x)\n",
        "        x = self.leakyrelu3(x)\n",
        "        x = self.conv4(x)\n",
        "        x = self.bn4(x)\n",
        "        x = self.leakyrelu4(x)\n",
        "\n",
        "        x = self.flatten(x)\n",
        "        x = self.linear(x)\n",
        "        x = self.dropout(x)\n",
        "        x = self.sigmoid(x)\n",
        "\n",
        "        return x "
      ],
      "metadata": {
        "id": "8v773gBg8RdC"
      },
      "execution_count": null,
      "outputs": []
    },
    {
      "cell_type": "markdown",
      "source": [
        "##Discriminator_res"
      ],
      "metadata": {
        "id": "c_YJqGSH8ZSj"
      }
    },
    {
      "cell_type": "code",
      "source": [
        "class Res_Block(nn.Module):\n",
        "    def __init__(self,inchannal,outchannal,s=1,shortcut=None):\n",
        "        super().__init__()\n",
        "        self.left = nn.Sequential(\n",
        "            nn.Conv2d(inchannal,outchannal,3,s,1),\n",
        "            nn.BatchNorm2d(outchannal),\n",
        "            nn.ReLU(inplace=True),\n",
        "            nn.Conv2d(outchannal,outchannal,3,1,1),\n",
        "            nn.BatchNorm2d(outchannal)\n",
        "        )\n",
        "\n",
        "        self.right = shortcut\n",
        "\n",
        "    def forward(self,x):\n",
        "        out = self.left(x)\n",
        "        res = x if self.right == None else self.right(x)\n",
        "        out += res\n",
        "        out = nn.functional.relu(out)\n",
        "\n",
        "        return out\n",
        "\n",
        "class Resnet34(nn.Module):\n",
        "    def __init__(self,classes):\n",
        "        super().__init__()\n",
        "        self.first = nn.Sequential(\n",
        "            nn.Conv2d(classes,64,7,2,3),\n",
        "            nn.BatchNorm2d(64),\n",
        "            nn.ReLU(inplace=True),\n",
        "            nn.MaxPool2d(3,2,1)\n",
        "        )\n",
        "        \n",
        "        self.res1 = self.Block_Layer(64,64,3)\n",
        "        self.res2 = self.Block_Layer(64,128,4,s=2)\n",
        "        self.res3 = self.Block_Layer(128,256,6,s=2)\n",
        "        self.res4 = self.Block_Layer(256,512,3,s=2)\n",
        "\n",
        "        self.conv11 = nn.Conv2d(512,1,1,1,0)\n",
        "        self.global_pool = nn.AdaptiveAvgPool2d((1,1))\n",
        "        self.linear = nn.Linear(512,1)\n",
        "        self.sigmoid = nn.Sigmoid()\n",
        "\n",
        "    def Block_Layer(self,inchannel,outchannel,num,s=1):\n",
        "        shortcut = nn.Sequential(\n",
        "            nn.Conv2d(inchannel,outchannel,3,s,1,bias=False),\n",
        "            nn.BatchNorm2d(outchannel)\n",
        "        )\n",
        "\n",
        "        layer = []\n",
        "        layer.append(Res_Block(inchannel,outchannel,s,shortcut)) \n",
        "        for i in range(1,num):\n",
        "            layer.append(Res_Block(outchannel,outchannel))\n",
        "\n",
        "        return nn.Sequential(*layer)\n",
        "\n",
        "    def forward(self,x):\n",
        "\n",
        "        x = self.first(x)\n",
        "        x = self.res1(x)\n",
        "        x = self.res2(x)\n",
        "        x = self.res3(x)\n",
        "        x = self.res4(x)\n",
        "        x = self.conv11(x)\n",
        "        x = self.sigmoid(x)\n",
        "\n",
        "        return x"
      ],
      "metadata": {
        "id": "zT3_WR9W8cQi"
      },
      "execution_count": null,
      "outputs": []
    },
    {
      "cell_type": "markdown",
      "source": [
        "#Train\n"
      ],
      "metadata": {
        "id": "bakMdn8b8lxy"
      }
    },
    {
      "cell_type": "markdown",
      "source": [
        "##**GAA_Train**"
      ],
      "metadata": {
        "id": "odqQ5Ogu9LxK"
      }
    },
    {
      "cell_type": "code",
      "source": [
        "from torch.utils.data import random_split\n",
        "class Trainers:\n",
        "    def __init__(self):\n",
        "        data_loader = Choroid_loader(root_path=args[\"root_GAA\"],datasets=\"GAA\")\n",
        "        self.train_loader = data_loader.load_train_data(batch_size=args[\"batch_size\"])\n",
        "        self.val_loader = data_loader.load_val_data(batch_size=args[\"batch_size\"])\n",
        "        self.test_loader = data_loader.load_test_data(batch_size=args['batch_size'])\n",
        "\n",
        "    def save_ckpt(self,encoder_s,encoder_t,decoder,epoch):\n",
        "        if not os.path.exists(args[\"ckpt_path\"]):\n",
        "            os.makedirs(args[\"ckpt_path\"])\n",
        "\n",
        "        state = {\"encoder_s\":encoder_s.state_dict(),\"encoder_t\":encoder_t.state_dict(),\"decoder\":decoder.state_dict()}\n",
        "        torch.save(state,args[\"ckpt_path\"] + args[\"name\"] + \"_epoch_\" + str(epoch)+ \".pkl\")\n",
        "        print(\"---> save model:{} <---\".format(args[\"ckpt_path\"]))\n",
        "        print(args[\"ckpt_path\"] + args[\"name\"] + \"_epoch_\" + str(epoch) + \".pkl\")\n",
        "\n",
        "    def get_ckpt(self,epoch):\n",
        "        encoder_s = Encoder(3).cuda() #source encoder\n",
        "        encoder_t = Encoder(3).cuda() #target encoder\n",
        "        decoder = Decoder(1).cuda() #6\n",
        "\n",
        "        checkpoint = torch.load(args[\"ckpt_path\"] + args[\"name\"] + \"_epoch_\" + str(epoch) + \".pkl\")\n",
        "        encoder_s.load_state_dict(checkpoint['encoder_s'])\n",
        "        encoder_t.load_state_dict(checkpoint['encoder_t'])\n",
        "        decoder.load_state_dict(checkpoint['decoder'])\n",
        "\n",
        "        return encoder_s,encoder_t,decoder\n",
        "\n",
        "    def adjust_lr(self,optimizer,base_lr,iter,max_iter,power=0.9):\n",
        "        lr = base_lr * (1 - float(iter) / max_iter) ** power\n",
        "        for param_group in optimizer.param_groups:\n",
        "            param_group[\"lr\"] = lr \n",
        "\n",
        "    def model_test(self,epoch):\n",
        "      print(\"----------Start testing model----------\")\n",
        "      accuracy=0\n",
        "      _, encoder_t,decoder=self.get_ckpt(epoch=epoch, time=args[\"time\"])\n",
        "\n",
        "      for idx,batch in enumerate(self.test_loader): \n",
        "          image=batch[0].float().cuda()\n",
        "          image_name=batch[1]\n",
        "          # label=label.view(label.shape[0],1)\n",
        "\n",
        "          x1,x2,x3,x4,x5 = encoder_t(image)\n",
        "          pred = decoder(x1,x2,x3,x4,x5)\n",
        "\n",
        "          #print original image\n",
        "          img2=image[0]*255\n",
        "          digitized_img_t=np.transpose(img2.detach().cpu().numpy(),(1,2,0))\n",
        "          cv2_imshow(digitized_img_t)\n",
        "\n",
        "          #print grey image[0]\n",
        "          img1=pred[0]*255\n",
        "          grey_img_t=np.transpose(img1.detach().cpu().numpy(),(1,2,0))\n",
        "          cv2_imshow(grey_img_t)\n",
        "\n",
        "          #print binary image[1]\n",
        "          pred1=pred.detach()\n",
        "          pred1[pred1>0.5]=1\n",
        "          pred1[pred1<=0.5]=0\n",
        "          \n",
        "          img0=pred1[0]*255\n",
        "          binary_img_t=np.transpose(img0.detach().cpu().numpy(),(1,2,0))\n",
        "          cv2_imshow(binary_img_t)\n",
        "\n",
        "          # save_image(img, '/content/drive/My Drive/FYP/ECGpdf2data/data/test/pred_images_s/idx_'+epoch+'_'+str(iter)+'_pred.png')\n",
        "          # os.makedirs('/content/drive/My Drive/FYP_Yixin_Cai/GAA_data/train/output2/binary_image_'+args[\"time\"], exist_ok=True)\n",
        "          if path.exists('/content/drive/My Drive/FYP_Yixin_Cai/GAA_data/test/output2/binary_image_') == False:\n",
        "            os.mkdir('/content/drive/My Drive/FYP_Yixin_Cai/GAA_data/test/output2/binary_image_')\n",
        "          if path.exists('/content/drive/My Drive/FYP_Yixin_Cai/GAA_data/test/output2/greyscale_image_') == False:\n",
        "            os.mkdir('/content/drive/My Drive/FYP_Yixin_Cai/GAA_data/test/output2/greyscale_image_')\n",
        "          for i in range(0,image.shape[0]):\n",
        "            cv2.imwrite('/content/drive/My Drive/FYP_Yixin_Cai/GAA_data/test/output2/binary_image_'+'/'\n",
        "                                          +str(image_name[i])+'.png', binary_img_t)\n",
        "            cv2.imwrite('/content/drive/My Drive/FYP_Yixin_Cai/GAA_data/test/output2/greyscale_image_'+'/'\n",
        "                        +str(image_name[i])+'.png', grey_img_t)\n",
        "              \n",
        "\n",
        "      print(\"GAA test complete.\")\n",
        "      # if (accuracy/(args['batch_size']*len(self.test_loader)))<0.5:\n",
        "      #    print(\"test accuracy: \",0.621488,\" over \", (args['batch_size']*len(self.test_loader)))\n",
        "      # else:\n",
        "      #   print(\"ftest accuracy: \", accuracy/(args['batch_size']*len(self.test_loader)),\" over \", (args['batch_size']*len(self.test_loader)))\n",
        " \n",
        "    def model_eval(self,encoder_s,decoder,seg_loss):\n",
        "        print(\"----------Start validating model----------\")\n",
        "\n",
        "        encoder_s.eval()\n",
        "        decoder.eval()\n",
        "        # cnn_model.eval()\n",
        "\n",
        "        seg_losses=[]\n",
        "        for idx,batch in enumerate(self.val_loader):\n",
        "\n",
        "            image_s = batch[0].float().cuda()\n",
        "            label_s = batch[1].float().cuda()\n",
        "            image_t = batch[2].float().cuda() \n",
        "            # label=label.view(label.shape[0],1)\n",
        "\n",
        "\n",
        "            x1,x2,x3,x4,x5 = encoder_s(image_s)\n",
        "            pred = decoder(x1,x2,x3,x4,x5)\n",
        "            loss_seg = seg_loss(pred,label_s)\n",
        "            \n",
        "            seg_losses.append(loss_seg.item())\n",
        "        \n",
        "        return mean(seg_losses)\n",
        "\n",
        "          \n",
        "        # return np.average(val_loss_cnn),total_correct/(len(self.test_loader)*args['batch_size'])\n",
        "\n",
        "    def train(self,retrain=0):\n",
        "        encoder_s = Encoder(3).cuda() #source encoder\n",
        "        encoder_t = Encoder(3).cuda() #target encoder\n",
        "        decoder = Decoder(1).cuda() #6\n",
        "        if retrain==1:\n",
        "           encoder_s,encoder_t,decoder=self.get_ckpt(epoch=1,time=1)\n",
        "        # cnn_model=CNN().cuda()\n",
        "        # encoder_s,encoder_t,decoder,cnn_model=self.get_ckpt(40)\n",
        "        E_discriminator = Encoder_Discriminator(32).cuda() #discriminator for encoder #size=24\n",
        "        D_discriminator = Resnet34(1).cuda() #discriminator for decoder #6\n",
        "        optimizer_en_s = optim.Adam(encoder_s.parameters(),lr=args[\"lr\"],weight_decay=5e-3)#1e-2\n",
        "        optimizer_en_t = optim.Adam(encoder_t.parameters(),lr=args[\"lr\"],weight_decay=5e-3)\n",
        "        optimizer_de = optim.Adam(decoder.parameters(),lr=args[\"lr\"],weight_decay=1e-2)\n",
        "        optimizer_ED = optim.Adam(E_discriminator.parameters(),lr=args[\"lr_ed\"],weight_decay=5e-3)\n",
        "        optimizer_DD = optim.Adam(D_discriminator.parameters(),lr=args[\"lr_ed\"],weight_decay=5e-4)\n",
        "        # optimizer_cnn = optim.Adam(cnn_model.parameters(),lr=args[\"lr_cnn\"])#,weight_decay=5e-4)\n",
        "\n",
        "        seg_loss =nn.BCELoss().cuda()\n",
        "        E_loss = nn.BCELoss().cuda()\n",
        "        D_loss = nn.BCELoss().cuda()\n",
        "        C_loss = nn.BCELoss().cuda()\n",
        "        # C_loss=nn.BCEWithLogitsLoss().cuda()\n",
        "        # toal_loss= \n",
        "\n",
        "        print(\"----------start training----------\")\n",
        "\n",
        "        iters = 1\n",
        "        iou = 0.\n",
        "        dice = 0.\n",
        "        acc = 0.\n",
        "        pre = 0.\n",
        "        sen = 0.\n",
        "        f1 = 0. \n",
        "        accuracy_val=[]\n",
        "\n",
        "        # to track the training loss as the model trains\n",
        "        train_losses_seg = []\n",
        "        train_losses_cnn = []\n",
        "        train_dd_loss=[]\n",
        "        # to track the validation loss as the model trains\n",
        "        valid_losses_seg = []\n",
        "        valid_losses_cnn = []\n",
        "        # to track the average training loss per epoch as the model trains\n",
        "        avg_train_losses_cnn = []\n",
        "        avg_train_losses_seg = []\n",
        "        # to track the average validation loss per epoch as the model trains\n",
        "        avg_valid_losses_correctness = [] \n",
        "        avg_valid_losses_acc = [] \n",
        "        avg_valid_losses_f1 = [] \n",
        "        avg_valid_losses_sen = [] \n",
        "        avg_valid_losses_pre = [] \n",
        "        avg_valid_losses_cnn = [] \n",
        "        avg_train_dd_loss=[]\n",
        "        val_losses=[]\n",
        "\n",
        "\n",
        "\n",
        "        \n",
        "        best_acc=args[\"best_acc\"]\n",
        "        es=0\n",
        "\n",
        "        \n",
        "        batch=0\n",
        "        for epoch in range(args[\"epoches\"]):\n",
        "            encoder_s.train()\n",
        "            encoder_t.train()\n",
        "            decoder.train()\n",
        "            E_discriminator.train()\n",
        "            D_discriminator.train()\n",
        "            # cnn_model.train()\n",
        "\n",
        "\n",
        "            ######################    \n",
        "            # train the model #\n",
        "            ######################\n",
        "                        \n",
        "            for idx,batch in enumerate(self.train_loader):\n",
        "                print(\"************\",idx,\"*************\")\n",
        "\n",
        "                image_s = batch[0].cuda()\n",
        "                label_s = batch[1].cuda()\n",
        "                image_t = batch[2].cuda()\n",
        "\n",
        "                e_real = torch.full((image_s.shape[0],1),1).float().cuda() #4 rows x 1 columns\n",
        "                e_fake = torch.full((image_s.shape[0],1),0).float().cuda()\n",
        "                d_real = torch.full((image_s.shape[0],1,4,4),1).float().cuda()\n",
        "                d_fake = torch.full((image_s.shape[0],1,4,4),0).float().cuda()\n",
        "                c_real = torch.full((image_s.shape[0],1),1).float().cuda()\n",
        "                optimizer_en_s.zero_grad()\n",
        "                optimizer_de.zero_grad()\n",
        "\n",
        "                x1,x2,x3,x4,x5 = encoder_s(image_s)\n",
        "\n",
        "                pred = decoder(x1,x2,x3,x4,x5)\n",
        "\n",
        "#print out pred image\n",
        "               #greyscale image\n",
        "                # img1 = pred[0].detach()#.cpu().numpy() #torch.Size([3,28,28]\n",
        "                # img1=img1*255\n",
        "                # # print(img1)\n",
        "                # grey_img=np.transpose(img1.detach().cpu().numpy(),(1,2,0))\n",
        "                # cv2_imshow(grey_img)\n",
        "\n",
        "                # #binary image\n",
        "                # pred1=pred.detach()\n",
        "                # pred1[pred1>0.5]=1\n",
        "                # pred1[pred1<=0.5]=0\n",
        "                # img4 = pred1[0]*255 #.detach().cpu().numpy() #torch.Size([3,28,28]\n",
        "                # binary_img=np.transpose(img4.detach().cpu().numpy(),(1,2,0))\n",
        "                # cv2_imshow(binary_img)\n",
        "\n",
        "                  \n",
        "                #loss\n",
        "                loss_seg = seg_loss(pred,label_s)\n",
        "                train_losses_seg.append(loss_seg.item())\n",
        "                # loss_seg = seg_loss(pred, torch.squeeze(label_s))\n",
        "                optimizer_en_s.step()\n",
        "                optimizer_de.step()\n",
        "\n",
        "                print(\"[{0:d}:{1:d}] --- loss_seg:{2:.10f}\".format(epoch + 1,iters,loss_seg.item()))\n",
        "                \n",
        "                if (epoch+1) >= 1:\n",
        "                    param_s = list(encoder_s.parameters())\n",
        "                    param_t = list(encoder_t.parameters())\n",
        "                    param_copy(param_s,param_t,0.8,epoch)\n",
        "\n",
        "                    if iters % 2 == 1:\n",
        "                        optimizer_ED.zero_grad()\n",
        "                        _,_,_,_,s5 = encoder_s(image_s)\n",
        "                        # print(\"train, s5 \", s5.shape,type(s5))#torch.Size([4, 512, 32, 32]) <class 'torch.Tensor'>\n",
        "                        encoder_pred_s = E_discriminator(s5)\n",
        "                        en_d_s_loss = E_loss(encoder_pred_s,e_real)\n",
        "                        en_d_s_loss.backward()\n",
        "\n",
        "                        _,_,_,_,t5 = encoder_t(image_t)\n",
        "                        encoder_pred_t = E_discriminator(t5)\n",
        "                        en_d_t_loss = E_loss(encoder_pred_t,e_fake)\n",
        "                        en_d_t_loss.backward()\n",
        "                        optimizer_ED.step()\n",
        "\n",
        "                    optimizer_en_s.zero_grad()\n",
        "                    optimizer_en_t.zero_grad()\n",
        "                    optimizer_ED.zero_grad()\n",
        "                    _,_,_,_,t5 = encoder_t(image_t)     \n",
        "                    encoder_pred_t = E_discriminator(t5)\n",
        "                    en_g_t_loss = E_loss(encoder_pred_t,e_real)\n",
        "                    en_g_t_loss.backward()\n",
        "                    optimizer_en_t.step()\n",
        "\n",
        "                    if iters % 4 == 1:\n",
        "                        # optimizer_DD.zero_grad()\n",
        "                        # optimizer_cnn.zero_grad()\n",
        "                        optimizer_DD.zero_grad()\n",
        "                        s1,s2,s3,s4,s5 = encoder_s(image_s)\n",
        "                        decoder_s = decoder(s1,s2,s3,s4,s5)\n",
        "                        decoder_pred_s = D_discriminator(decoder_s)\n",
        "                        de_d_s_loss = D_loss(decoder_pred_s,d_real)\n",
        "                        de_d_s_loss.backward()\n",
        "                        \n",
        "                        t1,t2,t3,t4,t5 = encoder_t(image_t)\n",
        "                        decoder_t = decoder(t1,t2,t3,t4,t5)\n",
        "\n",
        "                        #cnn \n",
        "                        # optimizer_cnn.zero_grad()\n",
        "                        # cnn_pred=decoder_t.detach().clone().cuda()\n",
        "                        # cnn_pred1=cnn_pred.detach()\n",
        "                        # cnn_pred1[cnn_pred1>0.5]=1\n",
        "                        # cnn_pred1[cnn_pred1<=0.5]=0\n",
        "                      \n",
        "                        # cnn_output=cnn_model(cnn_pred1)\n",
        "                        \n",
        "                        # loss_cnn=C_loss(cnn_output,image_t_label)#*0.1\n",
        "                        # if(loss_cnn>1):\n",
        "                        #   print(\"cnnLoss exceeds : \",cnn_output,image_t_label)\n",
        "                        #   loss_cnn= loss_cnn*0.1\n",
        "                        # train_losses_cnn+=loss_cnn.item()#*args[\"batch_size\"]\n",
        "                        # loss_cnn.backward()\n",
        "                        # optimizer_cnn.step()\n",
        "\n",
        "                        # train_losses_cnn+=loss_cnn.item()*args[\"batch_size\"]\n",
        "                        # train_losses_cnn.append(loss_cnn.item())\n",
        "\n",
        "                        decoder_pred_t = D_discriminator(decoder_t)\n",
        "                        # print(\"decoder_pred_t:\",decoder_pred_t.shape,type(decoder_pred_t))\n",
        "                        de_d_t_loss = D_loss(decoder_pred_t,d_fake)\n",
        "                        de_d_t_loss.backward()\n",
        "                        optimizer_DD.step()\n",
        "\n",
        "                        optimizer_en_t.zero_grad()\n",
        "                        optimizer_de.zero_grad()\n",
        "                        t1,t2,t3,t4,t5 = encoder_t(image_t)\n",
        "                        decoder_t = decoder(t1,t2,t3,t4,t5)\n",
        "                        decoder_pred_t = D_discriminator(decoder_t)\n",
        "                        de_g_t_loss = D_loss(decoder_pred_t,d_real) \n",
        "                        de_g_t_loss.backward()\n",
        "                        optimizer_en_t.step()\n",
        "\n",
        "                        #greyscale image of target ds\n",
        "                        # decoder_t1= decoder_t.detach()\n",
        "                        # img1 = decoder_t1[0]*255 #.detach().cpu().numpy() #torch.Size([3,28,28]\n",
        "                        # # print(img1)\n",
        "                        # grey_img_t=np.transpose(img1.detach().cpu().numpy(),(1,2,0))\n",
        "                        # cv2_imshow(grey_img_t)\n",
        "\n",
        "                        #binary image of target ds\n",
        "                        # decoder_t1[decoder_t1>0.5]=1\n",
        "                        # decoder_t1[decoder_t1<=0.5]=0\n",
        "                        # img1 = decoder_t1[0]*255 #.detach().cpu().numpy() #torch.Size([3,28,28]\n",
        "                        # binary_img_t=np.transpose(img1.detach().cpu().numpy(),(1,2,0))\n",
        "                        # cv2_imshow(binary_img_t)\n",
        "\n",
        "                        # cv2.imwrite('/content/drive/My Drive/FYP/ECGpdf2data/data/train/output/binary_image_t2/'\n",
        "                        #                 +str(epoch)+'_'+str(iters)+'_.png', binary_img_t)\n",
        "                        # cv2.imwrite('/content/drive/My Drive/FYP/ECGpdf2data/data/train/output/greyscale_image_t2/'\n",
        "                        # +str(epoch)+'_'+str(iters)+'_.png', grey_img_t)\n",
        "                    print(\"[{0:d}:{1:d}] --- ED_loss_s:{2:.8f}\\tED_loss_t:{3:.8f}\\tEG_loss_t:{4:.8f}\\tDD_loss_s:{5:.8f}\\tDD_loss_t:{6:.8f}\\tDG_loss_t:{7:.8f}\".format(\n",
        "                            epoch + 1,iters,en_d_s_loss.item(),en_d_t_loss.item(),en_g_t_loss.item(),\n",
        "                            de_d_s_loss.item(),de_d_t_loss.item(),de_g_t_loss.item()))\n",
        "                        # print(\"[{0:d}:{1:d}] --- loss_CNN:{2:.10f}\".format(\n",
        "                    \n",
        "                            # epoch + 1,iters,loss_cnn.item()))\n",
        "                  \n",
        "                    train_dd_loss.append(de_d_s_loss.item())        \n",
        "                iters += 1\n",
        "\n",
        "            # train_loss_seg = np.average(train_losses_seg)\n",
        "                # avg_train_losses_seg.append(train_loss_seg)\n",
        "            \n",
        "                # train_loss_dd=np.average(train_dd_loss)\n",
        "                # avg_train_dd_loss.append(train_loss_dd)\n",
        "                # train_dd_loss=[]\n",
        "            avg_train_losses_seg.append(np.average(train_losses_seg))\n",
        "            train_losses_seg=[]\n",
        "            # train_loss_cnn = np.average(train_losses_cnn)\n",
        "            # avg_train_losses_cnn.append(train_loss_cnn)\n",
        "                # avg_train_dd_loss.append(train_loss_dd)\n",
        "\n",
        "            # train_losses_seg=[]\n",
        "            # train_dd_loss=[]\n",
        "            #,train_losses_cnn = [],[]\n",
        "                # valid_losses = []\n",
        "                \n",
        "            #     Loss_seg.append(loss_seg.item())\n",
        "            #     Loss_CNN.append(loss_cnn.item())\n",
        "\n",
        "            #     writer.add_scalar(\"SegLoss/train_batch\", loss_seg.item(), iters)\n",
        "            #     writer.add_scalar(\"CNNLoss/train_batch\", loss_cnn.item(), iters)\n",
        "            #     # writer.add_scalar(\"Pre\", acc, epoch)\n",
        "            #     # writer.add_scalar(\"F1\", acc, epoch)\n",
        "            #     # iters += 1\n",
        "\n",
        "            # writer.add_scalar(\"SegLoss/train_epoch\", np.mean(Loss_seg), epoch)\n",
        "            # writer.add_scalar(\"CNNLoss/train_epoch\", np.mean(Loss_CNN),epoch)\n",
        "\n",
        "\n",
        "            ######################    \n",
        "            # validate the model #\n",
        "            ######################\n",
        "            \n",
        "            val_loss=self.model_eval(encoder_s,decoder,seg_loss) #loss_cnn,total_correct\n",
        "            val_losses.append(val_loss)\n",
        "            self.save_ckpt(encoder_s,encoder_t,decoder,epoch+1)\n",
        "            # print(\"[0:\"+str(epoch+1)+\":validation] --- loss_seg:\"+val_loss+\"\\t\")\n",
        "            print(\"[{0:d}:validation] --- loss_seg:{1:.10f}\".format(epoch + 1,val_loss))\n",
        "\n",
        "            # accuracy_val.append(accuracy)\n",
        "\n",
        "            # if epoch==0:\n",
        "              # best_acc=total_correct\n",
        "            # writer.add_scalar(\"Loss\", total_loss, epoch)\n",
        "            # writer.add_scalar(\"Accuracy/val\", acc, epoch)\n",
        "            # writer.add_scalar(\"Sen/val\", acc, epoch)\n",
        "            # writer.add_scalar(\"Pre/val\", acc, epoch)\n",
        "            # writer.add_scalar(\"F1/val\", acc, epoch)\n",
        "            # writer.add_scalar(\"Accuracy\", total_correct/ len(train_set), epoch)\n",
        "            # test_iou,test_dice,acc,sen,pre,f1, auc= self.model_eval(encoder_t,decoder,cnn_model)\n",
        "            # print(test_iou,test_dice)\n",
        "            # if f1>0:#(test_iou>iou) & (test_dice>dice):\n",
        "            # if  epoch ==args[\"epoches\"]:\n",
        "            #   cv2.imwrite(\"/content/drive/My Drive/FYP/ECGpdf2data/data/train/binary_image/binary_image.png\", binary_image)\n",
        "            #   cv2.imwrite(\"/content/drive/My Drive/FYP/ECGpdf2data/data/train/greyscale_image/greyscale_image.png\", grey_image)\n",
        "            #   cv2.imwrite(\"/content/obj_measurement_new.jpg\", resized)\n",
        "            # self.save_ckpt(encoder_s,encoder_t,decoder,epoch+1)\n",
        "            self.model_test(epoch+1)\n",
        "            args[\"time\"]= args[\"time\"]+1\n",
        "                # iou = test_iou\n",
        "                # dice = test_dice\n",
        "            # if total_correct > best_acc:\n",
        "            #   best_acc = total_correct\n",
        "            #   es = 0\n",
        "            #   self.save_ckpt(encoder_s,encoder_t,decoder,cnn_model,epoch)\n",
        "            #   # torch.save(net.state_dict(), \"model_\" + str(fold) + 'weight.pt')\n",
        "            # else:\n",
        "            #     es += 1\n",
        "            #     print(\"Counter {} of 5\".format(es),\"total_correct: \", total_correct)\n",
        "\n",
        "            #     if es > 4:\n",
        "            #       print(\"Early stopping with best_acc: \", best_acc, \"and val_acc for this epoch: \", total_correct, \"...\")\n",
        "            #       break\n",
        "            #       # writer.flush()\n",
        "            #       # writer.close()  \n",
        "\n",
        "        # plot_loss(avg_train_losses_seg,\"Loss_seg_train\")\n",
        "        # # val_losses\n",
        "        # plot_loss(val_losses,\"Validation loss\")\n",
        "        # plot_loss(avg_train_dd_loss,\"Loss_seg_dd_s_train\")\n",
        "        # plot_loss(avg_valid_losses_cnn,'avg_valid_losses_cnn')\n",
        "        # plot_loss(accuracy_val,'accuracy')\n",
        "        # self.model_test(encoder_t,decoder,cnn_model)\n",
        "        # return {'avg_train_losses_seg': avg_train_losses_seg,'avg_train_losses_dds': avg_train_dd_loss}#,\n",
        "               # 'auuracy_val':accuracy_val,'avg_train_losses_cnn': avg_train_losses_cnn}\n",
        "        # return {'avg_train_losses_seg': avg_train_losses_seg,'avg_train_losses_cnn': avg_train_losses_cnn,\n",
        "        #         'avg_valid_losses_acc': avg_valid_losses_acc,'avg_valid_losses_f1': avg_valid_losses_f1,\n",
        "        #         'avg_valid_losses_correctness':avg_valid_losses_correctness,'avg_valid_losses_cnn': avg_valid_losses_cnn,\n",
        "        #         'avg_train_losses_dds': avg_train_dd_loss}\n",
        "        ###plot\n",
        "        return avg_train_losses_seg,val_losses\n",
        "        \n",
        "    def train(self):\n",
        "      cnn_model=CNN().cuda()\n",
        "\n",
        "      optimizer_cnn = optim.Adam(cnn_model.parameters(),lr=1e-03)#,weight_decay=5e-4)\n",
        "      C_loss = nn.BCELoss().cuda()\n",
        "\n",
        "      ###training the model###\n",
        "      print('*******CNN training********')\n",
        "      train_losses_avg=[]\n",
        "      train_acc_avg=[]\n",
        "\n",
        "      cnn_model.train()\n",
        "      # print(len(self.train_loader))\n",
        "      for epoch in range(args[\"epoches\"]):\n",
        "        \n",
        "        train_losses = []\n",
        "        train_acc=0\n",
        "        iter=0\n",
        "        for idx,batch in enumerate(self.train_loader):\n",
        "          iter+=1\n",
        "          image_t=batch[2].cuda()\n",
        "          image_t_label=batch[3].float().cuda()\n",
        "\n",
        "          cnn_output=cnn_model(image_t)\n",
        "\n",
        "          #loss\n",
        "          cnn_output=torch.flatten(cnn_output).cuda()\n",
        "          # print(cnn_output,image_t_label)\n",
        "          loss_cnn=C_loss(cnn_output,image_t_label)\n",
        "          train_losses.append(loss_cnn.item())\n",
        "          \n",
        "          optimizer_cnn.zero_grad()\n",
        "          loss_cnn.backward()\n",
        "          optimizer_cnn.step()\n",
        "          \n",
        "          # accuracy#\n",
        "          train_acc += get_num_correct(cnn_output,image_t_label)\n",
        "          # print(train_acc)\n",
        "        \n",
        "        num=(iter)*args[ \"batch_size\"]\n",
        "        train_losses_avg.append(mean(train_losses))\n",
        "        train_acc_avg.append(train_acc/num)\n",
        "        print('Epoch : ',epoch+1, '\\t', 'loss :',  mean(train_losses_avg), \n",
        "              'acc :',mean(train_losses) ,num)\n",
        "\n",
        "      plt.plot( train_losses_avg, label='Training loss')\n",
        "      plt.show()\n",
        "      plt.plot( train_acc_avg, label='Training Accuracy')\n",
        "      plt.show()\n",
        "      plt.plot( train_losses_avg, label='Training loss')\n",
        "      plt.plot( train_acc_avg, label='Training Accuracy')\n",
        "      plt.show()\n",
        "      # plt.legend()\n",
        "      \n",
        "\n",
        "      ###testing the model###\n",
        "      print('*******CNN training********')\n",
        "      cnn_model.eval()\n",
        "      test_losses_avg=[]\n",
        "      test_losses = []\n",
        "      test_acc=0\n",
        "      # print(len(self.test_loader))\n",
        "      iter=0\n",
        "      for idx,batch in enumerate(self.test_loader):\n",
        "        iter+=1\n",
        "        image = batch[0].float().cuda()\n",
        "        label = batch[1].float().cuda().float().cuda()\n",
        "\n",
        "        cnn_output=cnn_model(image)\n",
        "        cnn_output=torch.flatten(cnn_output).cuda()\n",
        "        # print(cnn_output,label)\n",
        "        loss_cnn=C_loss(cnn_output,label)\n",
        "        test_losses.append(loss_cnn.item())\n",
        "        # accuracy#\n",
        "        test_acc += get_num_correct(cnn_output,label)\n",
        "        # print(test_acc)\n",
        "      num=(iter)*args[ \"batch_size\"]\n",
        "      plt.plot( test_losses, label='Test loss')\n",
        "      # plt.legend()\n",
        "      plt.show()\n",
        "      print('Test loss average : ', mean(test_losses),'Test Acuracy : ', test_acc/num,num)"
      ],
      "metadata": {
        "id": "AsJDr4dP8leC"
      },
      "execution_count": null,
      "outputs": []
    },
    {
      "cell_type": "markdown",
      "source": [
        "##CNN_Train"
      ],
      "metadata": {
        "id": "uzABWMEx-Ogv"
      }
    },
    {
      "cell_type": "code",
      "source": [
        "from torch.utils.data import random_split\n",
        "\n",
        "class CNN_Trainers:\n",
        "    def __init__(self):\n",
        "        data_loader = Choroid_loader(root_path=args[\"root_CNN\"],datasets=\"CNN\")\n",
        "        self.train_loader = data_loader.load_train_data(batch_size=args[\"cnn_batch_size\"])\n",
        "        self.val_loader = data_loader.load_val_data(batch_size=args[\"cnn_batch_size\"])\n",
        "        self.test_loader = data_loader.load_test_data(batch_size=args['cnn_batch_size'])\n",
        "        # print(len(self.train_loader.dataset))\n",
        "    def save_ckpt(self,cnn_model,epoch):\n",
        "        if not os.path.exists(args[\"ckpt_path2\"]):\n",
        "            os.makedirs(args[\"ckpt_path2\"])\n",
        "\n",
        "        state = {\"cnn_model\":cnn_model.state_dict()}\n",
        "        torch.save(state,args[\"ckpt_path2\"] + args[\"name\"] + \"_epoch_\" + str(epoch) + \".pkl\")\n",
        "        print(\"---> save model:{} <---\".format(args[\"ckpt_path2\"]))\n",
        "        print(args[\"ckpt_path2\"] + args[\"name\"] + \"_epoch_\" + str(epoch) +\".pkl\")\n",
        "\n",
        "    def get_ckpt(self,epoch):\n",
        "        cnn_model=CNN().cuda()\n",
        "\n",
        "        checkpoint = torch.load(args[\"ckpt_path2\"] + args[\"name\"] + \"_epoch_\" + str(epoch)+ \".pkl\")\n",
        "        cnn_model.load_state_dict(checkpoint['cnn_model'])\n",
        "        return cnn_model    \n",
        "\n",
        "    def test(self,epoch):#,cnn_model):\n",
        "      print(\"----------Start testing CNN model----------\")\n",
        "      accuracy=0\n",
        "      correct=0\n",
        "      # cnn_model=CNN().cuda()\n",
        "      cnn_model=self.get_ckpt(epoch)\n",
        "\n",
        "      for idx,batch in enumerate(self.test_loader): \n",
        "          image=batch[0].float().cuda()\n",
        "          label=batch[1].float().cuda()\n",
        "          label=label.view(label.shape[0],1)\n",
        "\n",
        "          pred = cnn_model(image)\n",
        "\n",
        "          pred[pred<=0.5]=0\n",
        "          pred[pred>0.5]=1\n",
        "            \n",
        "          # print(\"CNN output: \",cnn_output,\"Label: \",label)\n",
        "          # accuracy_score(train_y, predictions)\n",
        "          correct += (pred == label).float().sum().item()\n",
        "          \n",
        "          # accurate=get_num_correct(cnn_output,label)\n",
        "          # print(type(accurate),accurate)\n",
        "          # accuracy+=accurate\n",
        "      accuracy = correct / len(self.test_loader.dataset)\n",
        "\n",
        "      # plot_loss(accuracy,'Test Acc')\n",
        "      # plot_loss(accuracy,'Test Accuracy')\n",
        "      # if (accuracy/(args['batch_size']*len(self.test_loader)))<0.5:\n",
        "      #    print(\"test accuracy: \",0.621488,\" over \", (args['batch_size']*len(self.test_loader)))\n",
        "      # else:\n",
        "      # print(\"test accuracy: \", accuracy/(args['batch_size']*len(self.test_loader)),\" over \", (args['batch_size']*len(self.test_loader)))\n",
        "      print(\"Test Accuracy = {}\".format(accuracy))\n",
        " \n",
        "    def eval(self,cnn_model,C_loss):\n",
        "        print(\"----------Start validating CNN model----------\")\n",
        "\n",
        "        cnn_model.eval()\n",
        "\n",
        "        iou,dice = [],[]\n",
        "        acc,sen,pre,f1, auc= [],[],[],[],[]\n",
        "        val_loss_cnn=[]\n",
        "        file_num = 0\n",
        "        total_correct=0\n",
        "\n",
        "        correct=0\n",
        "        accuracy=0\n",
        "        train_losses=[]\n",
        "        for idx,batch in enumerate(self.val_loader):\n",
        "            image = batch[0].float().cuda()\n",
        "            label = batch[1].float().cuda()\n",
        "            label=label.view(label.shape[0],1)\n",
        "          \n",
        "            pred = cnn_model(image)\n",
        "            loss_cnn=C_loss(pred,label)\n",
        "            train_losses.append(loss_cnn.item())\n",
        "\n",
        "            # print(\"CNN val output: \",pred,\"Label: \",label)\n",
        "            # accuracy_score(train_y, predictions)\n",
        "            pred[pred>0.5]=1\n",
        "            pred[pred<=0.5]=0\n",
        "            correct += (pred == label).float().sum().item()\n",
        "\n",
        "            # total_correct+=get_num_correct(cnn_output,label)\n",
        "            # print(\"correct: \",total_correct)\n",
        "            # file_num += 1 \n",
        "\n",
        "        accuracy = correct / len(self.val_loader.dataset)\n",
        "        return mean(train_losses),accuracy\n",
        "\n",
        "        \n",
        "\n",
        "        # return np.mean(iou),np.mean(dice),np.mean(acc),np.mean(sen),np.mean(pre),np.mean(f1),np.mean(auc)\n",
        "        # pyplot.subplot(1, 2, 1) # have two plots in 1 row two columns, first plot\n",
        "        # assuming im is batch x channel x h x w and channel is RGB\n",
        "        # pyplot.plot(image[0,:,:,:].detach().cpu())#.permute(1, 2, 0))\n",
        "        # pyplot.subplot(1, 2, 2) # second plot\n",
        "        # pyplot.plot(pred[0,:,:,:].detach().cpu())\n",
        "\n",
        "        # for i in range(image.size(0)):\n",
        "        #   print(\"print image\")\n",
        "        #   img_plot = image[i,:,:,:].detach().cpu().permute(1, 2, 0)\n",
        "        #   plt.imshow(img_plot)\n",
        "        # for i in range(pred.size(0)):\n",
        "        #   print(\"print pred\")\n",
        "        #   img_plot = pred[i,:,:,:].detach().cpu().permute(1, 2, 0)\n",
        "        #   # img_plot.squeeze(axis=2)\n",
        "        #   plt.imshow(img_plot.squeeze(axis=2))\n",
        "        \n",
        "        \n",
        "        # return np.mean(acc),np.mean(sen),np.mean(pre),np.mean(f1),total_correct/len(self.test_loader),np.average(val_loss_cnn)#/len(self.test_loader)#,np.mean(auc)\n",
        "        \n",
        "        # return np.average(val_loss_cnn),total_correct/(len(self.test_loader)*args['batch_size'])\n",
        "\n",
        "\n",
        "    def train(self):\n",
        "          cnn_model=CNN().cuda()\n",
        "\n",
        "          optimizer_cnn = optim.Adam(cnn_model.parameters(),lr=1e-03)#,weight_decay=5e-4)\n",
        "          C_loss = nn.BCELoss().cuda()\n",
        "\n",
        "          ###training the model###\n",
        "          print('*******CNN training********')\n",
        "          train_losses_avg=[]\n",
        "          val_losses_avg=[]\n",
        "          # train_acc_avg=[]\n",
        "          train_accuracy=[]\n",
        "          val_accuracy=[]\n",
        "\n",
        "          cnn_model.train()\n",
        "          # print(len(self.train_loader))\n",
        "          for epoch in range(args[\"epoches\"]):\n",
        "            \n",
        "            train_losses = []\n",
        "            \n",
        "            # train_acc=0\n",
        "            # iter=0\n",
        "\n",
        "            correct=0\n",
        "            for idx,batch in enumerate(self.train_loader):\n",
        "              image = batch[0].float().cuda()\n",
        "              label = batch[1].float().cuda()\n",
        "              label=label.view(label.shape[0],1)\n",
        "              # print(image.shape[0])\n",
        "\n",
        "              pred=cnn_model(image)\n",
        "              # pred=torch.flatten(pred).cuda()\n",
        "              # print(\"CNN train output: \",pred,\"Label: \",label)\n",
        "# \n",
        "              #loss\n",
        "              # pred=torch.flatten(pred).cuda()\n",
        "              # print(cnn_output,image_t_label)\n",
        "              loss_cnn=C_loss(pred,label)\n",
        "              # print(loss_cnn)\n",
        "              train_losses.append(loss_cnn.item())\n",
        "              \n",
        "              optimizer_cnn.zero_grad()\n",
        "              loss_cnn.backward()\n",
        "              optimizer_cnn.step()\n",
        "              \n",
        "              # accuracy#\n",
        "              pred[pred>0.5]=1\n",
        "              pred[pred<=0.5]=0\n",
        "              correct += (pred == label).float().sum().item()\n",
        "              # print(\"correct:\", correct)\n",
        "              # train_acc += get_num_correct(cnn_output,image_t_label)\n",
        "              # print(train_acc)\n",
        "            \n",
        "            # num=(iter)*args[ \"batch_size\"]\n",
        "            train_losses_avg.append(mean(train_losses))\n",
        "            train_accuracy.append(correct / len(self.train_loader.dataset) )\n",
        "\n",
        "            # train_acc_avg.append(train_acc/num)\n",
        "            print('Epoch : ',epoch+1, '\\t', 'loss :',  mean(train_losses), \n",
        "                  'acc :',train_accuracy[-1])\n",
        "            correct=0\n",
        "            train_losses=0\n",
        "\n",
        "            ######################    \n",
        "            # validate the model #\n",
        "            ######################\n",
        "            val_loss,val_acc=self.eval(cnn_model,C_loss)\n",
        "            val_losses_avg.append(val_loss)\n",
        "            val_accuracy.append(val_acc)\n",
        "            print('Validation loss :',  val_loss, \n",
        "                  'acc :',val_acc)\n",
        "\n",
        "            if val_losses_avg[-1]<=0.6:\n",
        "                self.save_ckpt(cnn_model,epoch+1)\n",
        "\n",
        "          plot_loss(train_losses_avg,'Train loss',val_losses_avg,'Validation loss')\n",
        "          plot_loss(train_accuracy,'Train Acc',val_accuracy,'Validation Acc')\n",
        "          # plt.plot( train_losses_avg, label='Train loss')\n",
        "          # plt.plot( val_losses_avg, label='Validation loss')\n",
        "          # plt.show()\n",
        "          # plot_loss(train_accuracy,'Train Accuracy')\n",
        "          # plot_loss(val_accuracy,'Validation Accuracy')\n",
        "          # plt.show()\n",
        "\n",
        "          # plt.show()\n",
        "\n",
        "          \n",
        "          \n",
        "          # plt.legend()\n",
        "          \n",
        "\n",
        "          # ###testing the model###\n",
        "          # print('*******CNN training********')\n",
        "          # cnn_model.eval()\n",
        "          # test_losses_avg=[]\n",
        "          # test_losses = []\n",
        "          # test_acc=0\n",
        "          # # print(len(self.test_loader))\n",
        "          # iter=0\n",
        "          # for idx,batch in enumerate(self.test_loader):\n",
        "          #   iter+=1\n",
        "          #   image = batch[0].float().cuda()\n",
        "          #   label = batch[1].float().cuda().float().cuda()\n",
        "\n",
        "          #   cnn_output=cnn_model(image)\n",
        "          #   cnn_output=torch.flatten(cnn_output).cuda()\n",
        "          #   # print(cnn_output,label)\n",
        "          #   loss_cnn=C_loss(cnn_output,label)\n",
        "          #   test_losses.append(loss_cnn.item())\n",
        "          #   # accuracy#\n",
        "          #   test_acc += get_num_correct(cnn_output,label)\n",
        "          #   # print(test_acc)\n",
        "          # num=(iter)*args[ \"batch_size\"]\n",
        "          # plt.plot( test_losses, label='Test loss')\n",
        "          # # plt.legend()\n",
        "          # plt.show()\n",
        "          # print('Test loss average : ', mean(test_losses),'Test Acuracy : ', test_acc/num,num)\n",
        "\n",
        "\n",
        "          ####store point"
      ],
      "metadata": {
        "id": "h3psRvBK-Pl4"
      },
      "execution_count": null,
      "outputs": []
    },
    {
      "cell_type": "markdown",
      "source": [
        "##Run"
      ],
      "metadata": {
        "id": "_Nc1wKOyAsdK"
      }
    },
    {
      "cell_type": "code",
      "source": [
        "#os.environ[\"CUDA_VISIBLE_DEVICES\"] = '0'\n",
        "torch.cuda.empty_cache()\n",
        "\n",
        "trainer = Trainers()\n",
        "avg_train_losses_seg,val_losses=trainer.train(retrain=1) \n",
        "plot_loss(avg_train_losses_seg,\"Loss_seg_train\")\n",
        "        # val_losses\n",
        "plot_loss(val_losses,\"Validation loss\")\n",
        "# cnn_trainer = CNN_Trainers()\n",
        "# loss_results=trainer.train()\n",
        "#trainer.CNN_train()\n",
        "#cnn_trainer.CNN_train()"
      ],
      "metadata": {
        "id": "xf8FsTFMAtKB"
      },
      "execution_count": null,
      "outputs": []
    },
    {
      "cell_type": "code",
      "source": [
        "args[\"time\"]"
      ],
      "metadata": {
        "colab": {
          "base_uri": "https://localhost:8080/"
        },
        "id": "rk3Cr9V2Gj0i",
        "outputId": "e1f15853-e2ed-4eaa-d671-0fb2691328c1"
      },
      "execution_count": null,
      "outputs": [
        {
          "output_type": "execute_result",
          "data": {
            "text/plain": [
              "2"
            ]
          },
          "metadata": {},
          "execution_count": 66
        }
      ]
    },
    {
      "cell_type": "code",
      "source": [
        ""
      ],
      "metadata": {
        "id": "-scpR5kSGjqJ"
      },
      "execution_count": null,
      "outputs": []
    },
    {
      "cell_type": "code",
      "source": [
        "torch.cuda.empty_cache()\n",
        "\n",
        "# trainer = Trainers()\n",
        "cnn_trainer=CNN_Trainers()"
      ],
      "metadata": {
        "id": "gYJv2WWmVGwy"
      },
      "execution_count": null,
      "outputs": []
    },
    {
      "cell_type": "code",
      "source": [
        "cnn_trainer.train()"
      ],
      "metadata": {
        "colab": {
          "base_uri": "https://localhost:8080/",
          "height": 1000
        },
        "id": "Aws4j_Flvcn9",
        "outputId": "add052f1-a358-4379-b481-394657967d2d"
      },
      "execution_count": null,
      "outputs": [
        {
          "output_type": "stream",
          "name": "stdout",
          "text": [
            "*******CNN training********\n",
            "Epoch :  1 \t loss : 3.479722087936742 acc : 0.5144927536231884\n",
            "----------Start validating CNN model----------\n",
            "Epoch :  2 \t loss : 0.8369335860147008 acc : 0.7536231884057971\n",
            "----------Start validating CNN model----------\n",
            "Epoch :  3 \t loss : 0.5886325801589659 acc : 0.7971014492753623\n",
            "----------Start validating CNN model----------\n",
            "Epoch :  4 \t loss : 0.5176160074770451 acc : 0.8043478260869565\n",
            "----------Start validating CNN model----------\n",
            "---> save model:/content/drive/My Drive/FYP_Yixin_Cai/CNN_data/checkpoint/ <---\n",
            "/content/drive/My Drive/FYP_Yixin_Cai/CNN_data/checkpoint/GAA_epoch_4.pkl\n",
            "Epoch :  5 \t loss : 0.5206449005220618 acc : 0.8043478260869565\n",
            "----------Start validating CNN model----------\n",
            "---> save model:/content/drive/My Drive/FYP_Yixin_Cai/CNN_data/checkpoint/ <---\n",
            "/content/drive/My Drive/FYP_Yixin_Cai/CNN_data/checkpoint/GAA_epoch_5.pkl\n",
            "Epoch :  6 \t loss : 0.49097320304385256 acc : 0.8043478260869565\n",
            "----------Start validating CNN model----------\n",
            "---> save model:/content/drive/My Drive/FYP_Yixin_Cai/CNN_data/checkpoint/ <---\n",
            "/content/drive/My Drive/FYP_Yixin_Cai/CNN_data/checkpoint/GAA_epoch_6.pkl\n",
            "Epoch :  7 \t loss : 0.5010354896741254 acc : 0.7971014492753623\n",
            "----------Start validating CNN model----------\n",
            "---> save model:/content/drive/My Drive/FYP_Yixin_Cai/CNN_data/checkpoint/ <---\n",
            "/content/drive/My Drive/FYP_Yixin_Cai/CNN_data/checkpoint/GAA_epoch_7.pkl\n",
            "Epoch :  8 \t loss : 0.5058011630816119 acc : 0.8043478260869565\n",
            "----------Start validating CNN model----------\n",
            "Epoch :  9 \t loss : 0.5357700298939433 acc : 0.7898550724637681\n",
            "----------Start validating CNN model----------\n",
            "---> save model:/content/drive/My Drive/FYP_Yixin_Cai/CNN_data/checkpoint/ <---\n",
            "/content/drive/My Drive/FYP_Yixin_Cai/CNN_data/checkpoint/GAA_epoch_9.pkl\n",
            "Epoch :  10 \t loss : 0.5377461439264672 acc : 0.8043478260869565\n",
            "----------Start validating CNN model----------\n",
            "---> save model:/content/drive/My Drive/FYP_Yixin_Cai/CNN_data/checkpoint/ <---\n",
            "/content/drive/My Drive/FYP_Yixin_Cai/CNN_data/checkpoint/GAA_epoch_10.pkl\n",
            "Epoch :  11 \t loss : 0.49810913843767984 acc : 0.8043478260869565\n",
            "----------Start validating CNN model----------\n",
            "---> save model:/content/drive/My Drive/FYP_Yixin_Cai/CNN_data/checkpoint/ <---\n",
            "/content/drive/My Drive/FYP_Yixin_Cai/CNN_data/checkpoint/GAA_epoch_11.pkl\n",
            "Epoch :  12 \t loss : 0.5136529984218734 acc : 0.8043478260869565\n",
            "----------Start validating CNN model----------\n",
            "---> save model:/content/drive/My Drive/FYP_Yixin_Cai/CNN_data/checkpoint/ <---\n",
            "/content/drive/My Drive/FYP_Yixin_Cai/CNN_data/checkpoint/GAA_epoch_12.pkl\n",
            "Epoch :  13 \t loss : 0.5463951815451894 acc : 0.8043478260869565\n",
            "----------Start validating CNN model----------\n",
            "---> save model:/content/drive/My Drive/FYP_Yixin_Cai/CNN_data/checkpoint/ <---\n",
            "/content/drive/My Drive/FYP_Yixin_Cai/CNN_data/checkpoint/GAA_epoch_13.pkl\n",
            "Epoch :  14 \t loss : 0.497384856321982 acc : 0.8043478260869565\n",
            "----------Start validating CNN model----------\n",
            "---> save model:/content/drive/My Drive/FYP_Yixin_Cai/CNN_data/checkpoint/ <---\n",
            "/content/drive/My Drive/FYP_Yixin_Cai/CNN_data/checkpoint/GAA_epoch_14.pkl\n",
            "Epoch :  15 \t loss : 0.512761728571994 acc : 0.8043478260869565\n",
            "----------Start validating CNN model----------\n",
            "---> save model:/content/drive/My Drive/FYP_Yixin_Cai/CNN_data/checkpoint/ <---\n",
            "/content/drive/My Drive/FYP_Yixin_Cai/CNN_data/checkpoint/GAA_epoch_15.pkl\n",
            "Epoch :  16 \t loss : 0.5029040835797787 acc : 0.8043478260869565\n",
            "----------Start validating CNN model----------\n",
            "---> save model:/content/drive/My Drive/FYP_Yixin_Cai/CNN_data/checkpoint/ <---\n",
            "/content/drive/My Drive/FYP_Yixin_Cai/CNN_data/checkpoint/GAA_epoch_16.pkl\n",
            "Epoch :  17 \t loss : 0.5094588111553874 acc : 0.8043478260869565\n",
            "----------Start validating CNN model----------\n",
            "---> save model:/content/drive/My Drive/FYP_Yixin_Cai/CNN_data/checkpoint/ <---\n",
            "/content/drive/My Drive/FYP_Yixin_Cai/CNN_data/checkpoint/GAA_epoch_17.pkl\n",
            "Epoch :  18 \t loss : 0.49370772019028664 acc : 0.8043478260869565\n",
            "----------Start validating CNN model----------\n",
            "---> save model:/content/drive/My Drive/FYP_Yixin_Cai/CNN_data/checkpoint/ <---\n",
            "/content/drive/My Drive/FYP_Yixin_Cai/CNN_data/checkpoint/GAA_epoch_18.pkl\n",
            "Epoch :  19 \t loss : 0.5199698702033076 acc : 0.8043478260869565\n",
            "----------Start validating CNN model----------\n",
            "---> save model:/content/drive/My Drive/FYP_Yixin_Cai/CNN_data/checkpoint/ <---\n",
            "/content/drive/My Drive/FYP_Yixin_Cai/CNN_data/checkpoint/GAA_epoch_19.pkl\n",
            "Epoch :  20 \t loss : 0.5070248272802148 acc : 0.8043478260869565\n",
            "----------Start validating CNN model----------\n",
            "---> save model:/content/drive/My Drive/FYP_Yixin_Cai/CNN_data/checkpoint/ <---\n",
            "/content/drive/My Drive/FYP_Yixin_Cai/CNN_data/checkpoint/GAA_epoch_20.pkl\n"
          ]
        },
        {
          "output_type": "display_data",
          "data": {
            "text/plain": [
              "<Figure size 720x576 with 1 Axes>"
            ],
            "image/png": "[encoded data removed]"
          },
          "metadata": {
            "needs_background": "light"
          }
        },
        {
          "output_type": "display_data",
          "data": {
            "text/plain": [
              "<Figure size 720x576 with 1 Axes>"
            ],
            "image/png": "[encoded data removed]"
          },
          "metadata": {
            "needs_background": "light"
          }
        }
      ]
    },
    {
      "cell_type": "code",
      "source": [
        "cnn_trainer.test(20)"
      ],
      "metadata": {
        "id": "yVZsR-AkCA5K",
        "colab": {
          "base_uri": "https://localhost:8080/"
        },
        "outputId": "198aee82-7519-4ffc-a03a-7e45c9894cc2"
      },
      "execution_count": null,
      "outputs": [
        {
          "output_type": "stream",
          "name": "stdout",
          "text": [
            "----------Start testing CNN model----------\n",
            "Test Accuracy = 0.7058823529411765\n"
          ]
        }
      ]
    },
    {
      "cell_type": "code",
      "source": [
        "seg_loss =nn.BCELoss().cuda()\n",
        "encoder_s,encoder_t,decoder=trainer.get_ckpt(epoch=1, time=1)\n",
        "val_loss=trainer.model_eval(encoder_s,decoder,seg_loss)\n",
        "# trainer.model_test(epoch=1)"
      ],
      "metadata": {
        "colab": {
          "base_uri": "https://localhost:8080/"
        },
        "id": "zyw4kGLtQkj5",
        "outputId": "b855ef31-1b49-4fc4-da1b-57144ff2ddae"
      },
      "execution_count": null,
      "outputs": [
        {
          "output_type": "stream",
          "name": "stdout",
          "text": [
            "----------Start validating model----------\n"
          ]
        }
      ]
    },
    {
      "cell_type": "code",
      "source": [
        "epoch=1\n",
        "print(\"[{0:d}:validation] --- loss_seg:{1:.10f}\".format(epoch + 1,val_loss))"
      ],
      "metadata": {
        "colab": {
          "base_uri": "https://localhost:8080/"
        },
        "id": "qTPvMqgOcaYY",
        "outputId": "e2e9a15e-3a5b-41da-93f4-93b5046ca1e3"
      },
      "execution_count": null,
      "outputs": [
        {
          "output_type": "stream",
          "name": "stdout",
          "text": [
            "[2:validation] --- loss_seg:0.6863833904\n"
          ]
        }
      ]
    },
    {
      "cell_type": "code",
      "source": [
        "trainer.model_test(epoch=1)"
      ],
      "metadata": {
        "id": "H7ajTcNmS3qH"
      },
      "execution_count": null,
      "outputs": []
    },
    {
      "cell_type": "code",
      "source": [
        "\n",
        "image_list = os.listdir('/content/drive/My Drive/FYP_Yixin_Cai/GAA_data/test/output2')\n",
        "image_list"
      ],
      "metadata": {
        "colab": {
          "base_uri": "https://localhost:8080/"
        },
        "id": "HkIZvbih4w3h",
        "outputId": "e36f50fe-6209-4d1f-d7e7-2ff6991567c6"
      },
      "execution_count": null,
      "outputs": [
        {
          "output_type": "execute_result",
          "data": {
            "text/plain": [
              "['binary_image_1',\n",
              " 'binary_image_0',\n",
              " 'greyscale_image_0',\n",
              " 'binary_image_2',\n",
              " 'greyscale_image_1',\n",
              " 'greyscale_image_2',\n",
              " 'binary_image_5']"
            ]
          },
          "metadata": {},
          "execution_count": 29
        }
      ]
    },
    {
      "cell_type": "code",
      "source": [
        "from google.colab import drive\n",
        "drive.mount('/content/drive')"
      ],
      "metadata": {
        "id": "n_lEZ8Yx5SEv",
        "colab": {
          "base_uri": "https://localhost:8080/"
        },
        "outputId": "d6276bca-a8a1-4e74-af93-7f96b5836de2"
      },
      "execution_count": null,
      "outputs": [
        {
          "output_type": "stream",
          "name": "stdout",
          "text": [
            "Drive already mounted at /content/drive; to attempt to forcibly remount, call drive.mount(\"/content/drive\", force_remount=True).\n"
          ]
        }
      ]
    },
    {
      "cell_type": "markdown",
      "source": [
        "##Test"
      ],
      "metadata": {
        "id": "aNhVwf5pGxaN"
      }
    },
    {
      "cell_type": "code",
      "source": [
        "# image_path = '/content/drive/My Drive/FYP/ECGpdf2data/data/train/cropped_png/cropped'\n",
        "image_path = '/content/drive/My Drive/FYP/ECGpdf2data/data/train/digitized_paper'\n",
        "image_list = os.listdir(image_path)\n",
        "image_list = [x for x in image_list if '.DS_Store' not in x]\n",
        "image_list = [x for x in image_list if '.ipynb_checkpoints' not in x]"
      ],
      "metadata": {
        "id": "Vz_oEdG8FNFg",
        "colab": {
          "base_uri": "https://localhost:8080/",
          "height": 1000
        },
        "outputId": "8bb91215-ad38-44bc-a7af-c5856db22d4f"
      },
      "execution_count": null,
      "outputs": [
        {
          "output_type": "error",
          "ename": "FileNotFoundError",
          "evalue": "ignored",
          "traceback": [
            "\u001b[0;31m---------------------------------------------------------------------------\u001b[0m",
            "\u001b[0;31mFileNotFoundError\u001b[0m                         Traceback (most recent call last)",
            "\u001b[0;32m<ipython-input-20-ed0c04887597>\u001b[0m in \u001b[0;36m<module>\u001b[0;34m()\u001b[0m\n\u001b[1;32m      1\u001b[0m \u001b[0;31m# image_path = '/content/drive/My Drive/FYP/ECGpdf2data/data/train/cropped_png/cropped'\u001b[0m\u001b[0;34m\u001b[0m\u001b[0;34m\u001b[0m\u001b[0;34m\u001b[0m\u001b[0m\n\u001b[1;32m      2\u001b[0m \u001b[0mimage_path\u001b[0m \u001b[0;34m=\u001b[0m \u001b[0;34m'/content/drive/My Drive/FYP/ECGpdf2data/data/train/digitized_paper'\u001b[0m\u001b[0;34m\u001b[0m\u001b[0;34m\u001b[0m\u001b[0m\n\u001b[0;32m----> 3\u001b[0;31m \u001b[0mimage_list\u001b[0m \u001b[0;34m=\u001b[0m \u001b[0mos\u001b[0m\u001b[0;34m.\u001b[0m\u001b[0mlistdir\u001b[0m\u001b[0;34m(\u001b[0m\u001b[0mimage_path\u001b[0m\u001b[0;34m)\u001b[0m\u001b[0;34m\u001b[0m\u001b[0;34m\u001b[0m\u001b[0m\n\u001b[0m\u001b[1;32m      4\u001b[0m \u001b[0mimage_list\u001b[0m \u001b[0;34m=\u001b[0m \u001b[0;34m[\u001b[0m\u001b[0mx\u001b[0m \u001b[0;32mfor\u001b[0m \u001b[0mx\u001b[0m \u001b[0;32min\u001b[0m \u001b[0mimage_list\u001b[0m \u001b[0;32mif\u001b[0m \u001b[0;34m'.DS_Store'\u001b[0m \u001b[0;32mnot\u001b[0m \u001b[0;32min\u001b[0m \u001b[0mx\u001b[0m\u001b[0;34m]\u001b[0m\u001b[0;34m\u001b[0m\u001b[0;34m\u001b[0m\u001b[0m\n\u001b[1;32m      5\u001b[0m \u001b[0mimage_list\u001b[0m \u001b[0;34m=\u001b[0m \u001b[0;34m[\u001b[0m\u001b[0mx\u001b[0m \u001b[0;32mfor\u001b[0m \u001b[0mx\u001b[0m \u001b[0;32min\u001b[0m \u001b[0mimage_list\u001b[0m \u001b[0;32mif\u001b[0m \u001b[0;34m'.ipynb_checkpoints'\u001b[0m \u001b[0;32mnot\u001b[0m \u001b[0;32min\u001b[0m \u001b[0mx\u001b[0m\u001b[0;34m]\u001b[0m\u001b[0;34m\u001b[0m\u001b[0;34m\u001b[0m\u001b[0m\n",
            "\u001b[0;31mFileNotFoundError\u001b[0m: [Errno 2] No such file or directory: '/content/drive/My Drive/FYP/ECGpdf2data/data/train/digitized_paper'"
          ]
        }
      ]
    },
    {
      "cell_type": "code",
      "source": [
        "len(image_list),type(image_list[0])"
      ],
      "metadata": {
        "id": "zmK0GkSwF4mY"
      },
      "execution_count": null,
      "outputs": []
    },
    {
      "cell_type": "code",
      "source": [
        "image_list"
      ],
      "metadata": {
        "id": "hjRo2VvrnOYn"
      },
      "execution_count": null,
      "outputs": []
    },
    {
      "cell_type": "code",
      "source": [
        "image_list= [x[0:-4] for x in image_list]\n",
        "image_list, type(image_list[0])"
      ],
      "metadata": {
        "id": "efDZGntxfSvP"
      },
      "execution_count": null,
      "outputs": []
    },
    {
      "cell_type": "code",
      "source": [
        "image_path_3 = '/content/drive/My Drive/FYP/ECGpdf2data/dataset/12_lead_ECG/test'\n",
        "image_list_3 = os.listdir(image_path_3)\n",
        "image_list_3  = [x for x in image_list_3  if '.DS_Store' not in x]\n",
        "image_list_3  = [x for x in image_list_3 if '.ipynb_checkpoints' not in x]"
      ],
      "metadata": {
        "id": "7kyw3-_pKDWT"
      },
      "execution_count": null,
      "outputs": []
    },
    {
      "cell_type": "code",
      "source": [
        "len(image_list_3)"
      ],
      "metadata": {
        "id": "Grdr8NC1Kdrh"
      },
      "execution_count": null,
      "outputs": []
    },
    {
      "cell_type": "code",
      "source": [
        "import io\n",
        "!pip install -q xlrd"
      ],
      "metadata": {
        "id": "7w6Kniclb0qW"
      },
      "execution_count": null,
      "outputs": []
    },
    {
      "cell_type": "code",
      "source": [
        "df=pd.read_excel('/content/drive/My Drive/FYP/ECGpdf2data/dataset/12_lead_ECG/12_lead_ECG_DL_train.xlsx')\n",
        "\n",
        "print(df)"
      ],
      "metadata": {
        "id": "dv89_JgjbPLk"
      },
      "execution_count": null,
      "outputs": []
    },
    {
      "cell_type": "code",
      "source": [
        "data=df['ID'].values\n",
        "\n",
        "data_=data.tolist()"
      ],
      "metadata": {
        "id": "4J0PROvLjBO1"
      },
      "execution_count": null,
      "outputs": []
    },
    {
      "cell_type": "code",
      "source": [
        "type(data_[0])"
      ],
      "metadata": {
        "id": "roS6QrWipbUC"
      },
      "execution_count": null,
      "outputs": []
    },
    {
      "cell_type": "code",
      "source": [
        "# from contextlib import ExitStack\n",
        "results=[]\n",
        "for data in data_:\n",
        "  \n",
        "  # if(df['ID'] != int(image[0:-4])):\n",
        "  #   print(image[0:-4])\n",
        "  exist=0\n",
        "  for i in range(0,len(image_list)):\n",
        "    if str(data) == image_list[i]: exist=1\n",
        "  if(exist==0):\n",
        "    results.append(data)\n",
        "# results  = [x for x in data_ if x not in image_list]\n",
        "  # result = df[df['ID'] != int(image[0:-4])]\n",
        "  # print(result)\n",
        "  # label = result['Diagnosis'].values[0]  # 应该加在default loader里面\n",
        "  # mask_target.append(label)"
      ],
      "metadata": {
        "id": "6VHDLDxMI0Ud"
      },
      "execution_count": null,
      "outputs": []
    },
    {
      "cell_type": "code",
      "source": [
        "len(results)"
      ],
      "metadata": {
        "id": "t2qnWGG-njd5"
      },
      "execution_count": null,
      "outputs": []
    },
    {
      "cell_type": "code",
      "source": [
        "results"
      ],
      "metadata": {
        "id": "bKl73Zlwnk5_"
      },
      "execution_count": null,
      "outputs": []
    },
    {
      "cell_type": "markdown",
      "source": [
        "#Jpg to png"
      ],
      "metadata": {
        "id": "7d3d-HOwJbIO"
      }
    },
    {
      "cell_type": "code",
      "source": [
        "from PIL import Image\n",
        "\n",
        "imagr_folder=('/content/drive/My Drive/FYP_Yixin_Cai/GAA_data/test/digitized_paper')\n",
        "\n"
      ],
      "metadata": {
        "id": "B8TgSkSJoQOk"
      },
      "execution_count": null,
      "outputs": []
    },
    {
      "cell_type": "code",
      "source": [
        "image_list = os.listdir(imagr_folder)\n",
        "image_list = [x for x in image_list if '.DS_Store' not in x]\n",
        "image_list = [x for x in image_list if '.ipynb_checkpoints' not in x]"
      ],
      "metadata": {
        "id": "TGgPeS3CJ0VB"
      },
      "execution_count": null,
      "outputs": []
    },
    {
      "cell_type": "code",
      "source": [
        "for image in image_list:\n",
        "  im1 = Image. open(r'/content/drive/My Drive/FYP_Yixin_Cai/GAA_data/test/digitized_paper/'+image)\n",
        "  im1. save(r'/content/drive/My Drive/FYP_Yixin_Cai/GAA_data/test/digitized_paper2/'+image[0:-4]+'.png')\n",
        "  "
      ],
      "metadata": {
        "id": "9FewBxT7JtJN"
      },
      "execution_count": null,
      "outputs": []
    },
    {
      "cell_type": "code",
      "source": [
        "import os\n",
        "os.mkdir('/content/drive/My Drive/FYP_Yixin_Cai/GAA_data/test/output2/binary_image_5')"
      ],
      "metadata": {
        "colab": {
          "base_uri": "https://localhost:8080/",
          "height": 190
        },
        "id": "On0frHyp1pfh",
        "outputId": "5b413bc9-6eb3-4269-eb19-29a550471ac9"
      },
      "execution_count": null,
      "outputs": [
        {
          "output_type": "error",
          "ename": "FileExistsError",
          "evalue": "ignored",
          "traceback": [
            "\u001b[0;31m---------------------------------------------------------------------------\u001b[0m",
            "\u001b[0;31mFileExistsError\u001b[0m                           Traceback (most recent call last)",
            "\u001b[0;32m<ipython-input-9-772d5e2f4f5f>\u001b[0m in \u001b[0;36m<module>\u001b[0;34m()\u001b[0m\n\u001b[1;32m      1\u001b[0m \u001b[0;32mimport\u001b[0m \u001b[0mos\u001b[0m\u001b[0;34m\u001b[0m\u001b[0;34m\u001b[0m\u001b[0m\n\u001b[0;32m----> 2\u001b[0;31m \u001b[0mos\u001b[0m\u001b[0;34m.\u001b[0m\u001b[0mmkdir\u001b[0m\u001b[0;34m(\u001b[0m\u001b[0;34m'/content/drive/My Drive/FYP_Yixin_Cai/GAA_data/test/output2/binary_image_5'\u001b[0m\u001b[0;34m)\u001b[0m\u001b[0;34m\u001b[0m\u001b[0;34m\u001b[0m\u001b[0m\n\u001b[0m",
            "\u001b[0;31mFileExistsError\u001b[0m: [Errno 17] File exists: '/content/drive/My Drive/FYP_Yixin_Cai/GAA_data/test/output2/binary_image_5'"
          ]
        }
      ]
    },
    {
      "cell_type": "code",
      "source": [
        "from os import path\n",
        "\n",
        "if path.exists('/content/drive/My Drive/FYP_Yixin_Cai/GAA_data/test/output2/binary_image_5') == False:\n",
        "  os.mkdir('/content/drive/My Drive/FYP_Yixin_Cai/GAA_data/test/output2/binary_image_5')"
      ],
      "metadata": {
        "id": "gZnQCd7e3W_C"
      },
      "execution_count": null,
      "outputs": []
    }
  ]
}