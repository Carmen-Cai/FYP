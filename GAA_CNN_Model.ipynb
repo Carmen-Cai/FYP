{
  "nbformat": 4,
  "nbformat_minor": 0,
  "metadata": {
    "colab": {
      "name": "GAA-CNN_Model.ipynb",
      "provenance": [],
      "collapsed_sections": [
        "_uBr9JVb7zWO",
        "bMcFYZ4y8Oq-",
        "c_YJqGSH8ZSj"
      ],
      "toc_visible": true,
      "authorship_tag": "ABX9TyM+9KqLyiPvOfN9k5as4DjX",
      "include_colab_link": true
    },
    "kernelspec": {
      "name": "python3",
      "display_name": "Python 3"
    },
    "language_info": {
      "name": "python"
    },
    "accelerator": "GPU"
  },
  "cells": [
    {
      "cell_type": "markdown",
      "metadata": {
        "id": "view-in-github",
        "colab_type": "text"
      },
      "source": [
        "<a href=\"https://colab.research.google.com/github/Carmen-Cai/FYP/blob/main/GAA_CNN_Model.ipynb\" target=\"_parent\"><img src=\"https://colab.research.google.com/assets/colab-badge.svg\" alt=\"Open In Colab\"/></a>"
      ]
    },
    {
      "cell_type": "markdown",
      "source": [
        "#Settgings"
      ],
      "metadata": {
        "id": "B-xosFjC3bcq"
      }
    },
    {
      "cell_type": "markdown",
      "source": [
        "##Google docs"
      ],
      "metadata": {
        "id": "7rfrc10G4Hpw"
      }
    },
    {
      "cell_type": "code",
      "source": [
        "# Load the Drive helper and mount\n",
        "from google.colab import drive\n",
        "\n",
        "# This will prompt for authorization.\n",
        "drive.mount('/content/drive')\n",
        "# !ls \"/content/drive/My Drive/FYP/ECGpdf2data/data/train/cropped_png/Recur\""
      ],
      "metadata": {
        "id": "PO1X1G6J4MZJ",
        "colab": {
          "base_uri": "https://localhost:8080/"
        },
        "outputId": "99b83a29-a68c-4bc8-c81e-575ce9f798e1"
      },
      "execution_count": 2,
      "outputs": [
        {
          "output_type": "stream",
          "name": "stdout",
          "text": [
            "Drive already mounted at /content/drive; to attempt to forcibly remount, call drive.mount(\"/content/drive\", force_remount=True).\n"
          ]
        }
      ]
    },
    {
      "cell_type": "markdown",
      "source": [
        "##imports"
      ],
      "metadata": {
        "id": "9ocwwCYQ3uUJ"
      }
    },
    {
      "cell_type": "code",
      "source": [
        "# !pip install -U scikit-learn\n",
        "# !pip install visdom\n",
        "!pip install pytorchtools\n",
        "# from pytorchtools import EarlyStopping"
      ],
      "metadata": {
        "id": "8ynNWHFN34Xr",
        "colab": {
          "base_uri": "https://localhost:8080/"
        },
        "outputId": "a22f29a5-ccd9-4dd5-c17c-89df818318e1"
      },
      "execution_count": 3,
      "outputs": [
        {
          "output_type": "stream",
          "name": "stdout",
          "text": [
            "Looking in indexes: https://pypi.org/simple, https://us-python.pkg.dev/colab-wheels/public/simple/\n",
            "Requirement already satisfied: pytorchtools in /usr/local/lib/python3.7/dist-packages (0.0.2)\n"
          ]
        }
      ]
    },
    {
      "cell_type": "code",
      "source": [
        "import torch \n",
        "import torch.nn as nn\n",
        "import torchvision\n",
        "from torchvision.utils import save_image\n",
        "import torchvision.transforms as T \n",
        "from torch import optim\n",
        "import torch.nn.functional as F\n",
        "import numpy as np \n",
        "import os\n",
        "from os import path\n",
        "#from google.colab import auth\n",
        "import cv2\n",
        "from google.colab.patches import cv2_imshow\n",
        "import pandas as pd\n",
        "import sklearn.metrics as metrics\n",
        "from sklearn.metrics import accuracy_score\n",
        "from sklearn.model_selection import train_test_split\n",
        "from matplotlib import pyplot\n",
        "import matplotlib.pyplot as plt\n",
        "from PIL import Image\n",
        "from statistics import mean\n",
        "import torch.utils.data as data\n",
        "# import EarlyStopping\n",
        "# from pytorchtools import EarlyStopping\n",
        "#auth.authenticate_user()\n",
        "\n",
        "#from visdom import Visdom \n",
        "\n",
        "torch.cuda.is_available()"
      ],
      "metadata": {
        "id": "-AHeF2Us3glh",
        "colab": {
          "base_uri": "https://localhost:8080/"
        },
        "outputId": "c61504be-5bb5-45bf-d59d-106e70203e95"
      },
      "execution_count": 4,
      "outputs": [
        {
          "output_type": "execute_result",
          "data": {
            "text/plain": [
              "True"
            ]
          },
          "metadata": {},
          "execution_count": 4
        }
      ]
    },
    {
      "cell_type": "markdown",
      "source": [
        "##Parameter settings"
      ],
      "metadata": {
        "id": "h-yAjG_Y4RUZ"
      }
    },
    {
      "cell_type": "code",
      "source": [
        "args = {\n",
        "    #\"root\":\"/media/imed/GAA\",\n",
        "    \"root_GAA\":\"/content/drive/My Drive/FYP_Yixin_Cai/GAA_data\",#/origin_png/\",\n",
        "    \"root_CNN\":\"/content/drive/My Drive/FYP_Yixin_Cai/CNN_data\",\n",
        "    \"epoches\":2,#400,\n",
        "    \"lr\": 0.8e-3,#5, 来回 -》4\n",
        "    \"lr_cnn\":1e-3,\n",
        "    \"lr_ed\": 1e-3,\n",
        "    \"snapshot\":100,\n",
        "    \"test_step\":1,\n",
        "    \"ckpt_path\":\"/content/drive/My Drive/FYP_Yixin_Cai/GAA_data/checkpoint/\",\n",
        "    \"ckpt_path2\":\"/content/drive/My Drive/FYP_Yixin_Cai/CNN_data/checkpoint/\",\n",
        "    #\"ckpt_path\":\"/media/imed/Checkpoint/GAA/\",\n",
        "    \"batch_size\":25,\n",
        "    \"cnn_batch_size\":5,\n",
        "    \"name\":\"GAA\",\n",
        "    \"drop_out\":0.2,\n",
        "}"
      ],
      "metadata": {
        "id": "-RxMPgga4V2h"
      },
      "execution_count": 23,
      "outputs": []
    },
    {
      "cell_type": "markdown",
      "source": [
        "#Data Loading"
      ],
      "metadata": {
        "id": "Mu3LU1S65a-C"
      }
    },
    {
      "cell_type": "markdown",
      "source": [
        "##Basic Functions"
      ],
      "metadata": {
        "id": "CYf1QTM25NEd"
      }
    },
    {
      "cell_type": "code",
      "source": [
        "def random_HSV(image,h_limit=(-180,180),s_limit=(-255,255),v_limit=(-255,255),u=0.5):\n",
        "    if np.random.random() < u:\n",
        "        #rgb -> hsv\n",
        "        image = cv2.cvtColor(image,cv2.COLOR_BGR2HSV)\n",
        "        h,s,v = cv2.split(image)\n",
        "        h_shift = np.random.randint(h_limit[0],h_limit[1] + 1 )\n",
        "        h_shift = np.uint8(h_shift)\n",
        "        h += h_shift \n",
        "        s_shift = np.random.uniform(s_limit[0],s_limit[1])\n",
        "        s = cv2.add(s,s_shift)\n",
        "        v_shift = np.random.uniform(v_limit[0],v_limit[1])\n",
        "        v = cv2.add(v,v_shift)\n",
        "        image = cv2.merge((h,s,v))\n",
        "        image = cv2.cvtColor(image,cv2.COLOR_HSV2BGR)\n",
        "        # print(\"HSV image type\", type(image),image.shape)\n",
        "    return image\n",
        "\n",
        "def random_ShiftScaleRotate(image,mask,shift_limit=(-0.0,0.0),\n",
        "                            scale_limit=(-0.0,0.0),rotate_limit=(-0.0,0.0),\n",
        "                            aspect_limit=(-0.0,0.0),borderMode=cv2.BORDER_CONSTANT,u=0.5):\n",
        "\n",
        "    if np.random.random() < u:\n",
        "        height,width,channel = image.shape               \n",
        "        angle = np.random.uniform(rotate_limit[0],rotate_limit[1])\n",
        "        scale = np.random.uniform(1 + scale_limit[0],1 + scale_limit[1])\n",
        "        aspect = np.random.uniform(1 + aspect_limit[0],1 + aspect_limit[1])\n",
        "\n",
        "        sx = scale * aspect / (aspect ** 0.5)\n",
        "        sy = scale * (aspect ** 0.5)\n",
        "        dx = round(np.random.uniform(shift_limit[0],shift_limit[1]) * width)\n",
        "        dy = round(np.random.uniform(shift_limit[0],shift_limit[1]) * height)\n",
        "\n",
        "        cc = np.math.cos(angle / 180 * np.math.pi) * sx\n",
        "        ss = np.math.sin(angle / 180 * np.math.pi) * sy\n",
        "        rotate_matrix = np.array([[cc,-ss],[ss,cc]])\n",
        "\n",
        "        box0 = np.array([[0,0],[width,0],[width,height],[0,height]])\n",
        "        box1 = box0 - np.array([width / 2,height / 2])\n",
        "        box1 = np.dot(box1,rotate_matrix.T) + np.array([width / 2 + dx,height / 2 + dy])\n",
        "\n",
        "        box0 = box0.astype(np.float32)\n",
        "        box1 = box1.astype(np.float32)\n",
        "        mat = cv2.getPerspectiveTransform(box0,box1)\n",
        "        image = cv2.warpPerspective(image,mat,(width,height),flags=cv2.INTER_LINEAR,borderMode=borderMode,borderValue=(0,0,0))\n",
        "        mask = cv2.warpPerspective(mask,mat,(width,height),flags=cv2.INTER_LINEAR,borderMode=borderMode,borderValue=(0,0,0))\n",
        "\n",
        "    return image,mask\n",
        "\n",
        "\n",
        "def randomFlip_H(image,mask,u=0.5):\n",
        "    if np.random.random() < u:\n",
        "        image = cv2.flip(image, 1)\n",
        "        if type(mask)==type(np.array([1])):\n",
        "            mask = cv2.flip(mask,1)\n",
        "    return image,mask\n",
        "\n",
        "def randomFlip_V(image,mask,u=0.5):\n",
        "    if np.random.random() < u:\n",
        "        image = cv2.flip(image,0)\n",
        "        mask = cv2.flip(mask,0)\n",
        "    return image,mask\n",
        "\n",
        "def randomRotate_90(image,mask,u=0.5):\n",
        "    if np.random.random() < u:\n",
        "        image = np.rot90(image)\n",
        "        mask = np.rot90(mask)\n",
        "\n",
        "    return image,mask\n",
        "\n",
        "def get_one_hot(label,N):\n",
        "    size = list(label.size())\n",
        "    label = label.view(-1)\n",
        "    ones = torch.sparse.torch.eye(N)\n",
        "    ones = ones.index_select(0,label)\n",
        "    size.append(N)\n",
        "\n",
        "    return ones.view(*size)  \n",
        "\n",
        "def param_copy(param_s,param_t,alpha,epoch):\n",
        "    # param_s = list(param_s)\n",
        "    # param_t = list(param_t)\n",
        "    if epoch <= 1:\n",
        "        for ps,pt in zip(param_s,param_t):\n",
        "            pt.data[:] = ps.data[:]\n",
        "\n",
        "    else:\n",
        "        for ps,pt in zip(param_s,param_t):\n",
        "            pt.data.mul_(alpha)\n",
        "            pt.data.add_(ps.data * (1-alpha))"
      ],
      "metadata": {
        "id": "umF7AAiB5IZx"
      },
      "execution_count": 6,
      "outputs": []
    },
    {
      "cell_type": "code",
      "source": [
        "from torch.nn.modules import loss\n",
        "\n",
        "def plot_loss(loss_dataset,loss_name,loss_dataset2=[],loss_name2=''):# visualize the loss as the network trained\n",
        "  \n",
        "  fig = plt.figure(figsize=(10,8))\n",
        "  plt.plot(range(1,len(loss_dataset)+1),loss_dataset, label=loss_name)\n",
        "  plt.ylim(0, 1.1*max(loss_dataset))\n",
        "  if loss_dataset2!=[]:\n",
        "    plt.plot(range(1,len(loss_dataset2)+1),loss_dataset2,label=loss_name2)\n",
        "    plt.ylim(0, 1.1*max(loss_dataset) if max(loss_dataset)> max(loss_dataset2) else 1.1*max(loss_dataset2))\n",
        "\n",
        "\n",
        "  plt.xlabel('Epochs')\n",
        "  plt.ylabel('loss')\n",
        "  plt.xlim(0, len(loss_dataset)+1) # consistent scale\n",
        "  plt.grid(True)\n",
        "  plt.legend()\n",
        "  plt.tight_layout()\n",
        "  plt.show()\n",
        "  img_name=loss_name+loss_name2 if loss_name2 != '' else loss_name\n"
      ],
      "metadata": {
        "id": "OZN_W_TS9BD6"
      },
      "execution_count": 7,
      "outputs": []
    },
    {
      "cell_type": "markdown",
      "source": [
        "##Class Image and Choroid_loader"
      ],
      "metadata": {
        "id": "_tIAYgfq6kZM"
      }
    },
    {
      "cell_type": "code",
      "source": [
        "class ImageFloder(data.Dataset):\n",
        "    def __init__(self,root_path,datasets=\"GAA\",mode=\"train\"):\n",
        "        self.root = root_path\n",
        "        self.mode = mode\n",
        "        self.dataset = datasets\n",
        "\n",
        "        if self.dataset == \"GAA\":#\"CHOROID\":\n",
        "            if self.mode==\"train\":\n",
        "                self.images, self.labels, self.img_target = read_datasets(self.root,self.mode,self.dataset)\n",
        "            \n",
        "            if self.mode==\"validation\":\n",
        "                self.images, self.labels, self.img_target = read_datasets(self.root,self.mode)\n",
        "            \n",
        "            if self.mode == \"test\":\n",
        "                self.images, self.labels = read_datasets(self.root, self.mode) #labels is the label for cnn model\n",
        "        \n",
        "        if self.dataset == \"CNN\":\n",
        "            self.images, self.labels = read_datasets(self.root,self.mode,self.dataset)\n",
        "            \n",
        "    \n",
        "    def __getitem__(self,index):\n",
        "      if self.dataset == \"GAA\":\n",
        "        if self.mode == \"train\" :\n",
        "            img, mask, img_t = default_loader(mode=self.mode,img_path=self.images[index], mask_path=self.labels[index],\n",
        "                                      img_t_path=self.img_target[index])\n",
        "            img = torch.Tensor(img)\n",
        "            mask = torch.Tensor(mask)\n",
        "            img_t = torch.Tensor(img_t)\n",
        "            return img,mask,img_t\n",
        "\n",
        "        if self.mode == \"validation\" :\n",
        "            img, mask, img_t = default_loader(mode=self.mode,img_path=self.images[index], mask_path=self.labels[index],\n",
        "                                      img_t_path=self.img_target[index])\n",
        "            img = torch.Tensor(img)\n",
        "            mask = torch.Tensor(mask)\n",
        "            img_t = torch.Tensor(img_t)\n",
        "            return img,mask,img_t\n",
        "\n",
        "        if self.mode == \"test\" :\n",
        "            img= default_loader(mode=self.mode,img_path=self.images[index])\n",
        "            img = torch.Tensor(img)\n",
        "            return img,self.labels[index]\n",
        "\n",
        "\n",
        "      if self.dataset == \"CNN\":\n",
        "        img= default_loader(mode=self.mode,img_path=self.images[index])\n",
        "        img = torch.Tensor(img)\n",
        "        return img, self.labels[index]\n",
        "\n",
        "    def __len__(self):\n",
        "        assert len(self.images) == len(self.labels)\n",
        "        return len(self.images)\n",
        "\n",
        "class Choroid_loader:\n",
        "    def __init__(self,root_path,datasets):\n",
        "        self.root_path = root_path\n",
        "        self.datasets = datasets\n",
        "        pass\n",
        "    def load_train_data(self,batch_size):\n",
        "        dataset = ImageFloder(self.root_path,self.datasets,mode=\"train\")\n",
        "        train_loader = data.DataLoader(dataset,batch_size,num_workers=0,shuffle=True,pin_memory=True)\n",
        "        return train_loader\n",
        "\n",
        "    def load_val_data(self,batch_size):\n",
        "        dataset = ImageFloder(self.root_path,self.datasets,mode=\"validation\")\n",
        "        test_loader = data.DataLoader(dataset,batch_size,num_workers=0,shuffle=True,pin_memory=True)\n",
        "        return test_loader\n",
        "\n",
        "    def load_test_data(self,batch_size):\n",
        "        dataset = ImageFloder(self.root_path,self.datasets,mode=\"test\")\n",
        "        test_loader = data.DataLoader(dataset,batch_size,num_workers=0,shuffle=True,pin_memory=True)\n",
        "        return test_loader\n"
      ],
      "metadata": {
        "id": "CyhpolyL6-zL"
      },
      "execution_count": 8,
      "outputs": []
    },
    {
      "cell_type": "markdown",
      "source": [
        "##Read_dataset"
      ],
      "metadata": {
        "id": "BXSpUd0M6lFP"
      }
    },
    {
      "cell_type": "code",
      "source": [
        "def read_datasets(root_path,mode=\"train\",dataset=\"GAA\"):\n",
        "\n",
        "    images = []\n",
        "    masks = []\n",
        "    images_target=[]\n",
        "    images_name=[]\n",
        "    labels=[]\n",
        "    if dataset==\"GAA\":\n",
        "      if mode == \"train\":\n",
        "          outer_path = os.path.join(root_path,\"train\")\n",
        "          image_path = os.path.join(outer_path, \"cropped_png/cropped\") \n",
        "          label_path = os.path.join(outer_path, \"extracted_waveforms/extracted\")\n",
        "          image_target_path = os.path.join(outer_path, \"digitized_paper\")\n",
        "\n",
        "          image_list = os.listdir(image_path)\n",
        "          image_list = [x for x in image_list if '.DS_Store' not in x]\n",
        "          image_list = [x for x in image_list if '.ipynb_checkpoints' not in x]\n",
        "\n",
        "          image_target_list = os.listdir(image_target_path)\n",
        "          image_target_list = [x for x in image_target_list if '.DS_Store' not in x]\n",
        "          image_target_list = [x for x in image_target_list if '.ipynb_checkpoints' not in x]\n",
        "\n",
        "          for image in image_list:\n",
        "              imagePath = os.path.join(image_path, image)\n",
        "              images.append(imagePath) #867\n",
        "\n",
        "              maskPath = os.path.join(label_path, image)\n",
        "              masks.append(maskPath) #867\n",
        "\n",
        "          for image in image_target_list:\n",
        "              imagePath = os.path.join(image_target_path, image)\n",
        "              images_target.append(imagePath) #867\n",
        "\n",
        "\n",
        "          return images, masks, images_target #, mask_target #lists of addresses\n",
        "      \n",
        "      if mode == \"validation\":\n",
        "          outer_path = os.path.join(root_path,\"validation\")\n",
        "          image_path = os.path.join(outer_path, \"cropped_png/\") \n",
        "          label_path = os.path.join(outer_path, \"extracted_waveforms/\")\n",
        "          image_target_path = os.path.join(outer_path, \"digitized_paper\")\n",
        "\n",
        "          image_list = os.listdir(image_path)\n",
        "          image_list = [x for x in image_list if '.DS_Store' not in x]\n",
        "          image_list = [x for x in image_list if '.ipynb_checkpoints' not in x]\n",
        "\n",
        "          image_target_list = os.listdir(image_target_path)\n",
        "          image_target_list = [x for x in image_target_list if '.DS_Store' not in x]\n",
        "          image_target_list = [x for x in image_target_list if '.ipynb_checkpoints' not in x]\n",
        "\n",
        "          for image in image_list:\n",
        "              imagePath = os.path.join(image_path, image)\n",
        "              images.append(imagePath) #108\n",
        "\n",
        "              maskPath = os.path.join(label_path, image)\n",
        "              masks.append(maskPath) #108\n",
        "\n",
        "          for image in image_target_list:\n",
        "              imagePath = os.path.join(image_target_path, image)\n",
        "              images_target.append(imagePath) #108\n",
        "\n",
        "\n",
        "          return images, masks, images_target #, mask_target #lists of addresses\n",
        "\n",
        "      if mode == \"test\":\n",
        "          outer_path = os.path.join(root_path,\"test\")\n",
        "          image_target_path = os.path.join(outer_path, \"digitized_paper\")\n",
        "\n",
        "          image_target_list = os.listdir(image_target_path)\n",
        "          image_target_list = [x for x in image_target_list if '.DS_Store' not in x]\n",
        "          image_target_list = [x for x in image_target_list if '.ipynb_checkpoints' not in x]\n",
        "\n",
        "          for image in image_target_list:\n",
        "              imagePath = os.path.join(image_target_path, image)\n",
        "              images_target.append(imagePath)\n",
        "              images_name.append(image[0:-4])\n",
        "\n",
        "\n",
        "          return images_target,images_name\n",
        "\n",
        "    if dataset==\"CNN\":\n",
        "      outer_path = os.path.join(root_path,mode)\n",
        "      image_path = os.path.join(outer_path, \"extracted_digitized_paper/binary_image_1\") \n",
        "      label_path = os.path.join(root_path, \"digitized_paper_diagnosis.csv\")\n",
        "\n",
        "      image_list = os.listdir(image_path)\n",
        "      image_list = [x for x in image_list if '.DS_Store' not in x]\n",
        "      image_list = [x for x in image_list if '.ipynb_checkpoints' not in x]\n",
        "\n",
        "      label_df = pd.read_csv(label_path)\n",
        "\n",
        "      for image in image_list:\n",
        "          imagePath = os.path.join(image_path, image)\n",
        "          images.append(imagePath) #138\n",
        "          \n",
        "          result = label_df[label_df['ID'] == int(image[5:-5])]\n",
        "          label = result['Diagnosis'].values[0] \n",
        "          labels.append(label)\n",
        "          \n",
        "\n",
        "      return images, labels\n"
      ],
      "metadata": {
        "id": "RNGfhPji6jGO"
      },
      "execution_count": 9,
      "outputs": []
    },
    {
      "cell_type": "markdown",
      "source": [
        "##Default Loader"
      ],
      "metadata": {
        "id": "G8Xg6sf559vd"
      }
    },
    {
      "cell_type": "code",
      "source": [
        "def default_loader(mode,img_path,mask_path=\"blank\",img_t_path=\"blank\",mask_t_path=\"blank\"):\n",
        "    dim=(128,128)\n",
        "\n",
        "    if mode==\"test\" or mask_path==\"blank\":\n",
        "      img= random_crop(img_path,mask_path,dim,\"test\")\n",
        "      img = random_HSV(img, h_limit=(-30, 30), s_limit=(-5, 5), v_limit=(-15, 15))\n",
        "      img = np.array(img, dtype=np.float32).transpose(2, 0, 1) / 255  # * 3.2 - 1.6\n",
        "      return img\n",
        "\n",
        "    img,mask = random_crop(img_path,mask_path,dim,\"otherMode\")\n",
        "    img = random_HSV(img, h_limit=(-30, 30), s_limit=(-5, 5), v_limit=(-15, 15))\n",
        "    img, mask = randomFlip_H(img, mask)\n",
        "    img = np.array(img, dtype=np.float32).transpose(2, 0, 1) / 255  # * 3.2 - 1.6\n",
        "    \n",
        "\n",
        "    img_target = random_crop(img_t_path, mask_t_path, dim,\"otherMode\")\n",
        "    img_target = random_HSV(img_target,h_limit=(-30,30),s_limit=(-5,5),v_limit=(-15,15))\n",
        "\n",
        "    if type(mask)==type(np.array([1])):\n",
        "        mask = mask[:, :].copy()\n",
        "        mask = torch.LongTensor(mask)\n",
        "\n",
        "        mask1=mask.detach()\n",
        "        mask1[mask1<112]=0\n",
        "        mask1[mask1>=112]=255\n",
        "        mask1 = mask1.reshape(mask.shape[0], mask.shape[1], 1)\n",
        "\n",
        "        mask1 = np.array(mask1, dtype=np.float32).transpose(2, 0, 1)/255\n",
        "\n",
        "    img_target = np.array(img_target, dtype=np.float32).transpose(2, 0, 1) / 255  # * 3.2 - 1.6\n",
        "\n",
        "\n",
        "    return img, mask1, img_target"
      ],
      "metadata": {
        "id": "MppPWmuF6Q9I"
      },
      "execution_count": 10,
      "outputs": []
    },
    {
      "cell_type": "markdown",
      "source": [
        "##Random Crop"
      ],
      "metadata": {
        "id": "CunFTYHe5dtU"
      }
    },
    {
      "cell_type": "code",
      "source": [
        "def random_crop(img_path=\"blank\",mask_path=\"blank\",dim=(0,0,0),mode=\"blank\"):\n",
        "\n",
        "  img = cv2.imread(img_path)\n",
        "  resized_img = cv2.resize(img, dim, interpolation=cv2.INTER_AREA)#(512, 512, 3)\n",
        "  resized_img = np.asarray(resized_img)\n",
        "\n",
        "  if mode ==\"test\":\n",
        "\n",
        "    return resized_img\n",
        "\n",
        "  if mask_path==\"blank\": #mask is label for cnn model in train and test mode\\\n",
        "\n",
        "      return resized_img#, mask_path\n",
        "\n",
        "  else:\n",
        "    mask = cv2.imread(mask_path,cv2.IMREAD_GRAYSCALE)\n",
        "    resized_mask = cv2.resize(mask, dim, interpolation=cv2.INTER_NEAREST)  # (512, 512, 3)\n",
        "    resized_mask = np.asarray(resized_mask)\n",
        "    resized_mask = resized_mask.reshape(resized_mask.shape[0], resized_mask.shape[1], 1)\n",
        "\n",
        "    \n",
        "    return resized_img,resized_mask"
      ],
      "metadata": {
        "id": "ATlWBtFV5cWC"
      },
      "execution_count": 11,
      "outputs": []
    },
    {
      "cell_type": "markdown",
      "source": [
        "#Basic Models"
      ],
      "metadata": {
        "id": "1Rbw06OD7fYd"
      }
    },
    {
      "cell_type": "markdown",
      "source": [
        "##CNN"
      ],
      "metadata": {
        "id": "i8eK-CrU7iwC"
      }
    },
    {
      "cell_type": "code",
      "source": [
        "class CNN(nn.Module):\n",
        "    def __init__(self,num_classes=1):\n",
        "        super().__init__()\n",
        "        self.features=nn.Sequential(###512 to 1\n",
        "        ##half\n",
        "        nn.Conv2d(3, 32, kernel_size=3, stride=1, padding=1),\n",
        "        nn.BatchNorm2d(32, eps=0.001),\n",
        "        nn.Conv2d(32, 64, kernel_size=3, stride=1, padding=1),\n",
        "        nn.BatchNorm2d(64, eps=0.001),\n",
        "        nn.MaxPool2d(kernel_size=2, stride=2),\n",
        "\n",
        "        #half\n",
        "        nn.Conv2d(64, 128, kernel_size=3, stride=1, padding=1),\n",
        "        nn.BatchNorm2d(128, eps=0.001),\n",
        "        nn.Conv2d(128, 128, kernel_size=3, stride=1, padding=1),\n",
        "        nn.BatchNorm2d(128, eps=0.001),\n",
        "        nn.MaxPool2d(kernel_size=2, stride=2),\n",
        "\n",
        "        ##half\n",
        "        nn.Conv2d(128, 256, kernel_size=3, stride=1, padding=1),\n",
        "        nn.BatchNorm2d(256, eps=0.001),\n",
        "        nn.Conv2d(256, 256, kernel_size=3, stride=1, padding=1),\n",
        "        nn.BatchNorm2d(256, eps=0.001),\n",
        "        nn.MaxPool2d(kernel_size=2, stride=2),\n",
        "\n",
        "        )\n",
        "\n",
        "        self.classifier=nn.Sequential(\n",
        "            nn.Linear(16 * 16 * 256, 2048),\n",
        "            nn.BatchNorm1d(2048, eps=0.001),\n",
        "            nn.Dropout(0.2),\n",
        "            nn.Linear(2048,num_classes),\n",
        "            nn.Sigmoid()\n",
        "        )\n",
        "\n",
        "\n",
        "    def forward(self,x):\n",
        "        x=self.features(x)#torch.Size([2, 256, 16, 16])\n",
        "        x = x.view(x.size(0), 16 * 16 * 256)\n",
        "        x=self.classifier(x)\n",
        "        return x\n"
      ],
      "metadata": {
        "id": "CoQz7CgH7gbK"
      },
      "execution_count": 12,
      "outputs": []
    },
    {
      "cell_type": "markdown",
      "source": [
        "##Metrics"
      ],
      "metadata": {
        "id": "_uBr9JVb7zWO"
      }
    },
    {
      "cell_type": "code",
      "source": [
        "from torch._C import set_num_threads\n",
        "def equal(num1,num2,type=1):\n",
        "  if type==0: ##check if not equal\n",
        "    equal=(num1!=num2)\n",
        "    equal=np.array(equal).astype('int32')\n",
        "    return equal\n",
        "\n",
        "  ##check if equal\n",
        "  equal=(num1==num2)\n",
        "  equal=np.array(equal).astype('int32')\n",
        "  return equal\n",
        "\n",
        "\n",
        "def numeric_score_original(pred,gt,j):\n",
        "    FP = np.sum(equal(equal(pred,j),equal(gt,j,type=0)))#np.float(np.sum(equal(equal(pred,j),equal(gt,j,type=0))))\n",
        "    FN = np.sum(equal(equal(pred,j,type=0),equal(gt,j)))#np.float(np.sum(equal(equal(pred,j,type=0),equal(gt,j))))\n",
        "    TP = np.sum(equal(equal(pred,j),equal(gt,j)))#np.float(np.sum(equal(equal(pred,j),equal(gt,j))))\n",
        "    TN = np.sum(equal(equal(pred,j,type=0),equal(gt,j,type=0)))#np.float(np.sum(equal(equal(pred,j,type=0),equal(gt,j,type=0))))\n",
        "\n",
        "    return FP,FN,TP,TN\n",
        "\n",
        "def numeric_score(pred,gt,classes):\n",
        "    FP_list = []\n",
        "    FN_list = []\n",
        "    TP_list = []\n",
        "    TN_list = []\n",
        "    for i in range(1,classes):\n",
        "        FPI,FNI,TPI,TNI = numeric_score_original(pred,gt,i)\n",
        "        FP_list.append(FPI)\n",
        "        FN_list.append(FNI)\n",
        "        TP_list.append(TPI)\n",
        "        TN_list.append(TNI)\n",
        "\n",
        "    FP = np.mean(FP_list)\n",
        "    FN = np.mean(FN_list)\n",
        "    TP = np.mean(TP_list)\n",
        "    TN = np.mean(TN_list)\n",
        "\n",
        "    return FP,FN,TP,TN\n",
        "\n",
        "def get_acc(image,label):\n",
        "\n",
        "    FP,FN,TP,TN = numeric_score(image,label)\n",
        "    acc = (TP + TN) / (TP + FN + TN + FP + 1e-10)\n",
        "    sen = (TP) / (TP + FN + 1e-10)\n",
        "    return acc,sen\n",
        "\n",
        "def metrics_self(pred,label,batch_size):\n",
        "    outputs = (pred.data.cpu().numpy()).astype(np.uint8)\n",
        "    label = (label.data.cpu().numpy()).astype(np.uint8)\n",
        "\n",
        "    Acc,Sen = 0. ,0.\n",
        "    for i in range(batch_size):\n",
        "        img = outputs[i,:,:,:]\n",
        "        gt = label[i,:,:,:]\n",
        "\n",
        "        acc,sen = get_acc(img,gt)\n",
        "        Acc += acc\n",
        "        Sen += sen\n",
        "\n",
        "    return Acc,Sen\n",
        "\n",
        "def Auc_score(SR,GT,threshold=0.5):\n",
        "    GT = GT.ravel()\n",
        "    SR = SR.ravel()\n",
        "\n",
        "    roc_auc = metrics.roc_auc_score(GT,SR,sample_weight=0.5)\n",
        "\n",
        "    return roc_auc\n",
        "\n",
        "def all_score(prediction,groundtruth,classes):\n",
        "    FP,FN,TP,TN = numeric_score(prediction,groundtruth,classes)\n",
        "\n",
        "    acc = (TP + TN) / (TP + FN + TN + FP + 1e-10)\n",
        "\n",
        "    sen = (TP) / (TP + FN + 1e-10)\n",
        "\n",
        "    pre = TP / (TP + FP + 1e-10)\n",
        "\n",
        "    f1 = (2 * pre * sen) / (pre + sen + 1e-10)\n",
        "\n",
        "    outputs = prediction > 0.5\n",
        "    masks = groundtruth == np.max(groundtruth)\n",
        "    inter = np.sum(outputs * masks)\n",
        "    dc = 2 * inter\n",
        "\n",
        "    return acc,sen,pre,f1#,auc"
      ],
      "metadata": {
        "id": "-5tzQ7u_736a"
      },
      "execution_count": 13,
      "outputs": []
    },
    {
      "cell_type": "markdown",
      "source": [
        "##Unet"
      ],
      "metadata": {
        "id": "irBOq8NT8GJK"
      }
    },
    {
      "cell_type": "code",
      "source": [
        "class DoubleConv(nn.Module):\n",
        "    def __init__(self,in_channels,out_channels):\n",
        "        super().__init__()\n",
        "        self.double_conv = nn.Sequential(\n",
        "            nn.Conv2d(in_channels,out_channels,kernel_size=3,padding=1,bias=False),\n",
        "            nn.BatchNorm2d(out_channels),\n",
        "            nn.ReLU(inplace=True),\n",
        "            nn.Conv2d(out_channels,out_channels,kernel_size=3,padding=1,bias=False),\n",
        "            nn.BatchNorm2d(out_channels),\n",
        "            nn.ReLU(inplace=True)\n",
        "        )\n",
        "    def forward(self,x):\n",
        "        return self.double_conv(x)\n",
        "\n",
        "class Down(nn.Module):\n",
        "    def __init__(self,in_channels,out_channels):\n",
        "        super().__init__()\n",
        "        self.maxpool_conv = nn.Sequential(\n",
        "            nn.MaxPool2d(2),\n",
        "            DoubleConv(in_channels,out_channels)\n",
        "        )\n",
        "    def forward(self,x):    \n",
        "        return self.maxpool_conv(x)\n",
        "\n",
        "class Up(nn.Module):\n",
        "    def __init__(self,in_channels,out_channels,bilinear=True):\n",
        "        super().__init__()\n",
        "        if bilinear:\n",
        "            self.up = nn.Upsample(scale_factor=2,mode=\"bilinear\",align_corners=True)\n",
        "        else:\n",
        "            self.up = nn.ConvTranspose2d(in_channels // 2,in_channels // 2,kernel_size=2,stride=2)\n",
        "        self.conv = DoubleConv(in_channels,out_channels)\n",
        "    def forward(self,x1,x2):\n",
        "        x1 = self.up(x1)\n",
        "        x = torch.cat([x2,x1],dim = 1)\n",
        "        return self.conv(x)\n",
        "\n",
        "class OutConv(nn.Module):\n",
        "    def __init__(self,in_channels,out_channels):\n",
        "        super().__init__()\n",
        "        self.conv = nn.Conv2d(in_channels,out_channels,1)\n",
        "    def forward(self,x):\n",
        "        return self.conv(x)\n",
        "\n",
        "class Unet(nn.Module):\n",
        "    def __init__(self,in_channels,out_channels,bilinear=True):\n",
        "        super().__init__()\n",
        "        self.biliner = bilinear\n",
        "        self.inchannel = DoubleConv(in_channels,64)\n",
        "        self.down1 = Down(64,128)\n",
        "        self.down2 = Down(128,256)\n",
        "        self.down3 = Down(256,512)\n",
        "        self.down4 = Down(512,512)\n",
        "        self.up1 = Up(1024,256,bilinear)\n",
        "        self.up2 = Up(512,128,bilinear)\n",
        "        self.up3 = Up(256,64,bilinear)\n",
        "        self.up4 = Up(128,64,bilinear)\n",
        "        self.outchannel = OutConv(64,out_channels)\n",
        "        self.sigmoid = nn.Sigmoid()\n",
        "\n",
        "    def forward(self,x):\n",
        "        x1 = self.inchannel(x)\n",
        "        x2 = self.down1(x1)\n",
        "        x3 = self.down2(x2)\n",
        "        x4 = self.down3(x3)\n",
        "        x5 = self.down4(x4)\n",
        "        x = self.up1(x5,x4)\n",
        "        x = self.up2(x,x3)\n",
        "        x = self.up3(x,x2)\n",
        "        x = self.up4(x,x1)\n",
        "        out = self.outchannel(x)\n",
        "        out = self.sigmoid(out)\n",
        "        return out\n",
        "\n",
        "\n",
        "class Encoder(nn.Module):\n",
        "    def __init__(self,in_channels):\n",
        "        super().__init__()\n",
        "        self.inchannel = DoubleConv(in_channels,64)\n",
        "        self.down1 = Down(64,128)\n",
        "        self.down2 = Down(128,256)\n",
        "        self.down3 = Down(256,512)\n",
        "        self.down4 = Down(512,512)\n",
        "\n",
        "    def forward(self,x):\n",
        "        x1 = self.inchannel(x)\n",
        "        x2 = self.down1(x1)\n",
        "        x3 = self.down2(x2)\n",
        "        x4 = self.down3(x3)\n",
        "        x5 = self.down4(x4)\n",
        "\n",
        "        return x1,x2,x3,x4,x5\n",
        "\n",
        "\n",
        "class Decoder(nn.Module):\n",
        "    def __init__(self,out_channels,bilinear=True):\n",
        "        super().__init__()\n",
        "        self.up1 = Up(1024,256,bilinear)\n",
        "        self.up2 = Up(512,128,bilinear)\n",
        "        self.up3 = Up(256,64,bilinear)\n",
        "        self.up4 = Up(128,64,bilinear)\n",
        "        self.outchannel = OutConv(64,out_channels)\n",
        "        self.sigmoid = nn.Sigmoid()\n",
        "\n",
        "        #self.cnn=\n",
        "\n",
        "    def forward(self,x1,x2,x3,x4,x5):\n",
        "        x = self.up1(x5,x4)\n",
        "        x = self.up2(x,x3)\n",
        "        x = self.up3(x,x2)\n",
        "        x = self.up4(x,x1)\n",
        "        out = self.outchannel(x)\n",
        "        out = self.sigmoid(out)\n",
        "\n",
        "        return out"
      ],
      "metadata": {
        "id": "HS22U2Qj8GzK"
      },
      "execution_count": 14,
      "outputs": []
    },
    {
      "cell_type": "markdown",
      "source": [
        "##E Discriminator"
      ],
      "metadata": {
        "id": "bMcFYZ4y8Oq-"
      }
    },
    {
      "cell_type": "code",
      "source": [
        "class Encoder_Discriminator(nn.Module):\n",
        "    def __init__(self,size):\n",
        "        super().__init__()\n",
        "\n",
        "        self.conv1 = nn.Conv2d(512,256,3,1,1)\n",
        "        self.bn1 = nn.BatchNorm2d(256)\n",
        "        self.conv2 = nn.Conv2d(256,128,3,1,1)\n",
        "        self.bn2 = nn.BatchNorm2d(128)\n",
        "        self.conv3 = nn.Conv2d(128,64,3,1,1)\n",
        "        self.bn3 = nn.BatchNorm2d(64)\n",
        "        self.conv4 = nn.Conv2d(64,32,3,1,1)\n",
        "        self.bn4 = nn.BatchNorm2d(32)\n",
        "\n",
        "        self.leakyrelu1 = nn.LeakyReLU(0.2,inplace=True)\n",
        "        self.leakyrelu2 = nn.LeakyReLU(0.2,inplace=True)\n",
        "        self.leakyrelu3 = nn.LeakyReLU(0.2,inplace=True)\n",
        "        self.leakyrelu4 = nn.LeakyReLU(0.2,inplace=True)\n",
        "        self.flatten = nn.Flatten()\n",
        "        self.linear = nn.Linear(8*8*size,1)#128? =4*32768/32/32\n",
        "        self.sigmoid = nn.Sigmoid()\n",
        "        self.dropout = nn.Dropout(0.5)\n",
        "\n",
        "    def forward(self,x):\n",
        "\n",
        "        x = self.conv1(x)\n",
        "        x = self.bn1(x)\n",
        "        x = self.leakyrelu1(x)\n",
        "        x = self.conv2(x)\n",
        "        x = self.bn2(x)\n",
        "        x = self.leakyrelu2(x)\n",
        "\n",
        "        x = self.conv3(x)\n",
        "        x = self.bn3(x)\n",
        "        x = self.leakyrelu3(x)\n",
        "        x = self.conv4(x)\n",
        "        x = self.bn4(x)\n",
        "        x = self.leakyrelu4(x)\n",
        "\n",
        "        x = self.flatten(x)\n",
        "        x = self.linear(x)\n",
        "        x = self.dropout(x)\n",
        "        x = self.sigmoid(x)\n",
        "\n",
        "        return x "
      ],
      "metadata": {
        "id": "8v773gBg8RdC"
      },
      "execution_count": 15,
      "outputs": []
    },
    {
      "cell_type": "markdown",
      "source": [
        "##Discriminator_res"
      ],
      "metadata": {
        "id": "c_YJqGSH8ZSj"
      }
    },
    {
      "cell_type": "code",
      "source": [
        "class Res_Block(nn.Module):\n",
        "    def __init__(self,inchannal,outchannal,s=1,shortcut=None):\n",
        "        super().__init__()\n",
        "        self.left = nn.Sequential(\n",
        "            nn.Conv2d(inchannal,outchannal,3,s,1),\n",
        "            nn.BatchNorm2d(outchannal),\n",
        "            nn.ReLU(inplace=True),\n",
        "            nn.Conv2d(outchannal,outchannal,3,1,1),\n",
        "            nn.BatchNorm2d(outchannal)\n",
        "        )\n",
        "\n",
        "        self.right = shortcut\n",
        "\n",
        "    def forward(self,x):\n",
        "        out = self.left(x)\n",
        "        res = x if self.right == None else self.right(x)\n",
        "        out += res\n",
        "        out = nn.functional.relu(out)\n",
        "\n",
        "        return out\n",
        "\n",
        "class Resnet34(nn.Module):\n",
        "    def __init__(self,classes):\n",
        "        super().__init__()\n",
        "        self.first = nn.Sequential(\n",
        "            nn.Conv2d(classes,64,7,2,3),\n",
        "            nn.BatchNorm2d(64),\n",
        "            nn.ReLU(inplace=True),\n",
        "            nn.MaxPool2d(3,2,1)\n",
        "        )\n",
        "        \n",
        "        self.res1 = self.Block_Layer(64,64,3)\n",
        "        self.res2 = self.Block_Layer(64,128,4,s=2)\n",
        "        self.res3 = self.Block_Layer(128,256,6,s=2)\n",
        "        self.res4 = self.Block_Layer(256,512,3,s=2)\n",
        "\n",
        "        self.conv11 = nn.Conv2d(512,1,1,1,0)\n",
        "        self.global_pool = nn.AdaptiveAvgPool2d((1,1))\n",
        "        self.linear = nn.Linear(512,1)\n",
        "        self.sigmoid = nn.Sigmoid()\n",
        "\n",
        "    def Block_Layer(self,inchannel,outchannel,num,s=1):\n",
        "        shortcut = nn.Sequential(\n",
        "            nn.Conv2d(inchannel,outchannel,3,s,1,bias=False),\n",
        "            nn.BatchNorm2d(outchannel)\n",
        "        )\n",
        "\n",
        "        layer = []\n",
        "        layer.append(Res_Block(inchannel,outchannel,s,shortcut)) \n",
        "        for i in range(1,num):\n",
        "            layer.append(Res_Block(outchannel,outchannel))\n",
        "\n",
        "        return nn.Sequential(*layer)\n",
        "\n",
        "    def forward(self,x):\n",
        "\n",
        "        x = self.first(x)\n",
        "        x = self.res1(x)\n",
        "        x = self.res2(x)\n",
        "        x = self.res3(x)\n",
        "        x = self.res4(x)\n",
        "        x = self.conv11(x)\n",
        "        x = self.sigmoid(x)\n",
        "\n",
        "        return x"
      ],
      "metadata": {
        "id": "zT3_WR9W8cQi"
      },
      "execution_count": 16,
      "outputs": []
    },
    {
      "cell_type": "markdown",
      "source": [
        "#Train Model\n"
      ],
      "metadata": {
        "id": "bakMdn8b8lxy"
      }
    },
    {
      "cell_type": "markdown",
      "source": [
        "##**GAA_Train**"
      ],
      "metadata": {
        "id": "odqQ5Ogu9LxK"
      }
    },
    {
      "cell_type": "code",
      "source": [
        "from torch.utils.data import random_split\n",
        "class Trainers:\n",
        "    def __init__(self):\n",
        "        data_loader = Choroid_loader(root_path=args[\"root_GAA\"],datasets=\"GAA\")\n",
        "        self.train_loader = data_loader.load_train_data(batch_size=args[\"batch_size\"])\n",
        "        self.val_loader = data_loader.load_val_data(batch_size=args[\"batch_size\"])\n",
        "        self.test_loader = data_loader.load_test_data(batch_size=args['batch_size'])\n",
        "\n",
        "    def save_ckpt(self,encoder_s,encoder_t,decoder,epoch):\n",
        "        if not os.path.exists(args[\"ckpt_path\"]):\n",
        "            os.makedirs(args[\"ckpt_path\"])\n",
        "\n",
        "        state = {\"encoder_s\":encoder_s.state_dict(),\"encoder_t\":encoder_t.state_dict(),\"decoder\":decoder.state_dict()}\n",
        "        torch.save(state,args[\"ckpt_path\"] + args[\"name\"] + \"_epoch_\" + str(epoch)+ \".pkl\")\n",
        "        print(\"---> save model:{} <---\".format(args[\"ckpt_path\"]))\n",
        "        print(args[\"ckpt_path\"] + args[\"name\"] + \"_epoch_\" + str(epoch) + \".pkl\")\n",
        "\n",
        "    def get_ckpt(self,epoch):\n",
        "        encoder_s = Encoder(3).cuda() #source encoder\n",
        "        encoder_t = Encoder(3).cuda() #target encoder\n",
        "        decoder = Decoder(1).cuda() #6\n",
        "\n",
        "        checkpoint = torch.load(args[\"ckpt_path\"] + args[\"name\"] + \"_epoch_\" + str(epoch) + \".pkl\")\n",
        "        encoder_s.load_state_dict(checkpoint['encoder_s'])\n",
        "        encoder_t.load_state_dict(checkpoint['encoder_t'])\n",
        "        decoder.load_state_dict(checkpoint['decoder'])\n",
        "\n",
        "        return encoder_s,encoder_t,decoder\n",
        "\n",
        "    def adjust_lr(self,optimizer,base_lr,iter,max_iter,power=0.9):\n",
        "        lr = base_lr * (1 - float(iter) / max_iter) ** power\n",
        "        for param_group in optimizer.param_groups:\n",
        "            param_group[\"lr\"] = lr \n",
        "\n",
        "    def model_test(self,epoch):\n",
        "      print(\"----------Start testing model----------\")\n",
        "      accuracy=0\n",
        "      _, encoder_t,decoder=self.get_ckpt(epoch=epoch)\n",
        "\n",
        "      for idx,batch in enumerate(self.test_loader): \n",
        "          image=batch[0].float().cuda()\n",
        "          image_name=batch[1]\n",
        "\n",
        "          x1,x2,x3,x4,x5 = encoder_t(image)\n",
        "          pred = decoder(x1,x2,x3,x4,x5)\n",
        "\n",
        "          ###print original image\n",
        "          img2=image[0]*255\n",
        "          digitized_img_t=np.transpose(img2.detach().cpu().numpy(),(1,2,0))\n",
        "          cv2_imshow(digitized_img_t)\n",
        "\n",
        "          ###print grey image[0]\n",
        "          img1=pred[0]*255\n",
        "          grey_img_t=np.transpose(img1.detach().cpu().numpy(),(1,2,0))\n",
        "          cv2_imshow(grey_img_t)\n",
        "\n",
        "          ###print binary image[1]\n",
        "          pred1=pred.detach()\n",
        "          pred1[pred1>0.5]=1\n",
        "          pred1[pred1<=0.5]=0\n",
        "          \n",
        "          img0=pred1[0]*255\n",
        "          binary_img_t=np.transpose(img0.detach().cpu().numpy(),(1,2,0))\n",
        "          cv2_imshow(binary_img_t)\n",
        "\n",
        "          if path.exists('/content/drive/My Drive/FYP_Yixin_Cai/GAA_data/test/output2/binary_image_') == False:\n",
        "            os.mkdir('/content/drive/My Drive/FYP_Yixin_Cai/GAA_data/test/output2/binary_image_')\n",
        "          if path.exists('/content/drive/My Drive/FYP_Yixin_Cai/GAA_data/test/output2/greyscale_image_') == False:\n",
        "            os.mkdir('/content/drive/My Drive/FYP_Yixin_Cai/GAA_data/test/output2/greyscale_image_')\n",
        "          for i in range(0,image.shape[0]):\n",
        "            cv2.imwrite('/content/drive/My Drive/FYP_Yixin_Cai/GAA_data/test/output2/binary_image_'+'/'\n",
        "                                          +str(image_name[i])+'.png', binary_img_t)\n",
        "            cv2.imwrite('/content/drive/My Drive/FYP_Yixin_Cai/GAA_data/test/output2/greyscale_image_'+'/'\n",
        "                        +str(image_name[i])+'.png', grey_img_t)\n",
        "              \n",
        "\n",
        "      print(\"GAA test complete.\")\n",
        " \n",
        "    def model_eval(self,encoder_s,decoder,seg_loss):\n",
        "        print(\"----------Start validating model----------\")\n",
        "\n",
        "        encoder_s.eval()\n",
        "        decoder.eval()\n",
        "\n",
        "        seg_losses=[]\n",
        "        for idx,batch in enumerate(self.val_loader):\n",
        "\n",
        "            image_s = batch[0].float().cuda()\n",
        "            label_s = batch[1].float().cuda()\n",
        "            image_t = batch[2].float().cuda()\n",
        "\n",
        "            x1,x2,x3,x4,x5 = encoder_s(image_s)\n",
        "            pred = decoder(x1,x2,x3,x4,x5)\n",
        "\n",
        "            loss_seg = seg_loss(pred,label_s)\n",
        "            seg_losses.append(loss_seg.item())\n",
        "        \n",
        "        return mean(seg_losses)\n",
        "\n",
        "\n",
        "    def train(self,retrain=0):\n",
        "        encoder_s = Encoder(3).cuda() #source encoder\n",
        "        encoder_t = Encoder(3).cuda() #target encoder\n",
        "        decoder = Decoder(1).cuda() #6\n",
        "        if retrain==1:\n",
        "           encoder_s,encoder_t,decoder=self.get_ckpt(epoch=1)\n",
        "\n",
        "        E_discriminator = Encoder_Discriminator(32).cuda() #discriminator for encoder #size=24\n",
        "        D_discriminator = Resnet34(1).cuda() #discriminator for decoder #6\n",
        "        optimizer_en_s = optim.Adam(encoder_s.parameters(),lr=args[\"lr\"],weight_decay=5e-3)#1e-2\n",
        "        optimizer_en_t = optim.Adam(encoder_t.parameters(),lr=args[\"lr\"],weight_decay=5e-3)\n",
        "        optimizer_de = optim.Adam(decoder.parameters(),lr=args[\"lr\"],weight_decay=1e-2)\n",
        "        optimizer_ED = optim.Adam(E_discriminator.parameters(),lr=args[\"lr_ed\"],weight_decay=5e-3)\n",
        "        optimizer_DD = optim.Adam(D_discriminator.parameters(),lr=args[\"lr_ed\"],weight_decay=5e-4)\n",
        "\n",
        "        seg_loss =nn.BCELoss().cuda()\n",
        "        E_loss = nn.BCELoss().cuda()\n",
        "        D_loss = nn.BCELoss().cuda()\n",
        "\n",
        "        # to track the training loss as the model trains\n",
        "        train_losses_seg = []\n",
        "        # to track the average training loss per epoch as the model trains\n",
        "        avg_train_losses_seg = []\n",
        "        # to track the average validation loss per epoch as the model trains\n",
        "        val_losses=[]\n",
        "\n",
        "        iters = 1\n",
        "        batch=0\n",
        "\n",
        "        print(\"----------start training----------\")\n",
        "        for epoch in range(args[\"epoches\"]):\n",
        "            encoder_s.train()\n",
        "            encoder_t.train()\n",
        "            decoder.train()\n",
        "            E_discriminator.train()\n",
        "            D_discriminator.train()\n",
        "\n",
        "            ######################    \n",
        "            # train the model #\n",
        "            ######################\n",
        "                        \n",
        "            for idx,batch in enumerate(self.train_loader):\n",
        "                print(\"************\",idx,\"*************\")\n",
        "\n",
        "                image_s = batch[0].cuda()\n",
        "                label_s = batch[1].cuda()\n",
        "                image_t = batch[2].cuda()\n",
        "\n",
        "                e_real = torch.full((image_s.shape[0],1),1).float().cuda() #4 rows x 1 columns\n",
        "                e_fake = torch.full((image_s.shape[0],1),0).float().cuda()\n",
        "                d_real = torch.full((image_s.shape[0],1,4,4),1).float().cuda()\n",
        "                d_fake = torch.full((image_s.shape[0],1,4,4),0).float().cuda()\n",
        "                c_real = torch.full((image_s.shape[0],1),1).float().cuda()\n",
        "                optimizer_en_s.zero_grad()\n",
        "                optimizer_de.zero_grad()\n",
        "\n",
        "                x1,x2,x3,x4,x5 = encoder_s(image_s)\n",
        "\n",
        "                pred = decoder(x1,x2,x3,x4,x5)\n",
        "\n",
        "                #####print out pred image\n",
        "                #greyscale image\n",
        "                # img1 = pred[0].detach()#.cpu().numpy() #torch.Size([3,28,28]\n",
        "                # img1=img1*255\n",
        "                # # print(img1)\n",
        "                # grey_img=np.transpose(img1.detach().cpu().numpy(),(1,2,0))\n",
        "                # cv2_imshow(grey_img)\n",
        "\n",
        "                # #binary image\n",
        "                # pred1=pred.detach()\n",
        "                # pred1[pred1>0.5]=1\n",
        "                # pred1[pred1<=0.5]=0\n",
        "                # img4 = pred1[0]*255 #.detach().cpu().numpy() #torch.Size([3,28,28]\n",
        "                # binary_img=np.transpose(img4.detach().cpu().numpy(),(1,2,0))\n",
        "                # cv2_imshow(binary_img)\n",
        "\n",
        "                  \n",
        "                #####seg loss\n",
        "                loss_seg = seg_loss(pred,label_s)\n",
        "                train_losses_seg.append(loss_seg.item())\n",
        "                optimizer_en_s.step()\n",
        "                optimizer_de.step()\n",
        "\n",
        "                print(\"[{0:d}:{1:d}] --- loss_seg:{2:.10f}\".format(epoch + 1,iters,loss_seg.item()))\n",
        "                \n",
        "                if (epoch+1) >= 1:\n",
        "                    param_s = list(encoder_s.parameters())\n",
        "                    param_t = list(encoder_t.parameters())\n",
        "                    param_copy(param_s,param_t,0.8,epoch)\n",
        "\n",
        "                    if iters % 2 == 1:\n",
        "                        optimizer_ED.zero_grad()\n",
        "                        _,_,_,_,s5 = encoder_s(image_s)\n",
        "                        encoder_pred_s = E_discriminator(s5)\n",
        "                        en_d_s_loss = E_loss(encoder_pred_s,e_real)\n",
        "                        en_d_s_loss.backward()\n",
        "\n",
        "                        _,_,_,_,t5 = encoder_t(image_t)\n",
        "                        encoder_pred_t = E_discriminator(t5)\n",
        "                        en_d_t_loss = E_loss(encoder_pred_t,e_fake)\n",
        "                        en_d_t_loss.backward()\n",
        "                        optimizer_ED.step()\n",
        "\n",
        "                    optimizer_en_s.zero_grad()\n",
        "                    optimizer_en_t.zero_grad()\n",
        "                    optimizer_ED.zero_grad()\n",
        "                    _,_,_,_,t5 = encoder_t(image_t)     \n",
        "                    encoder_pred_t = E_discriminator(t5)\n",
        "                    en_g_t_loss = E_loss(encoder_pred_t,e_real)\n",
        "                    en_g_t_loss.backward()\n",
        "                    optimizer_en_t.step()\n",
        "\n",
        "                    if iters % 4 == 1:\n",
        "                        optimizer_DD.zero_grad()\n",
        "                        s1,s2,s3,s4,s5 = encoder_s(image_s)\n",
        "                        decoder_s = decoder(s1,s2,s3,s4,s5)\n",
        "                        decoder_pred_s = D_discriminator(decoder_s)\n",
        "                        de_d_s_loss = D_loss(decoder_pred_s,d_real)\n",
        "                        de_d_s_loss.backward()\n",
        "                        \n",
        "                        t1,t2,t3,t4,t5 = encoder_t(image_t)\n",
        "                        decoder_t = decoder(t1,t2,t3,t4,t5)\n",
        "\n",
        "                        decoder_pred_t = D_discriminator(decoder_t)\n",
        "                        # print(\"decoder_pred_t:\",decoder_pred_t.shape,type(decoder_pred_t))\n",
        "                        de_d_t_loss = D_loss(decoder_pred_t,d_fake)\n",
        "                        de_d_t_loss.backward()\n",
        "                        optimizer_DD.step()\n",
        "\n",
        "                        optimizer_en_t.zero_grad()\n",
        "                        optimizer_de.zero_grad()\n",
        "                        t1,t2,t3,t4,t5 = encoder_t(image_t)\n",
        "                        decoder_t = decoder(t1,t2,t3,t4,t5)\n",
        "                        decoder_pred_t = D_discriminator(decoder_t)\n",
        "                        de_g_t_loss = D_loss(decoder_pred_t,d_real) \n",
        "                        de_g_t_loss.backward()\n",
        "                        optimizer_en_t.step()\n",
        "\n",
        "                        #####print output\n",
        "                        #greyscale image of target ds\n",
        "                        # decoder_t1= decoder_t.detach()\n",
        "                        # img1 = decoder_t1[0]*255 #.detach().cpu().numpy() #torch.Size([3,28,28]\n",
        "                        # # print(img1)\n",
        "                        # grey_img_t=np.transpose(img1.detach().cpu().numpy(),(1,2,0))\n",
        "                        # cv2_imshow(grey_img_t)\n",
        "\n",
        "                        #binary image of target ds\n",
        "                        # decoder_t1[decoder_t1>0.5]=1\n",
        "                        # decoder_t1[decoder_t1<=0.5]=0\n",
        "                        # img1 = decoder_t1[0]*255 #.detach().cpu().numpy() #torch.Size([3,28,28]\n",
        "                        # binary_img_t=np.transpose(img1.detach().cpu().numpy(),(1,2,0))\n",
        "                        # cv2_imshow(binary_img_t)\n",
        "\n",
        "                    print(\"[{0:d}:{1:d}] --- ED_loss_s:{2:.8f}\\tED_loss_t:{3:.8f}\\tEG_loss_t:{4:.8f}\\tDD_loss_s:{5:.8f}\\tDD_loss_t:{6:.8f}\\tDG_loss_t:{7:.8f}\".format(\n",
        "                            epoch + 1,iters,en_d_s_loss.item(),en_d_t_loss.item(),en_g_t_loss.item(),\n",
        "                            de_d_s_loss.item(),de_d_t_loss.item(),de_g_t_loss.item()))\n",
        "     \n",
        "                iters += 1\n",
        "\n",
        "            avg_train_losses_seg.append(np.average(train_losses_seg))\n",
        "            train_losses_seg=[]\n",
        "\n",
        "\n",
        "            ######################    \n",
        "            # validate the model #\n",
        "            ######################\n",
        "            \n",
        "            val_loss=self.model_eval(encoder_s,decoder,seg_loss) #loss_cnn,total_correct\n",
        "            val_losses.append(val_loss)\n",
        "            if val_loss<=0.8:\n",
        "              self.save_ckpt(encoder_s,encoder_t,decoder,epoch+1)\n",
        "            else: \n",
        "              print(\"Seg loss not reaching expectation. No model saved.\")\n",
        "            print(\"[{0:d}:validation] --- loss_seg:{1:.10f}\".format(epoch + 1,val_loss))\n",
        "\n",
        "            # ######################    \n",
        "            # # validate the model #\n",
        "            # ######################\n",
        "            # self.model_test(epoch+1)\n",
        "\n",
        "        plot_loss(avg_train_losses_seg,\"Train Seg loss\",val_losses,\"Validation Seg loss\")\n",
        "        "
      ],
      "metadata": {
        "id": "AsJDr4dP8leC"
      },
      "execution_count": 24,
      "outputs": []
    },
    {
      "cell_type": "markdown",
      "source": [
        "##CNN_Train"
      ],
      "metadata": {
        "id": "uzABWMEx-Ogv"
      }
    },
    {
      "cell_type": "code",
      "source": [
        "from torch.utils.data import random_split\n",
        "\n",
        "class CNN_Trainers:\n",
        "    def __init__(self):\n",
        "        data_loader = Choroid_loader(root_path=args[\"root_CNN\"],datasets=\"CNN\")\n",
        "        self.train_loader = data_loader.load_train_data(batch_size=args[\"cnn_batch_size\"])\n",
        "        self.val_loader = data_loader.load_val_data(batch_size=args[\"cnn_batch_size\"])\n",
        "        self.test_loader = data_loader.load_test_data(batch_size=args['cnn_batch_size'])\n",
        "        \n",
        "    def save_ckpt(self,cnn_model,epoch):\n",
        "        if not os.path.exists(args[\"ckpt_path2\"]):\n",
        "            os.makedirs(args[\"ckpt_path2\"])\n",
        "\n",
        "        state = {\"cnn_model\":cnn_model.state_dict()}\n",
        "        torch.save(state,args[\"ckpt_path2\"] + args[\"name\"] + \"_epoch_\" + str(epoch) + \".pkl\")\n",
        "        print(\"---> save model:{} <---\".format(args[\"ckpt_path2\"]))\n",
        "        print(args[\"ckpt_path2\"] + args[\"name\"] + \"_epoch_\" + str(epoch) +\".pkl\")\n",
        "\n",
        "    def get_ckpt(self,epoch):\n",
        "        cnn_model=CNN().cuda()\n",
        "\n",
        "        checkpoint = torch.load(args[\"ckpt_path2\"] + args[\"name\"] + \"_epoch_\" + str(epoch)+ \".pkl\")\n",
        "        cnn_model.load_state_dict(checkpoint['cnn_model'])\n",
        "        return cnn_model    \n",
        "\n",
        "    def test(self,epoch):\n",
        "      \n",
        "      accuracy=0\n",
        "      correct=0\n",
        "\n",
        "      cnn_model=self.get_ckpt(epoch)\n",
        "      print(\"----------Start testing CNN model----------\")\n",
        "      for idx,batch in enumerate(self.test_loader): \n",
        "          image=batch[0].float().cuda()\n",
        "          label=batch[1].float().cuda()\n",
        "          label=label.view(label.shape[0],1)\n",
        "\n",
        "          pred = cnn_model(image)\n",
        "\n",
        "          pred[pred<=0.5]=0\n",
        "          pred[pred>0.5]=1\n",
        "            \n",
        "          correct += (pred == label).float().sum().item()\n",
        "          \n",
        "      accuracy = correct / len(self.test_loader.dataset)\n",
        "\n",
        "      print(\"Test Accuracy = {}\".format(accuracy))\n",
        " \n",
        "    def eval(self,cnn_model,C_loss):\n",
        "        print(\"----------Start validating CNN model----------\")\n",
        "\n",
        "        cnn_model.eval()\n",
        "\n",
        "        iou,dice = [],[]\n",
        "        acc,sen,pre,f1, auc= [],[],[],[],[]\n",
        "        val_loss_cnn=[]\n",
        "        file_num = 0\n",
        "        total_correct=0\n",
        "\n",
        "        correct=0\n",
        "        accuracy=0\n",
        "        train_losses=[]\n",
        "        for idx,batch in enumerate(self.val_loader):\n",
        "            image = batch[0].float().cuda()\n",
        "            label = batch[1].float().cuda()\n",
        "            label=label.view(label.shape[0],1)\n",
        "          \n",
        "            pred = cnn_model(image)\n",
        "            loss_cnn=C_loss(pred,label)\n",
        "            train_losses.append(loss_cnn.item())\n",
        "\n",
        "            pred[pred>0.5]=1\n",
        "            pred[pred<=0.5]=0\n",
        "            correct += (pred == label).float().sum().item()\n",
        "\n",
        "        accuracy = correct / len(self.val_loader.dataset)\n",
        "        return mean(train_losses),accuracy\n",
        "\n",
        "\n",
        "    def train(self):\n",
        "          cnn_model=CNN().cuda()\n",
        "\n",
        "          optimizer_cnn = optim.Adam(cnn_model.parameters(),lr=1e-03)#,weight_decay=5e-4)\n",
        "          C_loss = nn.BCELoss().cuda()\n",
        "\n",
        "          ###training the model###\n",
        "          print('*******CNN training********')\n",
        "          train_losses_avg=[]\n",
        "          val_losses_avg=[]\n",
        "          train_accuracy=[]\n",
        "          val_accuracy=[]\n",
        "\n",
        "          ######################    \n",
        "          # train the model #\n",
        "          ######################\n",
        "          cnn_model.train()\n",
        "\n",
        "          for epoch in range(args[\"epoches\"]):            \n",
        "            train_losses = []\n",
        "            correct=0\n",
        "            for idx,batch in enumerate(self.train_loader):\n",
        "              image = batch[0].float().cuda()\n",
        "              label = batch[1].float().cuda()\n",
        "              label=label.view(label.shape[0],1)\n",
        "\n",
        "              pred=cnn_model(image)\n",
        "              loss_cnn=C_loss(pred,label)\n",
        "              train_losses.append(loss_cnn.item())\n",
        "              \n",
        "              optimizer_cnn.zero_grad()\n",
        "              loss_cnn.backward()\n",
        "              optimizer_cnn.step()\n",
        "              \n",
        "              pred[pred>0.5]=1\n",
        "              pred[pred<=0.5]=0\n",
        "              correct += (pred == label).float().sum().item()\n",
        "\n",
        "            train_losses_avg.append(mean(train_losses))\n",
        "            train_accuracy.append(correct / len(self.train_loader.dataset) )\n",
        "\n",
        "            print('Epoch : ',epoch+1, '\\t', 'loss :',  mean(train_losses), \n",
        "                  'acc :',train_accuracy[-1])\n",
        "            correct=0\n",
        "            train_losses=0\n",
        "\n",
        "            ######################    \n",
        "            # validate the model #\n",
        "            ######################\n",
        "            val_loss,val_acc=self.eval(cnn_model,C_loss)\n",
        "            val_losses_avg.append(val_loss)\n",
        "            val_accuracy.append(val_acc)\n",
        "            print('Validation loss :',  val_loss, \n",
        "                  'acc :',val_acc)\n",
        "\n",
        "            if val_losses_avg[-1]<=0.6:\n",
        "                self.save_ckpt(cnn_model,epoch+1)\n",
        "\n",
        "          plot_loss(train_losses_avg,'Train loss',val_losses_avg,'Validation loss')\n",
        "          plot_loss(train_accuracy,'Train Acc',val_accuracy,'Validation Acc')\n",
        "          "
      ],
      "metadata": {
        "id": "h3psRvBK-Pl4"
      },
      "execution_count": 18,
      "outputs": []
    },
    {
      "cell_type": "markdown",
      "source": [
        "#Run"
      ],
      "metadata": {
        "id": "_Nc1wKOyAsdK"
      }
    },
    {
      "cell_type": "markdown",
      "source": [
        "##GAA\n"
      ],
      "metadata": {
        "id": "wOOkr_FoprLC"
      }
    },
    {
      "cell_type": "code",
      "source": [
        "#os.environ[\"CUDA_VISIBLE_DEVICES\"] = '0'\n",
        "torch.cuda.empty_cache()\n",
        "\n",
        "gaa_trainer = Trainers()\n",
        "gaa_trainer.train(retrain=0) "
      ],
      "metadata": {
        "id": "xf8FsTFMAtKB",
        "colab": {
          "base_uri": "https://localhost:8080/",
          "height": 1000
        },
        "outputId": "622758cd-0e3c-4a54-9293-015f298d0940"
      },
      "execution_count": 21,
      "outputs": [
        {
          "output_type": "stream",
          "name": "stdout",
          "text": [
            "----------start training----------\n",
            "************ 0 *************\n",
            "[1:1] --- loss_seg:0.7776957750\n",
            "[1:1] --- ED_loss_s:0.68496197\tED_loss_t:0.74863362\tEG_loss_t:2.25698900\tDD_loss_s:0.62226754\tDD_loss_t:0.91087788\tDG_loss_t:3.88618588\n",
            "************ 1 *************\n",
            "[1:2] --- loss_seg:0.7782822847\n",
            "[1:2] --- ED_loss_s:0.68496197\tED_loss_t:0.74863362\tEG_loss_t:1.94472587\tDD_loss_s:0.62226754\tDD_loss_t:0.91087788\tDG_loss_t:3.88618588\n",
            "************ 2 *************\n",
            "[1:3] --- loss_seg:0.7783961296\n",
            "[1:3] --- ED_loss_s:0.38160998\tED_loss_t:0.57421082\tEG_loss_t:5.64762354\tDD_loss_s:0.62226754\tDD_loss_t:0.91087788\tDG_loss_t:3.88618588\n",
            "************ 3 *************\n",
            "[1:4] --- loss_seg:0.7777565718\n",
            "[1:4] --- ED_loss_s:0.38160998\tED_loss_t:0.57421082\tEG_loss_t:4.41613817\tDD_loss_s:0.62226754\tDD_loss_t:0.91087788\tDG_loss_t:3.88618588\n",
            "************ 4 *************\n",
            "[1:5] --- loss_seg:0.7787191868\n",
            "[1:5] --- ED_loss_s:0.31555781\tED_loss_t:0.33441338\tEG_loss_t:3.69233394\tDD_loss_s:5.28586674\tDD_loss_t:3.17471695\tDG_loss_t:2.50195360\n",
            "************ 5 *************\n",
            "[1:6] --- loss_seg:0.7789930701\n",
            "[1:6] --- ED_loss_s:0.31555781\tED_loss_t:0.33441338\tEG_loss_t:3.80583668\tDD_loss_s:5.28586674\tDD_loss_t:3.17471695\tDG_loss_t:2.50195360\n",
            "************ 6 *************\n",
            "[1:7] --- loss_seg:0.7785078883\n",
            "[1:7] --- ED_loss_s:0.59001350\tED_loss_t:0.24989396\tEG_loss_t:3.37269878\tDD_loss_s:5.28586674\tDD_loss_t:3.17471695\tDG_loss_t:2.50195360\n",
            "************ 7 *************\n",
            "[1:8] --- loss_seg:0.7786945701\n",
            "[1:8] --- ED_loss_s:0.59001350\tED_loss_t:0.24989396\tEG_loss_t:4.71516418\tDD_loss_s:5.28586674\tDD_loss_t:3.17471695\tDG_loss_t:2.50195360\n",
            "************ 8 *************\n",
            "[1:9] --- loss_seg:0.7778208852\n",
            "[1:9] --- ED_loss_s:0.28386450\tED_loss_t:0.30783769\tEG_loss_t:4.86579418\tDD_loss_s:3.44884205\tDD_loss_t:2.72061586\tDG_loss_t:2.34618592\n",
            "************ 9 *************\n",
            "[1:10] --- loss_seg:0.7777479291\n",
            "[1:10] --- ED_loss_s:0.28386450\tED_loss_t:0.30783769\tEG_loss_t:4.22801399\tDD_loss_s:3.44884205\tDD_loss_t:2.72061586\tDG_loss_t:2.34618592\n",
            "************ 10 *************\n",
            "[1:11] --- loss_seg:0.7788200378\n",
            "[1:11] --- ED_loss_s:0.27912042\tED_loss_t:0.36089706\tEG_loss_t:4.36363220\tDD_loss_s:3.44884205\tDD_loss_t:2.72061586\tDG_loss_t:2.34618592\n",
            "************ 11 *************\n",
            "[1:12] --- loss_seg:0.7779073715\n",
            "[1:12] --- ED_loss_s:0.27912042\tED_loss_t:0.36089706\tEG_loss_t:4.25325489\tDD_loss_s:3.44884205\tDD_loss_t:2.72061586\tDG_loss_t:2.34618592\n",
            "************ 12 *************\n",
            "[1:13] --- loss_seg:0.7781330943\n",
            "[1:13] --- ED_loss_s:0.47335243\tED_loss_t:0.36062717\tEG_loss_t:4.02716160\tDD_loss_s:1.99887800\tDD_loss_t:1.32918823\tDG_loss_t:2.06181002\n",
            "************ 13 *************\n",
            "[1:14] --- loss_seg:0.7777819633\n",
            "[1:14] --- ED_loss_s:0.47335243\tED_loss_t:0.36062717\tEG_loss_t:2.70531774\tDD_loss_s:1.99887800\tDD_loss_t:1.32918823\tDG_loss_t:2.06181002\n",
            "************ 14 *************\n",
            "[1:15] --- loss_seg:0.7782856822\n",
            "[1:15] --- ED_loss_s:0.43493804\tED_loss_t:0.33329555\tEG_loss_t:4.24676323\tDD_loss_s:1.99887800\tDD_loss_t:1.32918823\tDG_loss_t:2.06181002\n",
            "************ 15 *************\n",
            "[1:16] --- loss_seg:0.7781604528\n",
            "[1:16] --- ED_loss_s:0.43493804\tED_loss_t:0.33329555\tEG_loss_t:3.99200797\tDD_loss_s:1.99887800\tDD_loss_t:1.32918823\tDG_loss_t:2.06181002\n",
            "************ 16 *************\n",
            "[1:17] --- loss_seg:0.7781665921\n",
            "[1:17] --- ED_loss_s:0.41658995\tED_loss_t:0.50168753\tEG_loss_t:1.84525788\tDD_loss_s:2.21962881\tDD_loss_t:1.06814909\tDG_loss_t:1.83270705\n",
            "************ 17 *************\n",
            "[1:18] --- loss_seg:0.7773533463\n",
            "[1:18] --- ED_loss_s:0.41658995\tED_loss_t:0.50168753\tEG_loss_t:2.59969568\tDD_loss_s:2.21962881\tDD_loss_t:1.06814909\tDG_loss_t:1.83270705\n",
            "************ 18 *************\n",
            "[1:19] --- loss_seg:0.7777383924\n",
            "[1:19] --- ED_loss_s:0.36086330\tED_loss_t:0.35087028\tEG_loss_t:2.51566195\tDD_loss_s:2.21962881\tDD_loss_t:1.06814909\tDG_loss_t:1.83270705\n",
            "************ 19 *************\n",
            "[1:20] --- loss_seg:0.7779598236\n",
            "[1:20] --- ED_loss_s:0.36086330\tED_loss_t:0.35087028\tEG_loss_t:2.00520468\tDD_loss_s:2.21962881\tDD_loss_t:1.06814909\tDG_loss_t:1.83270705\n",
            "************ 20 *************\n",
            "[1:21] --- loss_seg:0.7783067822\n",
            "[1:21] --- ED_loss_s:0.38851988\tED_loss_t:0.36293349\tEG_loss_t:2.69564271\tDD_loss_s:2.40808082\tDD_loss_t:0.84065884\tDG_loss_t:1.88802791\n",
            "************ 21 *************\n",
            "[1:22] --- loss_seg:0.7776673436\n",
            "[1:22] --- ED_loss_s:0.38851988\tED_loss_t:0.36293349\tEG_loss_t:3.30786252\tDD_loss_s:2.40808082\tDD_loss_t:0.84065884\tDG_loss_t:1.88802791\n",
            "************ 22 *************\n",
            "[1:23] --- loss_seg:0.7783716917\n",
            "[1:23] --- ED_loss_s:0.30570215\tED_loss_t:0.28084299\tEG_loss_t:4.53511047\tDD_loss_s:2.40808082\tDD_loss_t:0.84065884\tDG_loss_t:1.88802791\n",
            "************ 23 *************\n",
            "[1:24] --- loss_seg:0.7775448561\n",
            "[1:24] --- ED_loss_s:0.30570215\tED_loss_t:0.28084299\tEG_loss_t:4.82412577\tDD_loss_s:2.40808082\tDD_loss_t:0.84065884\tDG_loss_t:1.88802791\n",
            "************ 24 *************\n",
            "[1:25] --- loss_seg:0.7773015499\n",
            "[1:25] --- ED_loss_s:0.33599111\tED_loss_t:0.31476346\tEG_loss_t:3.43260670\tDD_loss_s:2.02946854\tDD_loss_t:0.83766395\tDG_loss_t:1.44108248\n",
            "************ 25 *************\n",
            "[1:26] --- loss_seg:0.7783776522\n",
            "[1:26] --- ED_loss_s:0.33599111\tED_loss_t:0.31476346\tEG_loss_t:5.86404228\tDD_loss_s:2.02946854\tDD_loss_t:0.83766395\tDG_loss_t:1.44108248\n",
            "************ 26 *************\n",
            "[1:27] --- loss_seg:0.7779762149\n",
            "[1:27] --- ED_loss_s:0.42028242\tED_loss_t:0.30511430\tEG_loss_t:6.61069059\tDD_loss_s:2.02946854\tDD_loss_t:0.83766395\tDG_loss_t:1.44108248\n",
            "************ 27 *************\n",
            "[1:28] --- loss_seg:0.7777610421\n",
            "[1:28] --- ED_loss_s:0.42028242\tED_loss_t:0.30511430\tEG_loss_t:5.35235786\tDD_loss_s:2.02946854\tDD_loss_t:0.83766395\tDG_loss_t:1.44108248\n",
            "************ 28 *************\n",
            "[1:29] --- loss_seg:0.7783593535\n",
            "[1:29] --- ED_loss_s:0.36591724\tED_loss_t:0.30534241\tEG_loss_t:4.14908934\tDD_loss_s:1.65835619\tDD_loss_t:0.76818770\tDG_loss_t:1.20811379\n",
            "************ 29 *************\n",
            "[1:30] --- loss_seg:0.7773315907\n",
            "[1:30] --- ED_loss_s:0.36591724\tED_loss_t:0.30534241\tEG_loss_t:3.37180233\tDD_loss_s:1.65835619\tDD_loss_t:0.76818770\tDG_loss_t:1.20811379\n",
            "************ 30 *************\n",
            "[1:31] --- loss_seg:0.7777811289\n",
            "[1:31] --- ED_loss_s:0.39994901\tED_loss_t:0.19434930\tEG_loss_t:4.04180002\tDD_loss_s:1.65835619\tDD_loss_t:0.76818770\tDG_loss_t:1.20811379\n",
            "************ 31 *************\n",
            "[1:32] --- loss_seg:0.7774214149\n",
            "[1:32] --- ED_loss_s:0.39994901\tED_loss_t:0.19434930\tEG_loss_t:5.26150608\tDD_loss_s:1.65835619\tDD_loss_t:0.76818770\tDG_loss_t:1.20811379\n",
            "************ 32 *************\n",
            "[1:33] --- loss_seg:0.7770553231\n",
            "[1:33] --- ED_loss_s:0.43642768\tED_loss_t:0.33297789\tEG_loss_t:4.28194141\tDD_loss_s:1.27226055\tDD_loss_t:0.71311659\tDG_loss_t:1.33433390\n",
            "************ 33 *************\n",
            "[1:34] --- loss_seg:0.7773388624\n",
            "[1:34] --- ED_loss_s:0.43642768\tED_loss_t:0.33297789\tEG_loss_t:4.38208866\tDD_loss_s:1.27226055\tDD_loss_t:0.71311659\tDG_loss_t:1.33433390\n",
            "************ 34 *************\n",
            "[1:35] --- loss_seg:0.7780241370\n",
            "[1:35] --- ED_loss_s:0.41323337\tED_loss_t:0.40785682\tEG_loss_t:5.16057396\tDD_loss_s:1.27226055\tDD_loss_t:0.71311659\tDG_loss_t:1.33433390\n",
            "----------Start validating model----------\n",
            "[1:validation] --- loss_seg:0.7179981589\n",
            "************ 0 *************\n",
            "[2:36] --- loss_seg:0.7776228189\n",
            "[2:36] --- ED_loss_s:0.41323337\tED_loss_t:0.40785682\tEG_loss_t:4.09231424\tDD_loss_s:1.27226055\tDD_loss_t:0.71311659\tDG_loss_t:1.33433390\n",
            "************ 1 *************\n",
            "[2:37] --- loss_seg:0.7769315243\n",
            "[2:37] --- ED_loss_s:0.31092954\tED_loss_t:0.41635549\tEG_loss_t:4.42327929\tDD_loss_s:1.23630095\tDD_loss_t:0.64491493\tDG_loss_t:1.17156684\n",
            "************ 2 *************\n",
            "[2:38] --- loss_seg:0.7773603797\n",
            "[2:38] --- ED_loss_s:0.31092954\tED_loss_t:0.41635549\tEG_loss_t:5.27499247\tDD_loss_s:1.23630095\tDD_loss_t:0.64491493\tDG_loss_t:1.17156684\n",
            "************ 3 *************\n",
            "[2:39] --- loss_seg:0.7772727013\n",
            "[2:39] --- ED_loss_s:0.39020300\tED_loss_t:0.41594753\tEG_loss_t:4.06904459\tDD_loss_s:1.23630095\tDD_loss_t:0.64491493\tDG_loss_t:1.17156684\n",
            "************ 4 *************\n",
            "[2:40] --- loss_seg:0.7770308256\n",
            "[2:40] --- ED_loss_s:0.39020300\tED_loss_t:0.41594753\tEG_loss_t:7.08438158\tDD_loss_s:1.23630095\tDD_loss_t:0.64491493\tDG_loss_t:1.17156684\n",
            "************ 5 *************\n",
            "[2:41] --- loss_seg:0.7768957615\n",
            "[2:41] --- ED_loss_s:0.28035611\tED_loss_t:0.22226612\tEG_loss_t:5.00014019\tDD_loss_s:1.30069578\tDD_loss_t:0.64565426\tDG_loss_t:1.05890727\n",
            "************ 6 *************\n",
            "[2:42] --- loss_seg:0.7764230371\n",
            "[2:42] --- ED_loss_s:0.28035611\tED_loss_t:0.22226612\tEG_loss_t:7.02114105\tDD_loss_s:1.30069578\tDD_loss_t:0.64565426\tDG_loss_t:1.05890727\n",
            "************ 7 *************\n",
            "[2:43] --- loss_seg:0.7770977020\n",
            "[2:43] --- ED_loss_s:0.47398406\tED_loss_t:0.38820007\tEG_loss_t:5.54955530\tDD_loss_s:1.30069578\tDD_loss_t:0.64565426\tDG_loss_t:1.05890727\n",
            "************ 8 *************\n",
            "[2:44] --- loss_seg:0.7774374485\n",
            "[2:44] --- ED_loss_s:0.47398406\tED_loss_t:0.38820007\tEG_loss_t:5.70872784\tDD_loss_s:1.30069578\tDD_loss_t:0.64565426\tDG_loss_t:1.05890727\n",
            "************ 9 *************\n",
            "[2:45] --- loss_seg:0.7769454718\n",
            "[2:45] --- ED_loss_s:0.38858536\tED_loss_t:0.30501136\tEG_loss_t:5.36784887\tDD_loss_s:1.14134622\tDD_loss_t:0.65617311\tDG_loss_t:0.93395722\n",
            "************ 10 *************\n",
            "[2:46] --- loss_seg:0.7763010263\n",
            "[2:46] --- ED_loss_s:0.38858536\tED_loss_t:0.30501136\tEG_loss_t:5.62940454\tDD_loss_s:1.14134622\tDD_loss_t:0.65617311\tDG_loss_t:0.93395722\n",
            "************ 11 *************\n",
            "[2:47] --- loss_seg:0.7770718932\n",
            "[2:47] --- ED_loss_s:0.30548292\tED_loss_t:0.38831097\tEG_loss_t:4.59179163\tDD_loss_s:1.14134622\tDD_loss_t:0.65617311\tDG_loss_t:0.93395722\n",
            "************ 12 *************\n",
            "[2:48] --- loss_seg:0.7765533328\n",
            "[2:48] --- ED_loss_s:0.30548292\tED_loss_t:0.38831097\tEG_loss_t:4.54402828\tDD_loss_s:1.14134622\tDD_loss_t:0.65617311\tDG_loss_t:0.93395722\n",
            "************ 13 *************\n",
            "[2:49] --- loss_seg:0.7768727541\n",
            "[2:49] --- ED_loss_s:0.27907997\tED_loss_t:0.24986175\tEG_loss_t:4.06457615\tDD_loss_s:0.92914641\tDD_loss_t:0.66761535\tDG_loss_t:0.83934665\n",
            "************ 14 *************\n",
            "[2:50] --- loss_seg:0.7766119242\n",
            "[2:50] --- ED_loss_s:0.27907997\tED_loss_t:0.24986175\tEG_loss_t:4.30566025\tDD_loss_s:0.92914641\tDD_loss_t:0.66761535\tDG_loss_t:0.83934665\n",
            "************ 15 *************\n",
            "[2:51] --- loss_seg:0.7772154212\n",
            "[2:51] --- ED_loss_s:0.38988438\tED_loss_t:0.44404629\tEG_loss_t:6.60784674\tDD_loss_s:0.92914641\tDD_loss_t:0.66761535\tDG_loss_t:0.83934665\n",
            "************ 16 *************\n",
            "[2:52] --- loss_seg:0.7767249942\n",
            "[2:52] --- ED_loss_s:0.38988438\tED_loss_t:0.44404629\tEG_loss_t:3.94558549\tDD_loss_s:0.92914641\tDD_loss_t:0.66761535\tDG_loss_t:0.83934665\n",
            "************ 17 *************\n",
            "[2:53] --- loss_seg:0.7763580680\n",
            "[2:53] --- ED_loss_s:0.30536658\tED_loss_t:0.41612768\tEG_loss_t:5.44133282\tDD_loss_s:0.82482678\tDD_loss_t:0.68390560\tDG_loss_t:0.74986732\n",
            "************ 18 *************\n",
            "[2:54] --- loss_seg:0.7759012580\n",
            "[2:54] --- ED_loss_s:0.30536658\tED_loss_t:0.41612768\tEG_loss_t:5.39912415\tDD_loss_s:0.82482678\tDD_loss_t:0.68390560\tDG_loss_t:0.74986732\n",
            "************ 19 *************\n",
            "[2:55] --- loss_seg:0.7759909034\n",
            "[2:55] --- ED_loss_s:0.47179115\tED_loss_t:0.30660218\tEG_loss_t:4.54254675\tDD_loss_s:0.82482678\tDD_loss_t:0.68390560\tDG_loss_t:0.74986732\n",
            "************ 20 *************\n",
            "[2:56] --- loss_seg:0.7757902145\n",
            "[2:56] --- ED_loss_s:0.47179115\tED_loss_t:0.30660218\tEG_loss_t:4.20370579\tDD_loss_s:0.82482678\tDD_loss_t:0.68390560\tDG_loss_t:0.74986732\n",
            "************ 21 *************\n",
            "[2:57] --- loss_seg:0.7756705880\n",
            "[2:57] --- ED_loss_s:0.30529296\tED_loss_t:0.33274901\tEG_loss_t:6.35399628\tDD_loss_s:0.79014140\tDD_loss_t:0.71559936\tDG_loss_t:0.72235745\n",
            "************ 22 *************\n",
            "[2:58] --- loss_seg:0.7766786814\n",
            "[2:58] --- ED_loss_s:0.30529296\tED_loss_t:0.33274901\tEG_loss_t:4.38141727\tDD_loss_s:0.79014140\tDD_loss_t:0.71559936\tDG_loss_t:0.72235745\n",
            "************ 23 *************\n",
            "[2:59] --- loss_seg:0.7761868834\n",
            "[2:59] --- ED_loss_s:0.38836119\tED_loss_t:0.30557579\tEG_loss_t:4.21748543\tDD_loss_s:0.79014140\tDD_loss_t:0.71559936\tDG_loss_t:0.72235745\n",
            "************ 24 *************\n",
            "[2:60] --- loss_seg:0.7765644789\n",
            "[2:60] --- ED_loss_s:0.38836119\tED_loss_t:0.30557579\tEG_loss_t:4.05301189\tDD_loss_s:0.79014140\tDD_loss_t:0.71559936\tDG_loss_t:0.72235745\n",
            "************ 25 *************\n",
            "[2:61] --- loss_seg:0.7758999467\n",
            "[2:61] --- ED_loss_s:0.38852200\tED_loss_t:0.30528715\tEG_loss_t:5.91635227\tDD_loss_s:0.73579991\tDD_loss_t:0.78093374\tDG_loss_t:0.67741042\n",
            "************ 26 *************\n",
            "[2:62] --- loss_seg:0.7763388157\n",
            "[2:62] --- ED_loss_s:0.38852200\tED_loss_t:0.30528715\tEG_loss_t:6.47238398\tDD_loss_s:0.73579991\tDD_loss_t:0.78093374\tDG_loss_t:0.67741042\n",
            "************ 27 *************\n",
            "[2:63] --- loss_seg:0.7754721642\n",
            "[2:63] --- ED_loss_s:0.38851997\tED_loss_t:0.38854355\tEG_loss_t:6.55504751\tDD_loss_s:0.73579991\tDD_loss_t:0.78093374\tDG_loss_t:0.67741042\n",
            "************ 28 *************\n",
            "[2:64] --- loss_seg:0.7756838202\n",
            "[2:64] --- ED_loss_s:0.38851997\tED_loss_t:0.38854355\tEG_loss_t:4.15921402\tDD_loss_s:0.73579991\tDD_loss_t:0.78093374\tDG_loss_t:0.67741042\n",
            "************ 29 *************\n",
            "[2:65] --- loss_seg:0.7757079005\n",
            "[2:65] --- ED_loss_s:0.24979839\tED_loss_t:0.47165006\tEG_loss_t:5.06674862\tDD_loss_s:0.68433732\tDD_loss_t:0.77309066\tDG_loss_t:0.66208053\n",
            "************ 30 *************\n",
            "[2:66] --- loss_seg:0.7752137780\n",
            "[2:66] --- ED_loss_s:0.24979839\tED_loss_t:0.47165006\tEG_loss_t:4.29958391\tDD_loss_s:0.68433732\tDD_loss_t:0.77309066\tDG_loss_t:0.66208053\n",
            "************ 31 *************\n",
            "[2:67] --- loss_seg:0.7750979662\n",
            "[2:67] --- ED_loss_s:0.24970931\tED_loss_t:0.22415641\tEG_loss_t:5.28020573\tDD_loss_s:0.68433732\tDD_loss_t:0.77309066\tDG_loss_t:0.66208053\n",
            "************ 32 *************\n",
            "[2:68] --- loss_seg:0.7757735252\n",
            "[2:68] --- ED_loss_s:0.24970931\tED_loss_t:0.22415641\tEG_loss_t:2.67058730\tDD_loss_s:0.68433732\tDD_loss_t:0.77309066\tDG_loss_t:0.66208053\n",
            "************ 33 *************\n",
            "[2:69] --- loss_seg:0.7755963206\n",
            "[2:69] --- ED_loss_s:0.41596496\tED_loss_t:0.27749404\tEG_loss_t:6.09358740\tDD_loss_s:0.65249538\tDD_loss_t:0.83865309\tDG_loss_t:0.65023559\n",
            "************ 34 *************\n",
            "[2:70] --- loss_seg:0.7757424712\n",
            "[2:70] --- ED_loss_s:0.41596496\tED_loss_t:0.27749404\tEG_loss_t:3.79886317\tDD_loss_s:0.65249538\tDD_loss_t:0.83865309\tDG_loss_t:0.65023559\n",
            "----------Start validating model----------\n",
            "[2:validation] --- loss_seg:0.7372978806\n"
          ]
        },
        {
          "output_type": "display_data",
          "data": {
            "text/plain": [
              "<Figure size 720x576 with 1 Axes>"
            ],
            "image/png": "[encoded data removed]"
          },
          "metadata": {
            "needs_background": "light"
          }
        }
      ]
    },
    {
      "cell_type": "markdown",
      "source": [
        "##CNN"
      ],
      "metadata": {
        "id": "M52SUkcLpuVM"
      }
    },
    {
      "cell_type": "code",
      "source": [
        "torch.cuda.empty_cache()\n",
        "\n",
        "cnn_trainer=CNN_Trainers()\n",
        "cnn_trainer.train()"
      ],
      "metadata": {
        "id": "gYJv2WWmVGwy"
      },
      "execution_count": null,
      "outputs": []
    },
    {
      "cell_type": "markdown",
      "source": [
        "#Test"
      ],
      "metadata": {
        "id": "aNhVwf5pGxaN"
      }
    },
    {
      "cell_type": "code",
      "source": [
        "gaa_trainer.model_test(epoch=1)"
      ],
      "metadata": {
        "colab": {
          "base_uri": "https://localhost:8080/",
          "height": 1000
        },
        "id": "0RBWXQC_p1z7",
        "outputId": "98ca739f-2c55-47e1-d9fb-92bf52a16197"
      },
      "execution_count": 25,
      "outputs": [
        {
          "output_type": "stream",
          "name": "stdout",
          "text": [
            "----------Start testing model----------\n"
          ]
        },
        {
          "output_type": "display_data",
          "data": {
            "text/plain": [
              "<PIL.Image.Image image mode=RGB size=128x128 at 0x7FFA58F3D290>"
            ],
            "image/png": "[encoded data removed]"
          },
          "metadata": {}
        },
        {
          "output_type": "display_data",
          "data": {
            "text/plain": [
              "<PIL.Image.Image image mode=RGB size=128x128 at 0x7FFA58F14490>"
            ],
            "image/png": "[encoded data removed]"
          },
          "metadata": {}
        },
        {
          "output_type": "display_data",
          "data": {
            "text/plain": [
              "<PIL.Image.Image image mode=RGB size=128x128 at 0x7FFA585E4310>"
            ],
            "image/png": "[encoded data removed]"
          },
          "metadata": {}
        },
        {
          "output_type": "display_data",
          "data": {
            "text/plain": [
              "<PIL.Image.Image image mode=RGB size=128x128 at 0x7FFA58FFCE10>"
            ],
            "image/png": "[encoded data removed]"
          },
          "metadata": {}
        },
        {
          "output_type": "display_data",
          "data": {
            "text/plain": [
              "<PIL.Image.Image image mode=RGB size=128x128 at 0x7FFA58FFCF10>"
            ],
            "image/png": "[encoded data removed]"
          },
          "metadata": {}
        },
        {
          "output_type": "display_data",
          "data": {
            "text/plain": [
              "<PIL.Image.Image image mode=RGB size=128x128 at 0x7FFA58F3D3D0>"
            ],
            "image/png": "[encoded data removed]"
          },
          "metadata": {}
        },
        {
          "output_type": "display_data",
          "data": {
            "text/plain": [
              "<PIL.Image.Image image mode=RGB size=128x128 at 0x7FFA58F6D350>"
            ],
            "image/png": "[encoded data removed]"
          },
          "metadata": {}
        },
        {
          "output_type": "display_data",
          "data": {
            "text/plain": [
              "<PIL.Image.Image image mode=RGB size=128x128 at 0x7FFA580F8E10>"
            ],
            "image/png": "[encoded data removed]"
          },
          "metadata": {}
        },
        {
          "output_type": "display_data",
          "data": {
            "text/plain": [
              "<PIL.Image.Image image mode=RGB size=128x128 at 0x7FFA58F6D3D0>"
            ],
            "image/png": "[encoded data removed]"
          },
          "metadata": {}
        },
        {
          "output_type": "display_data",
          "data": {
            "text/plain": [
              "<PIL.Image.Image image mode=RGB size=128x128 at 0x7FFA58FFC610>"
            ],
            "image/png": "[encoded data removed]"
          },
          "metadata": {}
        },
        {
          "output_type": "display_data",
          "data": {
            "text/plain": [
              "<PIL.Image.Image image mode=RGB size=128x128 at 0x7FFA58FFCC10>"
            ],
            "image/png": "[encoded data removed]"
          },
          "metadata": {}
        },
        {
          "output_type": "display_data",
          "data": {
            "text/plain": [
              "<PIL.Image.Image image mode=RGB size=128x128 at 0x7FFA5810A390>"
            ],
            "image/png": "[encoded data removed]"
          },
          "metadata": {}
        },
        {
          "output_type": "display_data",
          "data": {
            "text/plain": [
              "<PIL.Image.Image image mode=RGB size=128x128 at 0x7FFA58F6D510>"
            ],
            "image/png": "[encoded data removed]"
          },
          "metadata": {}
        },
        {
          "output_type": "display_data",
          "data": {
            "text/plain": [
              "<PIL.Image.Image image mode=RGB size=128x128 at 0x7FFA5810A6D0>"
            ],
            "image/png": "[encoded data removed]"
          },
          "metadata": {}
        },
        {
          "output_type": "display_data",
          "data": {
            "text/plain": [
              "<PIL.Image.Image image mode=RGB size=128x128 at 0x7FFA58F3D3D0>"
            ],
            "image/png": "[encoded data removed]"
          },
          "metadata": {}
        },
        {
          "output_type": "display_data",
          "data": {
            "text/plain": [
              "<PIL.Image.Image image mode=RGB size=128x128 at 0x7FFA5810A6D0>"
            ],
            "image/png": "[encoded data removed]"
          },
          "metadata": {}
        },
        {
          "output_type": "display_data",
          "data": {
            "text/plain": [
              "<PIL.Image.Image image mode=RGB size=128x128 at 0x7FFA58FFCE10>"
            ],
            "image/png": "[encoded data removed]"
          },
          "metadata": {}
        },
        {
          "output_type": "display_data",
          "data": {
            "text/plain": [
              "<PIL.Image.Image image mode=RGB size=128x128 at 0x7FFA5810A6D0>"
            ],
            "image/png": "[encoded data removed]"
          },
          "metadata": {}
        },
        {
          "output_type": "display_data",
          "data": {
            "text/plain": [
              "<PIL.Image.Image image mode=RGB size=128x128 at 0x7FFA5810A6D0>"
            ],
            "image/png": "[encoded data removed]"
          },
          "metadata": {}
        },
        {
          "output_type": "display_data",
          "data": {
            "text/plain": [
              "<PIL.Image.Image image mode=RGB size=128x128 at 0x7FFA58FFCD10>"
            ],
            "image/png": "[encoded data removed]"
          },
          "metadata": {}
        },
        {
          "output_type": "display_data",
          "data": {
            "text/plain": [
              "<PIL.Image.Image image mode=RGB size=128x128 at 0x7FFA58F3D290>"
            ],
            "image/png": "[encoded data removed]"
          },
          "metadata": {}
        },
        {
          "output_type": "stream",
          "name": "stdout",
          "text": [
            "GAA test complete.\n"
          ]
        }
      ]
    },
    {
      "cell_type": "code",
      "source": [
        "cnn_trainer.test(epoch=20)"
      ],
      "metadata": {
        "id": "yVZsR-AkCA5K",
        "colab": {
          "base_uri": "https://localhost:8080/"
        },
        "outputId": "198aee82-7519-4ffc-a03a-7e45c9894cc2"
      },
      "execution_count": null,
      "outputs": [
        {
          "output_type": "stream",
          "name": "stdout",
          "text": [
            "----------Start testing CNN model----------\n",
            "Test Accuracy = 0.7058823529411765\n"
          ]
        }
      ]
    }
  ]
}